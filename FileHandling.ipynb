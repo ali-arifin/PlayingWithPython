{
  "cells": [
    {
      "cell_type": "markdown",
      "metadata": {
        "id": "sURvKoVb8vUd"
      },
      "source": [
        "**open() with 'r'**"
      ]
    },
    {
      "cell_type": "code",
      "execution_count": 3,
      "metadata": {
        "colab": {
          "base_uri": "https://localhost:8080/",
          "height": 35
        },
        "id": "VG4ZWXRzbJES",
        "outputId": "9c14680d-6400-45e2-f792-5c9ae07cc133"
      },
      "outputs": [
        {
          "data": {
            "text/plain": [
              "'hi\\nmy name is ali\\ni am learning python\\nbye'"
            ]
          },
          "execution_count": 3,
          "metadata": {},
          "output_type": "execute_result"
        }
      ],
      "source": [
        "f=open('C:\\\\Users\\\\Ali\\\\Desktop\\\\python\\\\ali.txt','r')\n",
        "f.read()"
      ]
    },
    {
      "cell_type": "markdown",
      "metadata": {
        "id": "4JK2A88u833M"
      },
      "source": [
        "**open() without 'r'**"
      ]
    },
    {
      "cell_type": "code",
      "execution_count": 4,
      "metadata": {
        "colab": {
          "base_uri": "https://localhost:8080/",
          "height": 35
        },
        "id": "RaBDqGDNn1Tg",
        "outputId": "8441f5fd-90c4-405b-b3ca-4da79b00d4b1"
      },
      "outputs": [
        {
          "data": {
            "text/plain": [
              "'hi\\nmy name is ali\\ni am learning python\\nbye'"
            ]
          },
          "execution_count": 4,
          "metadata": {},
          "output_type": "execute_result"
        }
      ],
      "source": [
        "f=open('C:\\\\Users\\\\Ali\\\\Desktop\\\\python\\\\ali.txt')\n",
        "f.read()"
      ]
    },
    {
      "cell_type": "markdown",
      "metadata": {
        "id": "3mv2a1aK899D"
      },
      "source": [
        "**read 5 characters**"
      ]
    },
    {
      "cell_type": "code",
      "execution_count": 5,
      "metadata": {
        "colab": {
          "base_uri": "https://localhost:8080/",
          "height": 35
        },
        "id": "ok4bUBCNoHZ3",
        "outputId": "4e727082-641d-408e-8642-7806c58f151a"
      },
      "outputs": [
        {
          "data": {
            "text/plain": [
              "'hi\\nmy'"
            ]
          },
          "execution_count": 5,
          "metadata": {},
          "output_type": "execute_result"
        }
      ],
      "source": [
        "f=open('C:\\\\Users\\\\Ali\\\\Desktop\\\\python\\\\ali.txt','r')\n",
        "f.read(5)"
      ]
    },
    {
      "cell_type": "markdown",
      "metadata": {
        "id": "D7oxVtBk9EVi"
      },
      "source": [
        "**read a line**"
      ]
    },
    {
      "cell_type": "code",
      "execution_count": 6,
      "metadata": {
        "colab": {
          "base_uri": "https://localhost:8080/",
          "height": 35
        },
        "id": "NK-glqIcolwg",
        "outputId": "20a65d20-d47e-41b3-b865-d2c1b3969ef3"
      },
      "outputs": [
        {
          "data": {
            "text/plain": [
              "'hi\\n'"
            ]
          },
          "execution_count": 6,
          "metadata": {},
          "output_type": "execute_result"
        }
      ],
      "source": [
        "f=open('C:\\\\Users\\\\Ali\\\\Desktop\\\\python\\\\ali.txt','r')\n",
        "f.readline()"
      ]
    },
    {
      "cell_type": "code",
      "execution_count": 7,
      "metadata": {
        "colab": {
          "base_uri": "https://localhost:8080/",
          "height": 35
        },
        "id": "PjirI0uPqe_C",
        "outputId": "3cbc4442-a22a-4711-8735-89079062466a"
      },
      "outputs": [
        {
          "data": {
            "text/plain": [
              "'my name is ali\\n'"
            ]
          },
          "execution_count": 7,
          "metadata": {},
          "output_type": "execute_result"
        }
      ],
      "source": [
        "f.readline()"
      ]
    },
    {
      "cell_type": "code",
      "execution_count": 8,
      "metadata": {},
      "outputs": [
        {
          "data": {
            "text/plain": [
              "'i am learning python\\n'"
            ]
          },
          "execution_count": 8,
          "metadata": {},
          "output_type": "execute_result"
        }
      ],
      "source": [
        "f.readline()"
      ]
    },
    {
      "cell_type": "markdown",
      "metadata": {
        "id": "W55mKggW9M0r"
      },
      "source": [
        "**open with 'w'**"
      ]
    },
    {
      "cell_type": "code",
      "execution_count": null,
      "metadata": {
        "id": "uIubgGcGqi4f"
      },
      "outputs": [],
      "source": [
        "f=open('C:\\\\Users\\\\Ali\\\\Desktop\\\\python\\\\arifin.txt','w')      # creates a file and writes into it\n",
        "f.write(\"hello!\")\n",
        "f.close()"
      ]
    },
    {
      "cell_type": "code",
      "execution_count": 11,
      "metadata": {
        "colab": {
          "base_uri": "https://localhost:8080/",
          "height": 35
        },
        "id": "MbFSoZLTsEYA",
        "outputId": "1ec903cd-9a74-47e3-ecba-483284e138ba"
      },
      "outputs": [
        {
          "data": {
            "text/plain": [
              "'hello!'"
            ]
          },
          "execution_count": 11,
          "metadata": {},
          "output_type": "execute_result"
        }
      ],
      "source": [
        "f=open('C:\\\\Users\\\\Ali\\\\Desktop\\\\python\\\\arifin.txt')\n",
        "f.read()"
      ]
    },
    {
      "cell_type": "markdown",
      "metadata": {
        "id": "X77uhrRy9uUL"
      },
      "source": [
        "**open with 'a'**"
      ]
    },
    {
      "cell_type": "code",
      "execution_count": 12,
      "metadata": {
        "id": "jgKRnbMBtLGs"
      },
      "outputs": [],
      "source": [
        "f=open('C:\\\\Users\\\\Ali\\\\Desktop\\\\python\\\\ali.txt','a')\n",
        "f.write(\"appending in this file hi!\")\n",
        "f.close()"
      ]
    },
    {
      "cell_type": "code",
      "execution_count": 13,
      "metadata": {
        "colab": {
          "base_uri": "https://localhost:8080/",
          "height": 35
        },
        "id": "-Q4lOrYOtMLz",
        "outputId": "b7afcf36-548b-4791-d2c6-6ea41b581e63"
      },
      "outputs": [
        {
          "data": {
            "text/plain": [
              "'hi\\nmy name is ali\\ni am learning python\\nbyeappending in this file hi!'"
            ]
          },
          "execution_count": 13,
          "metadata": {},
          "output_type": "execute_result"
        }
      ],
      "source": [
        "f=open('C:\\\\Users\\\\Ali\\\\Desktop\\\\python\\\\ali.txt')\n",
        "f.read()"
      ]
    },
    {
      "cell_type": "markdown",
      "metadata": {
        "id": "LjMyz_oa-Ck8"
      },
      "source": [
        "**making new file poems.txt**"
      ]
    },
    {
      "cell_type": "code",
      "execution_count": null,
      "metadata": {
        "id": "CXgtENOEEi82"
      },
      "outputs": [],
      "source": [
        "newfile=open('poems.txt','w')                  #this creates a file with the content written inside it\n",
        "newfile.write(\"twinkle twinkle lil star....\")\n",
        "newfile.close()\n"
      ]
    },
    {
      "cell_type": "markdown",
      "metadata": {
        "id": "A6WIwaHK-JuD"
      },
      "source": [
        "**checking whether it contains the word twinkle?**"
      ]
    },
    {
      "cell_type": "code",
      "execution_count": 17,
      "metadata": {
        "colab": {
          "base_uri": "https://localhost:8080/"
        },
        "id": "KTvP-e9KGCMO",
        "outputId": "d33588e2-ee3c-440f-c5c4-199c52157e98"
      },
      "outputs": [
        {
          "name": "stdout",
          "output_type": "stream",
          "text": [
            "yes\n"
          ]
        }
      ],
      "source": [
        "f=open('poems.txt')\n",
        "t= f.read()\n",
        "if \"twinkle\" in t:\n",
        "  print(\"yes\")\n",
        "else:\n",
        "  print(\"no\")\n",
        "f.close()\n",
        "\n"
      ]
    },
    {
      "cell_type": "markdown",
      "metadata": {
        "id": "3YG4zuEm-R-7"
      },
      "source": [
        "**same code with context manager**"
      ]
    },
    {
      "cell_type": "code",
      "execution_count": 18,
      "metadata": {
        "colab": {
          "base_uri": "https://localhost:8080/"
        },
        "id": "ty8IrF6_JOHG",
        "outputId": "94267bb1-bd8f-444a-bbb9-1aad0f25fe14"
      },
      "outputs": [
        {
          "name": "stdout",
          "output_type": "stream",
          "text": [
            "yes\n"
          ]
        }
      ],
      "source": [
        "with open('poems.txt') as f:\n",
        "  t=f.read()\n",
        "if \"twinkle\" in t:\n",
        "  print(\"yes\")\n",
        "else:\n",
        "  print(\"no\")"
      ]
    },
    {
      "cell_type": "markdown",
      "metadata": {
        "id": "K2vmi_kO-cdj"
      },
      "source": [
        "**Problem:** making new file score.txt"
      ]
    },
    {
      "cell_type": "code",
      "execution_count": 19,
      "metadata": {
        "id": "mLjzuRZqKGbW"
      },
      "outputs": [],
      "source": [
        "with open('score.txt',\"w\") as a:\n",
        "  a.write(\"69\")\n"
      ]
    },
    {
      "cell_type": "markdown",
      "metadata": {
        "id": "f9FgYEB3-qcj"
      },
      "source": [
        "**reading the file as int**"
      ]
    },
    {
      "cell_type": "code",
      "execution_count": 20,
      "metadata": {
        "colab": {
          "base_uri": "https://localhost:8080/"
        },
        "id": "711OObyQKsIb",
        "outputId": "24921c8b-2a89-4ed2-dbf5-5c640eb679a2"
      },
      "outputs": [
        {
          "data": {
            "text/plain": [
              "69"
            ]
          },
          "execution_count": 20,
          "metadata": {},
          "output_type": "execute_result"
        }
      ],
      "source": [
        "with open('score.txt') as b:\n",
        "  oldscore=int(b.read())\n",
        "oldscore"
      ]
    },
    {
      "cell_type": "markdown",
      "metadata": {
        "id": "0RdgCT0R-z0b"
      },
      "source": [
        "**updating if new score > old score**"
      ]
    },
    {
      "cell_type": "code",
      "execution_count": 21,
      "metadata": {
        "id": "3Etg9RBdPzUk"
      },
      "outputs": [],
      "source": [
        "def game():\n",
        "  return 96\n",
        "\n",
        "newscore=game()\n",
        "\n",
        "if newscore>oldscore:\n",
        "  with open('score.txt','w') as c:\n",
        "    c.write(f\"updated score is {newscore}\")\n"
      ]
    },
    {
      "cell_type": "code",
      "execution_count": 22,
      "metadata": {
        "colab": {
          "base_uri": "https://localhost:8080/",
          "height": 35
        },
        "id": "PolUKfVyRXyF",
        "outputId": "2e05c933-d73a-4587-e03a-8509c31be54f"
      },
      "outputs": [
        {
          "data": {
            "text/plain": [
              "'updated score is 96'"
            ]
          },
          "execution_count": 22,
          "metadata": {},
          "output_type": "execute_result"
        }
      ],
      "source": [
        "with open('score.txt') as d:\n",
        "  e=d.read()\n",
        "e"
      ]
    },
    {
      "cell_type": "markdown",
      "metadata": {
        "id": "FWTI8_N__sKE"
      },
      "source": [
        "**Problem: multiplication table from 2 to 20 in separate files**"
      ]
    },
    {
      "cell_type": "code",
      "execution_count": 23,
      "metadata": {
        "id": "-syu5ZS7Bjee"
      },
      "outputs": [],
      "source": [
        "for i in range(2,21):\n",
        "  x=open(f'multiplication{i}.txt','w')\n",
        "  for j in range(13):\n",
        "    x.write(f\"{i} x {j} = {i*j}\\n\")"
      ]
    },
    {
      "cell_type": "markdown",
      "metadata": {
        "id": "4Nvsd4jnI0wt"
      },
      "source": [
        "**replacing name donkey in a file**"
      ]
    },
    {
      "cell_type": "code",
      "execution_count": 24,
      "metadata": {
        "id": "gYq5WjGpI9T5"
      },
      "outputs": [],
      "source": [
        "with open('donkey.txt','w') as d:\n",
        "  d.write(\"donkey is an animal which lives in zoo\\n donkey is not good \\n ok donkey\")\n",
        "\n",
        "with open('donkey.txt') as d:\n",
        "  f=d.read()\n",
        "f=f.replace('donkey','$$$$$$$$$')\n",
        "\n",
        "with open('donkey.txt','w') as d:\n",
        "  d.write(f)"
      ]
    },
    {
      "cell_type": "code",
      "execution_count": 25,
      "metadata": {
        "colab": {
          "base_uri": "https://localhost:8080/"
        },
        "id": "r7Uf0hkzQTW3",
        "outputId": "e7c67837-89d3-466c-d59f-f14f26533e2d"
      },
      "outputs": [
        {
          "name": "stdout",
          "output_type": "stream",
          "text": [
            "yes\n"
          ]
        }
      ],
      "source": [
        "with open('donkey.txt') as q:\n",
        "  r=q.read()\n",
        "if \"lives\" in r:\n",
        "  print(\"yes\")\n",
        "else:\n",
        "  print(\"no\")"
      ]
    },
    {
      "cell_type": "markdown",
      "metadata": {
        "id": "_sMEeajkTowu"
      },
      "source": [
        "**copying a file**"
      ]
    },
    {
      "cell_type": "code",
      "execution_count": 26,
      "metadata": {
        "id": "2bW6scpfTsW_"
      },
      "outputs": [],
      "source": [
        "with open('donkey.txt') as a:\n",
        "  content=a.read()\n",
        "with open('newdonkey.txt','w') as a:\n",
        "  a.write(content)"
      ]
    },
    {
      "cell_type": "markdown",
      "metadata": {
        "id": "vSUDNysIUHsG"
      },
      "source": [
        "**checking whether the files are same**"
      ]
    },
    {
      "cell_type": "code",
      "execution_count": 27,
      "metadata": {
        "colab": {
          "base_uri": "https://localhost:8080/"
        },
        "id": "lK4JR9rQULqu",
        "outputId": "ae89db94-f280-434d-d3df-2b04296500f9"
      },
      "outputs": [
        {
          "name": "stdout",
          "output_type": "stream",
          "text": [
            "same\n"
          ]
        }
      ],
      "source": [
        "with open('donkey.txt') as a:\n",
        "  content=a.read()\n",
        "with open('newdonkey.txt') as b:\n",
        "  content1=b.read()\n",
        "if content==content1:\n",
        "  print(\"same\")\n",
        "else:\n",
        "  print(\"no\")"
      ]
    },
    {
      "cell_type": "markdown",
      "metadata": {
        "id": "H2JCjpQ_V1Fw"
      },
      "source": [
        "**renaming a file**"
      ]
    },
    {
      "cell_type": "code",
      "execution_count": 28,
      "metadata": {
        "id": "ImTm1fGfV0bA"
      },
      "outputs": [],
      "source": [
        "import os\n",
        "\n",
        "with open('newdonkey.txt') as x:\n",
        "  content=x.read()\n",
        "with open('donkeynew.txt','w') as x:\n",
        "  x.write(content)\n",
        "\n",
        "os.remove('newdonkey.txt')"
      ]
    }
  ],
  "metadata": {
    "colab": {
      "collapsed_sections": [],
      "name": "I/Os.ipynb",
      "provenance": []
    },
    "kernelspec": {
      "display_name": "Python 3",
      "name": "python3"
    },
    "language_info": {
      "codemirror_mode": {
        "name": "ipython",
        "version": 3
      },
      "file_extension": ".py",
      "mimetype": "text/x-python",
      "name": "python",
      "nbconvert_exporter": "python",
      "pygments_lexer": "ipython3",
      "version": "3.10.11"
    }
  },
  "nbformat": 4,
  "nbformat_minor": 0
}
