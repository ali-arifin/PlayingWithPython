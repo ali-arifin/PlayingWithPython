{
  "cells": [
    {
      "cell_type": "markdown",
      "metadata": {
        "id": "DI-E7B7rV3AM"
      },
      "source": [
        "***Iterating with for loop***"
      ]
    },
    {
      "cell_type": "code",
      "execution_count": 3,
      "metadata": {
        "colab": {
          "base_uri": "https://localhost:8080/"
        },
        "id": "ZCEfa1CqV9wq",
        "outputId": "2cc92bc1-5848-4a94-a246-a08350667229"
      },
      "outputs": [
        {
          "name": "stdout",
          "output_type": "stream",
          "text": [
            "0\n",
            "1\n",
            "2\n",
            "3\n"
          ]
        }
      ],
      "source": [
        "for i in range(4):\n",
        "  print(i)"
      ]
    },
    {
      "cell_type": "code",
      "execution_count": 4,
      "metadata": {
        "colab": {
          "base_uri": "https://localhost:8080/"
        },
        "id": "LPqFmfo-WaYq",
        "outputId": "508d917a-c7ea-4f83-8284-229f68f2fd4d"
      },
      "outputs": [
        {
          "name": "stdout",
          "output_type": "stream",
          "text": [
            "a\n",
            "l\n",
            "i\n"
          ]
        }
      ],
      "source": [
        "for i in \"ali\":\n",
        "  print(i)"
      ]
    },
    {
      "cell_type": "code",
      "execution_count": 5,
      "metadata": {
        "colab": {
          "base_uri": "https://localhost:8080/"
        },
        "id": "5fkXyBgGWf-5",
        "outputId": "a85abecc-d355-42aa-b7de-778f6225c8f5"
      },
      "outputs": [
        {
          "name": "stdout",
          "output_type": "stream",
          "text": [
            "1\n",
            "2\n",
            "3\n"
          ]
        }
      ],
      "source": [
        "for i in [1,2,3]:\n",
        "  print(i)"
      ]
    },
    {
      "cell_type": "markdown",
      "metadata": {
        "id": "oJjAIw43Wnpy"
      },
      "source": [
        "The reason that we can iterate over such objects is: they are special objects called iterables\n",
        "\n",
        "***Iterable***: An object with an associated iter() method.\n",
        "\n",
        "Applying iter() method to an iterable creates an ***Iterator***\n",
        "\n",
        "***Iterator*** produces next value with next()"
      ]
    },
    {
      "cell_type": "code",
      "execution_count": 11,
      "metadata": {
        "colab": {
          "base_uri": "https://localhost:8080/"
        },
        "id": "w0aBKJx_fV4_",
        "outputId": "7343ef1a-6096-421b-d1b0-34ee6f45cba1"
      },
      "outputs": [
        {
          "name": "stdout",
          "output_type": "stream",
          "text": [
            "<str_iterator object at 0x0000019D34499EA0>\n"
          ]
        }
      ],
      "source": [
        "st=\"Ali\"\n",
        "iterator=iter(st)\n",
        "print(iterator)"
      ]
    },
    {
      "cell_type": "code",
      "execution_count": 12,
      "metadata": {
        "colab": {
          "base_uri": "https://localhost:8080/",
          "height": 35
        },
        "id": "thnh0oGyYCGZ",
        "outputId": "ea31d8c8-66d0-4715-d874-4b7e38355653"
      },
      "outputs": [
        {
          "data": {
            "text/plain": [
              "'A'"
            ]
          },
          "execution_count": 12,
          "metadata": {},
          "output_type": "execute_result"
        }
      ],
      "source": [
        "st=\"Ali\"\n",
        "iterator=iter(st)\n",
        "next(iterator)"
      ]
    },
    {
      "cell_type": "code",
      "execution_count": 13,
      "metadata": {
        "colab": {
          "base_uri": "https://localhost:8080/",
          "height": 35
        },
        "id": "D34H0PB4YW9p",
        "outputId": "57d3db52-8014-4f2d-901c-8aea46661fbc"
      },
      "outputs": [
        {
          "data": {
            "text/plain": [
              "'l'"
            ]
          },
          "execution_count": 13,
          "metadata": {},
          "output_type": "execute_result"
        }
      ],
      "source": [
        "next(iterator)"
      ]
    },
    {
      "cell_type": "code",
      "execution_count": 14,
      "metadata": {
        "colab": {
          "base_uri": "https://localhost:8080/",
          "height": 35
        },
        "id": "CoetzGThYefg",
        "outputId": "346879d3-9afe-4d2e-ddd6-cc98938b48a9"
      },
      "outputs": [
        {
          "data": {
            "text/plain": [
              "'i'"
            ]
          },
          "execution_count": 14,
          "metadata": {},
          "output_type": "execute_result"
        }
      ],
      "source": [
        "next(iterator)"
      ]
    },
    {
      "cell_type": "markdown",
      "metadata": {
        "id": "jbb62tgiYqvR"
      },
      "source": [
        "***Iterating all at once***"
      ]
    },
    {
      "cell_type": "code",
      "execution_count": 16,
      "metadata": {
        "colab": {
          "base_uri": "https://localhost:8080/"
        },
        "id": "uPRMoRveYlc5",
        "outputId": "5f4ce87d-b3dd-41e4-f3ce-94617c8d6bfa"
      },
      "outputs": [
        {
          "name": "stdout",
          "output_type": "stream",
          "text": [
            "A l i\n"
          ]
        }
      ],
      "source": [
        "st=\"Ali\"\n",
        "iterator=iter(st)\n",
        "print(*iterator)"
      ]
    },
    {
      "cell_type": "markdown",
      "metadata": {
        "id": "-Prik2pAaF7o"
      },
      "source": [
        "Functions that take iterators and iterables as arguments: ***list()*** and ***sum()*** functions return a list and the sum of elements, respectively.\n"
      ]
    },
    {
      "cell_type": "code",
      "execution_count": 17,
      "metadata": {
        "colab": {
          "base_uri": "https://localhost:8080/"
        },
        "id": "12NaG0ieZ0aw",
        "outputId": "a65e1817-44d1-429b-93d7-7efcba5cabba"
      },
      "outputs": [
        {
          "name": "stdout",
          "output_type": "stream",
          "text": [
            "range(0, 5)\n"
          ]
        }
      ],
      "source": [
        "obj=range(5)\n",
        "print(obj)"
      ]
    },
    {
      "cell_type": "code",
      "execution_count": 19,
      "metadata": {
        "colab": {
          "base_uri": "https://localhost:8080/"
        },
        "id": "6CNa0-eae56J",
        "outputId": "91cea7b3-2ee9-4855-c770-b61541b538e6"
      },
      "outputs": [
        {
          "name": "stdout",
          "output_type": "stream",
          "text": [
            "[0, 1, 2, 3, 4]\n"
          ]
        }
      ],
      "source": [
        "obj_list= list(obj)\n",
        "print(obj_list)"
      ]
    },
    {
      "cell_type": "code",
      "execution_count": 20,
      "metadata": {
        "colab": {
          "base_uri": "https://localhost:8080/"
        },
        "id": "lvEh_7w5fJZJ",
        "outputId": "8e8448d4-8ce4-4360-d85c-65aca78b13b5"
      },
      "outputs": [
        {
          "name": "stdout",
          "output_type": "stream",
          "text": [
            "10\n"
          ]
        }
      ],
      "source": [
        "obj_sum= sum(obj)\n",
        "print(obj_sum)"
      ]
    },
    {
      "cell_type": "markdown",
      "metadata": {
        "id": "6yRFUNMKfx1_"
      },
      "source": [
        "***enumerate()***: takes iterable as an argument & returns a special enumerate object"
      ]
    },
    {
      "cell_type": "code",
      "execution_count": 21,
      "metadata": {
        "colab": {
          "base_uri": "https://localhost:8080/"
        },
        "id": "Ev4otutofoqn",
        "outputId": "7b5c24ec-f512-440a-f6a9-544aecb3133b"
      },
      "outputs": [
        {
          "name": "stdout",
          "output_type": "stream",
          "text": [
            "<class 'enumerate'>\n"
          ]
        }
      ],
      "source": [
        "lis=[1,2,3,4]\n",
        "e= enumerate(lis)\n",
        "print(type(e))"
      ]
    },
    {
      "cell_type": "code",
      "execution_count": 22,
      "metadata": {
        "colab": {
          "base_uri": "https://localhost:8080/"
        },
        "id": "Aoduqg4hh7IH",
        "outputId": "9a8d2d3f-1bb9-4e67-ab1d-ca90ffcd3e68"
      },
      "outputs": [
        {
          "name": "stdout",
          "output_type": "stream",
          "text": [
            "0 ali\n",
            "1 arifin\n",
            "2 nust\n",
            "3 pnec\n"
          ]
        }
      ],
      "source": [
        "lis=['ali','arifin','nust','pnec']\n",
        "for i,j in enumerate(lis):\n",
        "  print(i,j)"
      ]
    },
    {
      "cell_type": "code",
      "execution_count": 23,
      "metadata": {
        "colab": {
          "base_uri": "https://localhost:8080/"
        },
        "id": "7uE3dq6KiLze",
        "outputId": "4fb94fba-ed5f-4191-f70f-22f2ca2e4f80"
      },
      "outputs": [
        {
          "name": "stdout",
          "output_type": "stream",
          "text": [
            "1 ali\n",
            "2 arifin\n",
            "3 nust\n",
            "4 pnec\n"
          ]
        }
      ],
      "source": [
        "lis=['ali','arifin','nust','pnec']\n",
        "for i,j in enumerate(lis,start=1):\n",
        "  print(i,j)"
      ]
    },
    {
      "cell_type": "markdown",
      "metadata": {
        "id": "1q5oTQy0ijB8"
      },
      "source": [
        "***zip()***"
      ]
    },
    {
      "cell_type": "code",
      "execution_count": 24,
      "metadata": {
        "colab": {
          "base_uri": "https://localhost:8080/"
        },
        "id": "4Xb45Y78imy-",
        "outputId": "f79bf27a-ee67-4a63-b272-677ed5cb1d56"
      },
      "outputs": [
        {
          "name": "stdout",
          "output_type": "stream",
          "text": [
            "<class 'zip'>\n"
          ]
        }
      ],
      "source": [
        "lis1=['ali','ali','ali','ali']\n",
        "lis2=[1,2,3,4]\n",
        "z=zip(lis1,lis2)\n",
        "print(type(z))"
      ]
    },
    {
      "cell_type": "code",
      "execution_count": 25,
      "metadata": {
        "colab": {
          "base_uri": "https://localhost:8080/"
        },
        "id": "MqWFgpG9i-rO",
        "outputId": "54c63585-4398-4c92-c92d-5371760eec32"
      },
      "outputs": [
        {
          "name": "stdout",
          "output_type": "stream",
          "text": [
            "ali 1\n",
            "ali 2\n",
            "ali 3\n",
            "ali 4\n"
          ]
        }
      ],
      "source": [
        "\n",
        "lis1=['ali','ali','ali','ali']\n",
        "lis2=[1,2,3,4]\n",
        "for i,j in zip(lis1,lis2):\n",
        "  print(i,j)"
      ]
    },
    {
      "cell_type": "code",
      "execution_count": 26,
      "metadata": {
        "colab": {
          "base_uri": "https://localhost:8080/"
        },
        "id": "X_7trCTXnKqD",
        "outputId": "e8995b29-61bf-4d3b-f394-f063a0e1e3ef"
      },
      "outputs": [
        {
          "name": "stdout",
          "output_type": "stream",
          "text": [
            "('ali', 1) ('ali', 2) ('ali', 3) ('ali', 4)\n"
          ]
        }
      ],
      "source": [
        "lis1=['ali','ali','ali','ali']\n",
        "lis2=[1,2,3,4]\n",
        "z=zip(lis1,lis2)\n",
        "print(*z)"
      ]
    }
  ],
  "metadata": {
    "colab": {
      "collapsed_sections": [],
      "name": "Iterators.ipynb",
      "provenance": []
    },
    "kernelspec": {
      "display_name": "Python 3",
      "name": "python3"
    },
    "language_info": {
      "codemirror_mode": {
        "name": "ipython",
        "version": 3
      },
      "file_extension": ".py",
      "mimetype": "text/x-python",
      "name": "python",
      "nbconvert_exporter": "python",
      "pygments_lexer": "ipython3",
      "version": "3.10.11"
    }
  },
  "nbformat": 4,
  "nbformat_minor": 0
}
