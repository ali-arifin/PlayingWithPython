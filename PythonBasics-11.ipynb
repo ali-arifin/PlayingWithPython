{
  "cells": [
    {
      "cell_type": "markdown",
      "metadata": {},
      "source": [
        "**if-elif-else**"
      ]
    },
    {
      "cell_type": "code",
      "execution_count": 1,
      "metadata": {
        "colab": {
          "base_uri": "https://localhost:8080/"
        },
        "id": "AVT16Dko64Pp",
        "outputId": "9d63c4f7-a6b3-4428-a148-d7b116a34786"
      },
      "outputs": [
        {
          "name": "stdout",
          "output_type": "stream",
          "text": [
            "eligible for prize\n"
          ]
        }
      ],
      "source": [
        "points=int(input('enter points'))\n",
        "if points in range(51):\n",
        "  print(\"no prize\")\n",
        "elif points in range(51,101):\n",
        "  print(\"eligible for prize\")\n",
        "else:\n",
        "  print('congrats! you have won the prize!')"
      ]
    },
    {
      "cell_type": "code",
      "execution_count": 2,
      "metadata": {
        "id": "nl_O2MuF_F_s"
      },
      "outputs": [],
      "source": [
        "a=6\n",
        "if 2<=a<=5:\n",
        "  print(\"hi\")"
      ]
    },
    {
      "cell_type": "code",
      "execution_count": 3,
      "metadata": {},
      "outputs": [
        {
          "name": "stdout",
          "output_type": "stream",
          "text": [
            "hi\n"
          ]
        }
      ],
      "source": [
        "a=5\n",
        "if 2<=a<=5:\n",
        "  print(\"hi\")"
      ]
    },
    {
      "cell_type": "code",
      "execution_count": 4,
      "metadata": {
        "colab": {
          "base_uri": "https://localhost:8080/"
        },
        "id": "3RKwmutGFrmM",
        "outputId": "dd15e80f-0edd-4661-ed81-6e22808fbe9b"
      },
      "outputs": [
        {
          "name": "stdout",
          "output_type": "stream",
          "text": [
            "Congratulations! You won a wafer-thin mint!\n"
          ]
        }
      ],
      "source": [
        "points = 174  \n",
        "prize=None\n",
        "\n",
        "if points <=50:\n",
        "    prize='wooden rabbit'\n",
        "elif 151 <= points <= 180:\n",
        "    prize='wafer-thin mint'\n",
        "elif points>180:\n",
        "    prize='penguin'\n",
        "\n",
        "if prize:\n",
        "    result=\"Congratulations! You won a {}!\".format(prize)\n",
        "else:\n",
        "    result=\"Oh dear, no prize this time.\"\n",
        "\n",
        "print(result)"
      ]
    },
    {
      "cell_type": "code",
      "execution_count": 5,
      "metadata": {
        "colab": {
          "base_uri": "https://localhost:8080/"
        },
        "id": "3DKLWXYwFuv0",
        "outputId": "6ee7ae03-5791-41c2-8fec-e7cc34ead3ee"
      },
      "outputs": [
        {
          "name": "stdout",
          "output_type": "stream",
          "text": [
            "hello\n"
          ]
        }
      ],
      "source": [
        "a=None\n",
        "if a:\n",
        "  print('hi')\n",
        "b='string'\n",
        "if b:\n",
        "  print('hello')"
      ]
    },
    {
      "cell_type": "markdown",
      "metadata": {},
      "source": [
        "**create list by list()**"
      ]
    },
    {
      "cell_type": "code",
      "execution_count": 6,
      "metadata": {
        "colab": {
          "base_uri": "https://localhost:8080/"
        },
        "id": "DkpsorlXJcN9",
        "outputId": "c3bdc562-dc04-4a8e-8701-15d5a337f886"
      },
      "outputs": [
        {
          "name": "stdout",
          "output_type": "stream",
          "text": [
            "[0, 1, 2, 3, 4]\n"
          ]
        }
      ],
      "source": [
        "print(list(range(5)))"
      ]
    },
    {
      "cell_type": "code",
      "execution_count": 7,
      "metadata": {
        "colab": {
          "base_uri": "https://localhost:8080/"
        },
        "id": "InG3tv8XVFNP",
        "outputId": "ced68d74-0808-40ad-f0b5-aa5e5adbb505"
      },
      "outputs": [
        {
          "name": "stdout",
          "output_type": "stream",
          "text": [
            "[]\n"
          ]
        }
      ],
      "source": [
        "print(list(range(0,-5)))"
      ]
    },
    {
      "cell_type": "code",
      "execution_count": 9,
      "metadata": {},
      "outputs": [
        {
          "name": "stdout",
          "output_type": "stream",
          "text": [
            "[0, -1, -2, -3, -4]\n"
          ]
        }
      ],
      "source": [
        "print(list(range(0,-5,-1)))"
      ]
    },
    {
      "cell_type": "code",
      "execution_count": 8,
      "metadata": {},
      "outputs": [
        {
          "name": "stdout",
          "output_type": "stream",
          "text": [
            "[-5, -4, -3, -2, -1]\n"
          ]
        }
      ],
      "source": [
        "print(list(range(-5,0)))"
      ]
    },
    {
      "cell_type": "markdown",
      "metadata": {},
      "source": [
        "**playing with list and string**"
      ]
    },
    {
      "cell_type": "code",
      "execution_count": 10,
      "metadata": {
        "colab": {
          "base_uri": "https://localhost:8080/"
        },
        "id": "KAMuAv9UM_VL",
        "outputId": "749c7798-7ad3-42ba-e21f-c47be44a8cf2"
      },
      "outputs": [
        {
          "name": "stdout",
          "output_type": "stream",
          "text": [
            "['joey_tribbiani', 'monica_geller', 'chandler_bing', 'phoebe_buffay']\n"
          ]
        }
      ],
      "source": [
        "usernames = [\"Joey Tribbiani\", \"Monica Geller\", \"Chandler Bing\", \"Phoebe Buffay\"]\n",
        "\n",
        "for i in range(len(usernames)):\n",
        "    usernames[i]=usernames[i].lower().replace(' ','_')\n",
        "print(usernames)"
      ]
    },
    {
      "cell_type": "code",
      "execution_count": 11,
      "metadata": {
        "colab": {
          "base_uri": "https://localhost:8080/"
        },
        "id": "0cW-0pCk7kaR",
        "outputId": "fb3dd287-4ff9-49ce-f167-345c688c63a9"
      },
      "outputs": [
        {
          "name": "stdout",
          "output_type": "stream",
          "text": [
            "3\n"
          ]
        }
      ],
      "source": [
        "tokens = ['<greeting>', 'Hello World!', '</greeting>', '<hello>']\n",
        "count = 0\n",
        "\n",
        "for i in tokens:\n",
        "    if i[0]=='<' and i[-1]=='>':\n",
        "      count+=1\n",
        "\n",
        "print(count)"
      ]
    },
    {
      "cell_type": "code",
      "execution_count": 12,
      "metadata": {
        "colab": {
          "base_uri": "https://localhost:8080/",
          "height": 35
        },
        "id": "Ed4rIdigT2m8",
        "outputId": "5b52c490-f8bb-48ac-ba6d-beb73a89fcb2"
      },
      "outputs": [
        {
          "data": {
            "text/plain": [
              "'ali---arifin---25'"
            ]
          },
          "execution_count": 12,
          "metadata": {},
          "output_type": "execute_result"
        }
      ],
      "source": [
        "lis=['ali','arifin','25']\n",
        "'---'.join(lis)"
      ]
    },
    {
      "cell_type": "markdown",
      "metadata": {},
      "source": [
        "**create list from dictionary**"
      ]
    },
    {
      "cell_type": "code",
      "execution_count": 13,
      "metadata": {
        "colab": {
          "base_uri": "https://localhost:8080/"
        },
        "id": "StwQtnHs9RGh",
        "outputId": "aa119de5-3093-4476-9319-803993f33dd8"
      },
      "outputs": [
        {
          "data": {
            "text/plain": [
              "{'a': 2, 's': 1, 'd': 1, 'f': 4}"
            ]
          },
          "execution_count": 13,
          "metadata": {},
          "output_type": "execute_result"
        }
      ],
      "source": [
        "lis=['a','a','s','d','f','f','f','f']\n",
        "emptydic={}\n",
        "for i in lis:\n",
        "  if i not in emptydic.keys():\n",
        "    emptydic[i]=1\n",
        "  else:\n",
        "    emptydic[i]+=1\n",
        "emptydic\n",
        "\n"
      ]
    },
    {
      "cell_type": "code",
      "execution_count": 14,
      "metadata": {
        "colab": {
          "base_uri": "https://localhost:8080/"
        },
        "id": "iS99rnIvAKMq",
        "outputId": "a65f8df2-303d-48a9-889d-d424df58db32"
      },
      "outputs": [
        {
          "data": {
            "text/plain": [
              "{'a': 2, 's': 1, 'd': 1, 'f': 4}"
            ]
          },
          "execution_count": 14,
          "metadata": {},
          "output_type": "execute_result"
        }
      ],
      "source": [
        "lis=['a','a','s','d','f','f','f','f']\n",
        "emptydic={}\n",
        "for i in lis:\n",
        "  if i in emptydic.keys():\n",
        "    emptydic[i]+=1\n",
        "  else:\n",
        "    emptydic[i]=1\n",
        "emptydic\n"
      ]
    },
    {
      "cell_type": "code",
      "execution_count": 15,
      "metadata": {
        "colab": {
          "base_uri": "https://localhost:8080/"
        },
        "id": "1WhDHcCyAShK",
        "outputId": "fef3732a-083c-4493-dd2c-9dd27c83e9b3"
      },
      "outputs": [
        {
          "data": {
            "text/plain": [
              "{'a': 2, 's': 1, 'd': 1, 'f': 4}"
            ]
          },
          "execution_count": 15,
          "metadata": {},
          "output_type": "execute_result"
        }
      ],
      "source": [
        "lis=['a','a','s','d','f','f','f','f']\n",
        "emptydic={}\n",
        "for i in lis:\n",
        "  if i in emptydic:\n",
        "    emptydic[i]+=1\n",
        "  else:\n",
        "    emptydic[i]=1\n",
        "emptydic"
      ]
    },
    {
      "cell_type": "markdown",
      "metadata": {},
      "source": [
        "The **get()** method returns the value of the item with the specified key.\n",
        "\n",
        "Syntax : Dict.get(key, Value)\n",
        "\n",
        "Parameters: \n",
        "\n",
        "key: The key name of the item you want to return the value from\n",
        "\n",
        "Value: (Optional) Value to be returned if the key is not found. The default value is None."
      ]
    },
    {
      "cell_type": "code",
      "execution_count": 16,
      "metadata": {},
      "outputs": [
        {
          "data": {
            "text/plain": [
              "25"
            ]
          },
          "execution_count": 16,
          "metadata": {},
          "output_type": "execute_result"
        }
      ],
      "source": [
        "a={'name':'ali','age':25}\n",
        "a.get('age')"
      ]
    },
    {
      "cell_type": "code",
      "execution_count": 18,
      "metadata": {
        "colab": {
          "base_uri": "https://localhost:8080/"
        },
        "id": "PaJciAU780Sp",
        "outputId": "6c2a53df-bf20-45e9-f8fb-1992c8dbd725"
      },
      "outputs": [
        {
          "data": {
            "text/plain": [
              "26"
            ]
          },
          "execution_count": 18,
          "metadata": {},
          "output_type": "execute_result"
        }
      ],
      "source": [
        "a={'name':'ali','age':25}\n",
        "a.get('age',0) +1"
      ]
    },
    {
      "cell_type": "code",
      "execution_count": 19,
      "metadata": {
        "colab": {
          "base_uri": "https://localhost:8080/"
        },
        "id": "ts0r_lOlA9DZ",
        "outputId": "734fb57e-5482-48b9-b840-b23b8c2bf8fb"
      },
      "outputs": [
        {
          "data": {
            "text/plain": [
              "{'a': 2, 's': 1, 'd': 1, 'f': 4}"
            ]
          },
          "execution_count": 19,
          "metadata": {},
          "output_type": "execute_result"
        }
      ],
      "source": [
        "lis=['a','a','s','d','f','f','f','f']\n",
        "emptydic={}\n",
        "for i in lis:\n",
        "    emptydic[i] = emptydic.get(i, 0) + 1\n",
        "emptydic"
      ]
    },
    {
      "cell_type": "markdown",
      "metadata": {},
      "source": [
        "**dictionary**"
      ]
    },
    {
      "cell_type": "code",
      "execution_count": 20,
      "metadata": {
        "colab": {
          "base_uri": "https://localhost:8080/"
        },
        "id": "-8XFU6WxCKUC",
        "outputId": "f9f9beca-7371-43e7-b13f-c6315687c1e1"
      },
      "outputs": [
        {
          "name": "stdout",
          "output_type": "stream",
          "text": [
            "name\n",
            "age\n"
          ]
        }
      ],
      "source": [
        "a={'name':'ali','age':25}\n",
        "for i in a:\n",
        "  print(i)"
      ]
    },
    {
      "cell_type": "code",
      "execution_count": 21,
      "metadata": {
        "colab": {
          "base_uri": "https://localhost:8080/"
        },
        "id": "fomfbeR6DamU",
        "outputId": "d070e06b-7f24-404a-913e-7aec1f7d7228"
      },
      "outputs": [
        {
          "name": "stdout",
          "output_type": "stream",
          "text": [
            "('name', 'ali')\n",
            "('age', 25)\n"
          ]
        }
      ],
      "source": [
        "for i in a.items():\n",
        "  print(i)"
      ]
    },
    {
      "cell_type": "code",
      "execution_count": 22,
      "metadata": {
        "colab": {
          "base_uri": "https://localhost:8080/"
        },
        "id": "bG-gfHqhm6Pc",
        "outputId": "9b9e435c-9271-43d7-d5f6-eb35c82ed141"
      },
      "outputs": [
        {
          "name": "stdout",
          "output_type": "stream",
          "text": [
            "23\n"
          ]
        }
      ],
      "source": [
        "result = 0\n",
        "basket_items = {'apples': 4, 'oranges': 19, 'kites': 3, 'sandwiches': 8}\n",
        "fruits = ['apples', 'oranges', 'pears', 'peaches', 'grapes', 'bananas']\n",
        "\n",
        "for i in basket_items:\n",
        "  if i in fruits:\n",
        "    result+=basket_items[i]\n",
        "\n",
        "print(result)"
      ]
    },
    {
      "cell_type": "code",
      "execution_count": 23,
      "metadata": {
        "colab": {
          "base_uri": "https://localhost:8080/"
        },
        "id": "2jH6A-GnrC9D",
        "outputId": "bda30523-493c-4717-e643-3b00cfe6deab"
      },
      "outputs": [
        {
          "name": "stdout",
          "output_type": "stream",
          "text": [
            "23\n"
          ]
        }
      ],
      "source": [
        "result = 0\n",
        "basket_items = {'apples': 4, 'oranges': 19, 'kites': 3, 'sandwiches': 8}\n",
        "fruits = ['apples', 'oranges', 'pears', 'peaches', 'grapes', 'bananas']\n",
        "\n",
        "for i,j in basket_items.items():\n",
        "   if i in fruits:\n",
        "       result += j\n",
        "print(result)\n"
      ]
    },
    {
      "cell_type": "markdown",
      "metadata": {},
      "source": [
        "**find factorial**"
      ]
    },
    {
      "cell_type": "code",
      "execution_count": 25,
      "metadata": {
        "colab": {
          "base_uri": "https://localhost:8080/"
        },
        "id": "Hq2F8CB3thS7",
        "outputId": "c4494636-59c1-4263-aa3e-0953e226c852"
      },
      "outputs": [
        {
          "name": "stdout",
          "output_type": "stream",
          "text": [
            "factorial of 4 is 24\n"
          ]
        }
      ],
      "source": [
        "num=4\n",
        "fact=1\n",
        "for i in range(2,num+1):\n",
        "  fact=fact*i\n",
        "print(f'factorial of {num} is {fact}')"
      ]
    },
    {
      "cell_type": "code",
      "execution_count": null,
      "metadata": {
        "colab": {
          "base_uri": "https://localhost:8080/"
        },
        "id": "13b43t3IuAvz",
        "outputId": "8c63b299-7f20-4fc7-9b28-4ca16b87f387"
      },
      "outputs": [
        {
          "name": "stdout",
          "output_type": "stream",
          "text": [
            "factorial of 1 is 24\n"
          ]
        }
      ],
      "source": [
        "num=4\n",
        "fact=1\n",
        "while num>1:\n",
        "  fact*=num\n",
        "  num-=1\n",
        "print(f'factorial of {num} is {fact}')   # wrong output!"
      ]
    },
    {
      "cell_type": "markdown",
      "metadata": {},
      "source": [
        "there's a small logic issue in the final print statement above.\n",
        "\n",
        "It's updating num in the loop, so by the time we reach the print() statement, num is no longer 4 — it's been decremented down to 1\n",
        "\n",
        "To fix this:"
      ]
    },
    {
      "cell_type": "code",
      "execution_count": 28,
      "metadata": {},
      "outputs": [
        {
          "name": "stdout",
          "output_type": "stream",
          "text": [
            "factorial of 4 is 24\n"
          ]
        }
      ],
      "source": [
        "num = 4\n",
        "original_num = num\n",
        "fact = 1\n",
        "while num > 1:\n",
        "    fact *= num\n",
        "    num -= 1\n",
        "print(f'factorial of {original_num} is {fact}')"
      ]
    },
    {
      "cell_type": "markdown",
      "metadata": {},
      "source": [
        "**a recursive function to calculate the factorial of a number**"
      ]
    },
    {
      "cell_type": "code",
      "execution_count": 32,
      "metadata": {
        "colab": {
          "base_uri": "https://localhost:8080/"
        },
        "id": "tHQsW-sfyVVc",
        "outputId": "780f3079-56a6-49d9-b96b-2af5f53cc63e"
      },
      "outputs": [
        {
          "name": "stdout",
          "output_type": "stream",
          "text": [
            "Factorial of 4 is 24\n"
          ]
        }
      ],
      "source": [
        "def fact(n):\n",
        "  if n in [0,1]:\n",
        "    return 1\n",
        "  return n*fact(n-1)\n",
        "\n",
        "n = 4\n",
        "result = fact(n)\n",
        "print(f\"Factorial of {n} is {result}\")"
      ]
    },
    {
      "cell_type": "markdown",
      "metadata": {},
      "source": [
        "**largest perfect square less than a given limit**"
      ]
    },
    {
      "cell_type": "code",
      "execution_count": 34,
      "metadata": {
        "colab": {
          "base_uri": "https://localhost:8080/"
        },
        "id": "Xs-CFTwpWapc",
        "outputId": "a486a50a-0402-4592-a4fa-a3f65de4cdf6"
      },
      "outputs": [
        {
          "name": "stdout",
          "output_type": "stream",
          "text": [
            "49\n"
          ]
        }
      ],
      "source": [
        "limit = 50\n",
        "num=0\n",
        "\n",
        "while (num+1)**2<limit:\n",
        "  num+=1\n",
        "  \n",
        "square=num**2\n",
        "print(square)"
      ]
    },
    {
      "cell_type": "markdown",
      "metadata": {},
      "source": [
        "**prime number checker**"
      ]
    },
    {
      "cell_type": "code",
      "execution_count": 38,
      "metadata": {
        "colab": {
          "base_uri": "https://localhost:8080/"
        },
        "id": "SdbqX5_s6Hp2",
        "outputId": "50249de4-6ee4-4a08-fbf1-9ec95ce893d0"
      },
      "outputs": [
        {
          "name": "stdout",
          "output_type": "stream",
          "text": [
            "26 is NOT a prime number, because 2 is a factor of 26\n",
            "39 is NOT a prime number, because 3 is a factor of 39\n",
            "51 is NOT a prime number, because 3 is a factor of 51\n",
            "53 is a prime number\n",
            "57 is NOT a prime number, because 3 is a factor of 57\n",
            "79 is a prime number\n",
            "85 is NOT a prime number, because 5 is a factor of 85\n",
            "2 is a prime number\n"
          ]
        }
      ],
      "source": [
        "check_prime = [26, 39, 51, 53, 57, 79, 85, 2]\n",
        "\n",
        "for i in check_prime:\n",
        "    for j in range(2,i):\n",
        "        if i%j==0:\n",
        "            print(f\"{i} is NOT a prime number, because {j} is a factor of {i}\")\n",
        "            break\n",
        "    else:\n",
        "        print(f\"{i} is a prime number\")"
      ]
    },
    {
      "cell_type": "code",
      "execution_count": 41,
      "metadata": {},
      "outputs": [
        {
          "name": "stdout",
          "output_type": "stream",
          "text": [
            "26 is NOT a prime number, because 2 is a factor of 26\n",
            "39 is NOT a prime number, because 3 is a factor of 39\n",
            "51 is NOT a prime number, because 3 is a factor of 51\n",
            "53 is a prime number\n",
            "57 is NOT a prime number, because 3 is a factor of 57\n",
            "79 is a prime number\n",
            "85 is NOT a prime number, because 5 is a factor of 85\n",
            "2 is a prime number\n"
          ]
        }
      ],
      "source": [
        "check_prime = [26, 39, 51, 53, 57, 79, 85, 2]\n",
        "\n",
        "for i in check_prime:\n",
        "    for j in range(2,int(i**0.5)):      # this is more efficient, no need to loop through i\n",
        "        if i%j==0:\n",
        "            print(f\"{i} is NOT a prime number, because {j} is a factor of {i}\")\n",
        "            break\n",
        "    else:\n",
        "        print(f\"{i} is a prime number\")"
      ]
    },
    {
      "cell_type": "markdown",
      "metadata": {
        "id": "ByYEP6KCtWkV"
      },
      "source": [
        "**zipping without zip function**"
      ]
    },
    {
      "cell_type": "code",
      "execution_count": 42,
      "metadata": {
        "colab": {
          "base_uri": "https://localhost:8080/"
        },
        "id": "Og_KsUSn6lUO",
        "outputId": "25887e68-e624-478e-9cf2-84f9a630e94f"
      },
      "outputs": [
        {
          "name": "stdout",
          "output_type": "stream",
          "text": [
            "name:ali\n",
            "place:pakistan\n",
            "animal:cat\n"
          ]
        }
      ],
      "source": [
        "x=['name','place','animal']\n",
        "y=['ali','pakistan','cat']\n",
        "for i in range(len(x)):\n",
        "  print(x[i]+':'+ y[i])"
      ]
    },
    {
      "cell_type": "markdown",
      "metadata": {
        "id": "5hRnTgpvtpN5"
      },
      "source": [
        "**zipping with zip**"
      ]
    },
    {
      "cell_type": "code",
      "execution_count": 43,
      "metadata": {
        "colab": {
          "base_uri": "https://localhost:8080/"
        },
        "id": "e7DPdyXiDJwL",
        "outputId": "ed9cfcc5-ed07-4fd4-9bac-020cffc3fd7e"
      },
      "outputs": [
        {
          "name": "stdout",
          "output_type": "stream",
          "text": [
            "name:ali\n",
            "place:pakistan\n",
            "animal:cat\n"
          ]
        }
      ],
      "source": [
        "for i,j in zip(x,y):\n",
        "  print(i+':'+j)"
      ]
    },
    {
      "cell_type": "markdown",
      "metadata": {
        "id": "CeSDsheZturk"
      },
      "source": [
        "**zip produces tuple!**"
      ]
    },
    {
      "cell_type": "code",
      "execution_count": 44,
      "metadata": {
        "colab": {
          "base_uri": "https://localhost:8080/"
        },
        "id": "JeupiH8L7DUb",
        "outputId": "5fb3b6b5-23e0-4268-85b7-7138ddee0f6f"
      },
      "outputs": [
        {
          "name": "stdout",
          "output_type": "stream",
          "text": [
            "('name', 'ali')\n",
            "('place', 'pakistan')\n",
            "('animal', 'cat')\n"
          ]
        }
      ],
      "source": [
        "for i in zip(x,y):\n",
        "  print(i)"
      ]
    },
    {
      "cell_type": "code",
      "execution_count": 45,
      "metadata": {
        "colab": {
          "base_uri": "https://localhost:8080/"
        },
        "id": "FK-Gwe85_B3O",
        "outputId": "90eaddd4-b235-4607-c43e-1a8a1dc1864a"
      },
      "outputs": [
        {
          "data": {
            "text/plain": [
              "[('name', 'ali'), ('place', 'pakistan'), ('animal', 'cat')]"
            ]
          },
          "execution_count": 45,
          "metadata": {},
          "output_type": "execute_result"
        }
      ],
      "source": [
        "a=list(zip(x,y))\n",
        "a"
      ]
    },
    {
      "cell_type": "markdown",
      "metadata": {
        "id": "9C4UQgolt4XU"
      },
      "source": [
        "**unzipping**"
      ]
    },
    {
      "cell_type": "code",
      "execution_count": 46,
      "metadata": {
        "colab": {
          "base_uri": "https://localhost:8080/"
        },
        "id": "X2uhibTB_v-m",
        "outputId": "a9feadcc-c17e-4a4f-b46c-d616896de23f"
      },
      "outputs": [
        {
          "name": "stdout",
          "output_type": "stream",
          "text": [
            "('name', 'place', 'animal')\n",
            "('ali', 'pakistan', 'cat')\n"
          ]
        }
      ],
      "source": [
        "key, value = zip(*a)\n",
        "print(key,value,sep='\\n')"
      ]
    },
    {
      "cell_type": "code",
      "execution_count": 47,
      "metadata": {
        "colab": {
          "base_uri": "https://localhost:8080/"
        },
        "id": "LmpMDuveC8vE",
        "outputId": "cd8258ef-ed30-4dbb-b531-899f5e3a10b2"
      },
      "outputs": [
        {
          "name": "stdout",
          "output_type": "stream",
          "text": [
            "a: 1\n",
            "b: 2\n",
            "c: 3\n"
          ]
        }
      ],
      "source": [
        "letters = ['a', 'b', 'c']\n",
        "nums = [1, 2, 3]\n",
        "\n",
        "for letter, num in zip(letters, nums):\n",
        "    print(\"{}: {}\".format(letter, num))"
      ]
    },
    {
      "cell_type": "code",
      "execution_count": 48,
      "metadata": {
        "colab": {
          "base_uri": "https://localhost:8080/"
        },
        "id": "KMW-UemiH9zF",
        "outputId": "f313c1be-f733-48e0-9936-ef769c798821"
      },
      "outputs": [
        {
          "data": {
            "text/plain": [
              "['F: 23, 677, 4',\n",
              " 'J: 53, 233, 16',\n",
              " 'A: 2, 405, -6',\n",
              " 'Q: -12, 433, -42',\n",
              " 'Y: 95, 905, 3',\n",
              " 'B: 103, 376, -6',\n",
              " 'W: 14, 432, 23',\n",
              " 'X: -5, 445, -1']"
            ]
          },
          "execution_count": 48,
          "metadata": {},
          "output_type": "execute_result"
        }
      ],
      "source": [
        "x_coord = [23, 53, 2, -12, 95, 103, 14, -5]\n",
        "y_coord = [677, 233, 405, 433, 905, 376, 432, 445]\n",
        "z_coord = [4, 16, -6, -42, 3, -6, 23, -1]\n",
        "labels = [\"F\", \"J\", \"A\", \"Q\", \"Y\", \"B\", \"W\", \"X\"]\n",
        "\n",
        "points = []\n",
        "for i,j,k,l in zip(labels,x_coord,y_coord,z_coord):\n",
        "    string=f\"{i}: {j}, {k}, {l}\"\n",
        "    points.append(string)\n",
        "points"
      ]
    },
    {
      "cell_type": "code",
      "execution_count": 49,
      "metadata": {
        "colab": {
          "base_uri": "https://localhost:8080/"
        },
        "id": "SiVDeBAwOoXd",
        "outputId": "96c6e1b9-bd51-4e4d-ced3-83827d40f331"
      },
      "outputs": [
        {
          "data": {
            "text/plain": [
              "['F: 23, 677, 4',\n",
              " 'J: 53, 233, 16',\n",
              " 'A: 2, 405, -6',\n",
              " 'Q: -12, 433, -42',\n",
              " 'Y: 95, 905, 3',\n",
              " 'B: 103, 376, -6',\n",
              " 'W: 14, 432, 23',\n",
              " 'X: -5, 445, -1']"
            ]
          },
          "execution_count": 49,
          "metadata": {},
          "output_type": "execute_result"
        }
      ],
      "source": [
        "x_coord = [23, 53, 2, -12, 95, 103, 14, -5]\n",
        "y_coord = [677, 233, 405, 433, 905, 376, 432, 445]\n",
        "z_coord = [4, 16, -6, -42, 3, -6, 23, -1]\n",
        "labels = [\"F\", \"J\", \"A\", \"Q\", \"Y\", \"B\", \"W\", \"X\"]\n",
        "\n",
        "points = []\n",
        "for point in zip(labels, x_coord, y_coord, z_coord):\n",
        "    points.append(\"{}: {}, {}, {}\".format(*point))\n",
        "\n",
        "points"
      ]
    },
    {
      "cell_type": "code",
      "execution_count": 50,
      "metadata": {
        "colab": {
          "base_uri": "https://localhost:8080/"
        },
        "id": "tmrsmfL3I_xk",
        "outputId": "682070e2-a05b-4a96-b863-13b512d2ebbd"
      },
      "outputs": [
        {
          "name": "stdout",
          "output_type": "stream",
          "text": [
            "{'Barney': 72, 'Robin': 68, 'Ted': 72, 'Lily': 66, 'Marshall': 76}\n"
          ]
        }
      ],
      "source": [
        "cast_names = [\"Barney\", \"Robin\", \"Ted\", \"Lily\", \"Marshall\"]\n",
        "cast_heights = [72, 68, 72, 66, 76]\n",
        "\n",
        "cast = {}\n",
        "for i in zip(cast_names,cast_heights):\n",
        "    cast[i[0]]=i[1]\n",
        "print(cast)"
      ]
    },
    {
      "cell_type": "markdown",
      "metadata": {
        "id": "mbrNDF5Yu8-u"
      },
      "source": [
        "**dict function**"
      ]
    },
    {
      "cell_type": "code",
      "execution_count": 51,
      "metadata": {
        "colab": {
          "base_uri": "https://localhost:8080/"
        },
        "id": "y4YO0EZlubC7",
        "outputId": "3cac7313-f267-4c58-d8c7-9998f52b574d"
      },
      "outputs": [
        {
          "name": "stdout",
          "output_type": "stream",
          "text": [
            "{'Barney': 72, 'Robin': 68, 'Ted': 72, 'Lily': 66, 'Marshall': 76}\n"
          ]
        }
      ],
      "source": [
        "cast_names = [\"Barney\", \"Robin\", \"Ted\", \"Lily\", \"Marshall\"]\n",
        "cast_heights = [72, 68, 72, 66, 76]\n",
        "\n",
        "cast= dict(zip(cast_names,cast_heights))\n",
        "print(cast)"
      ]
    },
    {
      "cell_type": "markdown",
      "metadata": {
        "id": "qKd_d6Qes3EB"
      },
      "source": [
        "unzipping"
      ]
    },
    {
      "cell_type": "code",
      "execution_count": 52,
      "metadata": {
        "colab": {
          "base_uri": "https://localhost:8080/"
        },
        "id": "dw98nUDFJLVM",
        "outputId": "b026d844-23ae-4aa1-b72e-573eb53cd838"
      },
      "outputs": [
        {
          "name": "stdout",
          "output_type": "stream",
          "text": [
            "('Barney', 'Robin', 'Ted', 'Lily', 'Marshall')\n",
            "(72, 68, 72, 66, 76)\n"
          ]
        }
      ],
      "source": [
        "cast = ((\"Barney\", 72), (\"Robin\", 68), (\"Ted\", 72), (\"Lily\", 66), (\"Marshall\", 76))\n",
        "\n",
        "names,heights=zip(*cast)\n",
        "\n",
        "print(names)\n",
        "print(heights)"
      ]
    },
    {
      "cell_type": "markdown",
      "metadata": {
        "id": "sSxUNed0sQnS"
      },
      "source": [
        "**converting 4x3 matrix into 3x4 by zip and tuple function**"
      ]
    },
    {
      "cell_type": "code",
      "execution_count": 53,
      "metadata": {
        "colab": {
          "base_uri": "https://localhost:8080/"
        },
        "id": "uADnynX6K6EN",
        "outputId": "3acb03e5-c1f1-437d-d36e-5864d10c26e3"
      },
      "outputs": [
        {
          "name": "stdout",
          "output_type": "stream",
          "text": [
            "((0, 3, 6, 9), (1, 4, 7, 10), (2, 5, 8, 11))\n"
          ]
        }
      ],
      "source": [
        "data = ((0, 1, 2), (3, 4, 5), (6, 7, 8), (9, 10, 11))\n",
        "\n",
        "data_transpose = tuple(zip((0, 1, 2), (3, 4, 5), (6, 7, 8), (9, 10, 11)))\n",
        "print(data_transpose)"
      ]
    },
    {
      "cell_type": "markdown",
      "metadata": {
        "id": "S3ILgl9RsGTh"
      },
      "source": [
        "**using enumerate does not need range(len)!**"
      ]
    },
    {
      "cell_type": "code",
      "execution_count": 54,
      "metadata": {
        "colab": {
          "base_uri": "https://localhost:8080/"
        },
        "id": "pw0MGCsBLUJp",
        "outputId": "35461e20-4803-48d3-8ebf-8165cdbf22d5"
      },
      "outputs": [
        {
          "name": "stdout",
          "output_type": "stream",
          "text": [
            "['Barney Stinson 72', 'Robin Scherbatsky 68', 'Ted Mosby 72', 'Lily Aldrin 66', 'Marshall Eriksen 76']\n"
          ]
        }
      ],
      "source": [
        "cast = [\"Barney Stinson\", \"Robin Scherbatsky\", \"Ted Mosby\", \"Lily Aldrin\", \"Marshall Eriksen\"]\n",
        "heights = [72, 68, 72, 66, 76]\n",
        "\n",
        "for i in range(len(cast)):\n",
        "  cast[i]=cast[i]+' '+ str(heights[i])\n",
        "print(cast)    \n"
      ]
    },
    {
      "cell_type": "code",
      "execution_count": 55,
      "metadata": {
        "colab": {
          "base_uri": "https://localhost:8080/"
        },
        "id": "KYlcNRxdNd-T",
        "outputId": "723c63c7-7741-4ff4-d179-22fbb2fa07b1"
      },
      "outputs": [
        {
          "name": "stdout",
          "output_type": "stream",
          "text": [
            "['Barney Stinson 72', 'Robin Scherbatsky 68', 'Ted Mosby 72', 'Lily Aldrin 66', 'Marshall Eriksen 76']\n"
          ]
        }
      ],
      "source": [
        "cast = [\"Barney Stinson\", \"Robin Scherbatsky\", \"Ted Mosby\", \"Lily Aldrin\", \"Marshall Eriksen\"]\n",
        "heights = [72, 68, 72, 66, 76]\n",
        "\n",
        "for i,j in enumerate(cast):\n",
        "  cast[i]=cast[i]+' '+ str(heights[i])\n",
        "print(cast)    "
      ]
    },
    {
      "cell_type": "markdown",
      "metadata": {},
      "source": [
        "**list comprehension**"
      ]
    },
    {
      "cell_type": "code",
      "execution_count": 56,
      "metadata": {
        "colab": {
          "base_uri": "https://localhost:8080/"
        },
        "id": "WmMv4gEsTGoC",
        "outputId": "237af164-5896-4694-ad19-a1dce3ea002c"
      },
      "outputs": [
        {
          "name": "stdout",
          "output_type": "stream",
          "text": [
            "['Rick Sanchez', 'Summer Smith', 'Beth Smith']\n"
          ]
        }
      ],
      "source": [
        "scores = {\n",
        "             \"Rick Sanchez\": 70,\n",
        "             \"Morty Smith\": 35,\n",
        "             \"Summer Smith\": 82,\n",
        "             \"Jerry Smith\": 23,\n",
        "             \"Beth Smith\": 98\n",
        "          }\n",
        "\n",
        "passed = [i for i in scores if scores[i] >65]\n",
        "print(passed)"
      ]
    },
    {
      "cell_type": "code",
      "execution_count": 57,
      "metadata": {
        "colab": {
          "base_uri": "https://localhost:8080/"
        },
        "id": "9nCZPMNCVd4j",
        "outputId": "0d5c5304-8a9b-4777-cd81-76a79a15e014"
      },
      "outputs": [
        {
          "name": "stdout",
          "output_type": "stream",
          "text": [
            "['Rick Sanchez', 'Summer Smith', 'Beth Smith']\n"
          ]
        }
      ],
      "source": [
        "scores = {\n",
        "             \"Rick Sanchez\": 70,\n",
        "             \"Morty Smith\": 35,\n",
        "             \"Summer Smith\": 82,\n",
        "             \"Jerry Smith\": 23,\n",
        "             \"Beth Smith\": 98\n",
        "          }\n",
        "\n",
        "passed = [name for name, score in scores.items() if score >= 65]\n",
        "print(passed)"
      ]
    }
  ],
  "metadata": {
    "colab": {
      "collapsed_sections": [],
      "name": "AI-aws-control_flow.ipynb",
      "provenance": []
    },
    "kernelspec": {
      "display_name": "Python 3",
      "name": "python3"
    },
    "language_info": {
      "codemirror_mode": {
        "name": "ipython",
        "version": 3
      },
      "file_extension": ".py",
      "mimetype": "text/x-python",
      "name": "python",
      "nbconvert_exporter": "python",
      "pygments_lexer": "ipython3",
      "version": "3.10.11"
    }
  },
  "nbformat": 4,
  "nbformat_minor": 0
}
