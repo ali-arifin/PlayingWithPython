{
 "cells": [
  {
   "cell_type": "code",
   "execution_count": 2,
   "id": "42d51baa",
   "metadata": {},
   "outputs": [
    {
     "name": "stdout",
     "output_type": "stream",
     "text": [
      " ____  _             _                        _ _   _     \n",
      "|  _ \\| | __ _ _   _(_)_ __   __ _  __      _(_) |_| |__  \n",
      "| |_) | |/ _` | | | | | '_ \\ / _` | \\ \\ /\\ / / | __| '_ \\ \n",
      "|  __/| | (_| | |_| | | | | | (_| |  \\ V  V /| | |_| | | |\n",
      "|_|   |_|\\__,_|\\__, |_|_| |_|\\__, |   \\_/\\_/ |_|\\__|_| |_|\n",
      "               |___/         |___/                        \n",
      " ____        _   _                 \n",
      "|  _ \\ _   _| |_| |__   ___  _ __  \n",
      "| |_) | | | | __| '_ \\ / _ \\| '_ \\ \n",
      "|  __/| |_| | |_| | | | (_) | | | |\n",
      "|_|    \\__, |\\__|_| |_|\\___/|_| |_|\n",
      "       |___/                       \n",
      "\n"
     ]
    }
   ],
   "source": [
    "import pyfiglet\n",
    "result = pyfiglet.figlet_format(\"Playing with Python\")\n",
    "print(result)"
   ]
  },
  {
   "cell_type": "markdown",
   "id": "951ed573",
   "metadata": {},
   "source": [
    "**sorted()**"
   ]
  },
  {
   "cell_type": "code",
   "execution_count": 7,
   "id": "98e2dec1",
   "metadata": {},
   "outputs": [
    {
     "name": "stdout",
     "output_type": "stream",
     "text": [
      "['arifin22', 'karachi32', 'ali50', 'pakistan54']\n"
     ]
    }
   ],
   "source": [
    "a=[\"ali50\",\"arifin22\",\"karachi32\", \"pakistan54\"]\n",
    "b=sorted(a,key=lambda x:x[-2:])     # sorts the list based on the last 2 characters of each string.\n",
    "\n",
    "print(b)"
   ]
  },
  {
   "cell_type": "code",
   "execution_count": 11,
   "id": "85d32fc6",
   "metadata": {},
   "outputs": [
    {
     "name": "stdout",
     "output_type": "stream",
     "text": [
      "['a', 'b', 'a', 'b']\n",
      "['a', 'a', 'b', 'b']\n"
     ]
    }
   ],
   "source": [
    "s=\"abab\"\n",
    "s=list(s)\n",
    "print(s)\n",
    "print(sorted(s))"
   ]
  },
  {
   "cell_type": "markdown",
   "id": "55585388",
   "metadata": {},
   "source": [
    "The sorted() function sorts the list based on the first element of each inner list by default, and if there's a tie, by the second element"
   ]
  },
  {
   "cell_type": "code",
   "execution_count": 29,
   "id": "be6fd88c",
   "metadata": {},
   "outputs": [
    {
     "data": {
      "text/plain": [
       "[[2, 5], [6, 9], [9, 3]]"
      ]
     },
     "execution_count": 29,
     "metadata": {},
     "output_type": "execute_result"
    }
   ],
   "source": [
    "intervals = [[9, 3], [2, 5], [6, 9]]\n",
    "sorted(intervals)"
   ]
  },
  {
   "cell_type": "markdown",
   "id": "67bb43bc",
   "metadata": {},
   "source": [
    "**longest string of zeros**"
   ]
  },
  {
   "cell_type": "code",
   "execution_count": 30,
   "id": "404bbe07",
   "metadata": {},
   "outputs": [
    {
     "name": "stdout",
     "output_type": "stream",
     "text": [
      "['', '', '0', '000', '0']\n"
     ]
    },
    {
     "data": {
      "text/plain": [
       "'000'"
      ]
     },
     "execution_count": 30,
     "metadata": {},
     "output_type": "execute_result"
    }
   ],
   "source": [
    "a=\"110100010\"\n",
    "y=a.split(\"1\")\n",
    "print(y)\n",
    "max(y)"
   ]
  },
  {
   "cell_type": "markdown",
   "id": "20435704",
   "metadata": {},
   "source": [
    "**copy list**"
   ]
  },
  {
   "cell_type": "code",
   "execution_count": 12,
   "id": "cb55c823",
   "metadata": {},
   "outputs": [
    {
     "name": "stdout",
     "output_type": "stream",
     "text": [
      "2625357998592\n",
      "2625357998592\n"
     ]
    }
   ],
   "source": [
    "a=[1,2,3]\n",
    "b=a\n",
    "print(id(a))\n",
    "print(id(b))"
   ]
  },
  {
   "cell_type": "code",
   "execution_count": 13,
   "id": "0b16d6b2",
   "metadata": {},
   "outputs": [
    {
     "name": "stdout",
     "output_type": "stream",
     "text": [
      "2625357996864\n",
      "2625346347584\n"
     ]
    }
   ],
   "source": [
    "a=[1,2,3]\n",
    "b=a[:]\n",
    "print(id(a))\n",
    "print(id(b))"
   ]
  },
  {
   "cell_type": "markdown",
   "id": "86d5c83e",
   "metadata": {},
   "source": [
    "**ord() and chr()**\n",
    "\n",
    "The **ord()** function takes a single Unicode character (as a string of length 1) as its argument.\n",
    "It returns the integer representing the Unicode code point of that character.\n",
    "\n"
   ]
  },
  {
   "cell_type": "code",
   "execution_count": 14,
   "id": "88ddbda2",
   "metadata": {},
   "outputs": [
    {
     "data": {
      "text/plain": [
       "97"
      ]
     },
     "execution_count": 14,
     "metadata": {},
     "output_type": "execute_result"
    }
   ],
   "source": [
    "ord(\"a\")"
   ]
  },
  {
   "cell_type": "code",
   "execution_count": 15,
   "id": "ff52f2db",
   "metadata": {},
   "outputs": [
    {
     "data": {
      "text/plain": [
       "65"
      ]
     },
     "execution_count": 15,
     "metadata": {},
     "output_type": "execute_result"
    }
   ],
   "source": [
    "ord(\"A\")"
   ]
  },
  {
   "cell_type": "markdown",
   "id": "cca405a1",
   "metadata": {},
   "source": [
    "The **chr()** function takes an integer as its argument.\n",
    "This integer must represent a valid Unicode code point (ranging from 0 to 1,114,111).\n",
    "It returns the Unicode character corresponding to that integer code point"
   ]
  },
  {
   "cell_type": "code",
   "execution_count": 16,
   "id": "dadbca58",
   "metadata": {},
   "outputs": [
    {
     "data": {
      "text/plain": [
       "'a'"
      ]
     },
     "execution_count": 16,
     "metadata": {},
     "output_type": "execute_result"
    }
   ],
   "source": [
    "chr(97)"
   ]
  },
  {
   "cell_type": "code",
   "execution_count": 17,
   "id": "df8aaa20",
   "metadata": {},
   "outputs": [
    {
     "data": {
      "text/plain": [
       "'A'"
      ]
     },
     "execution_count": 17,
     "metadata": {},
     "output_type": "execute_result"
    }
   ],
   "source": [
    "chr(65)"
   ]
  },
  {
   "cell_type": "code",
   "execution_count": 19,
   "id": "d8d2c7ad",
   "metadata": {},
   "outputs": [
    {
     "data": {
      "text/plain": [
       "{'a': 1,\n",
       " 'b': 2,\n",
       " 'c': 3,\n",
       " 'd': 4,\n",
       " 'e': 5,\n",
       " 'f': 6,\n",
       " 'g': 7,\n",
       " 'h': 8,\n",
       " 'i': 9,\n",
       " 'j': 10,\n",
       " 'k': 11,\n",
       " 'l': 12,\n",
       " 'm': 13,\n",
       " 'n': 14,\n",
       " 'o': 15,\n",
       " 'p': 16,\n",
       " 'q': 17,\n",
       " 'r': 18,\n",
       " 's': 19,\n",
       " 't': 20,\n",
       " 'u': 21,\n",
       " 'v': 22,\n",
       " 'w': 23,\n",
       " 'x': 24,\n",
       " 'y': 25,\n",
       " 'z': 26}"
      ]
     },
     "execution_count": 19,
     "metadata": {},
     "output_type": "execute_result"
    }
   ],
   "source": [
    "a={chr(i+96):i for i in range(1,27)}\n",
    "a\n",
    "\n",
    "# chr(97) is 'a'\n",
    "# chr(98) is 'b'"
   ]
  },
  {
   "cell_type": "markdown",
   "id": "53040256",
   "metadata": {},
   "source": [
    "The **all()** function returns True if all items in an iterable are true, otherwise it returns False.\n",
    "\n",
    "If the iterable object is empty, the all() function also returns True."
   ]
  },
  {
   "cell_type": "code",
   "execution_count": 23,
   "id": "a2e60a0a",
   "metadata": {},
   "outputs": [
    {
     "data": {
      "text/plain": [
       "False"
      ]
     },
     "execution_count": 23,
     "metadata": {},
     "output_type": "execute_result"
    }
   ],
   "source": [
    "mylist = [0, 1, 1]\n",
    "x = all(mylist)\n",
    "x"
   ]
  },
  {
   "cell_type": "code",
   "execution_count": 24,
   "id": "9d9a6803",
   "metadata": {},
   "outputs": [
    {
     "data": {
      "text/plain": [
       "True"
      ]
     },
     "execution_count": 24,
     "metadata": {},
     "output_type": "execute_result"
    }
   ],
   "source": [
    "mylist = [1, 1, 1]\n",
    "x = all(mylist)\n",
    "x"
   ]
  },
  {
   "cell_type": "markdown",
   "id": "3d8d1ef3",
   "metadata": {},
   "source": [
    "**set difference**"
   ]
  },
  {
   "cell_type": "code",
   "execution_count": 26,
   "id": "a426eb3f",
   "metadata": {},
   "outputs": [
    {
     "name": "stdout",
     "output_type": "stream",
     "text": [
      "{1, 3}\n"
     ]
    }
   ],
   "source": [
    "nums1 = [1,2,3]\n",
    "nums2 = [2,4,6]\n",
    "print(set(nums1)-set(nums2))   # prints the set of elements that are in nums1 but not in nums2."
   ]
  },
  {
   "cell_type": "code",
   "execution_count": 27,
   "id": "9c15e2ab",
   "metadata": {},
   "outputs": [
    {
     "name": "stdout",
     "output_type": "stream",
     "text": [
      "{4, 6}\n"
     ]
    }
   ],
   "source": [
    "nums1 = [1,2,3]\n",
    "nums2 = [2,4,6]\n",
    "print(set(nums2)-set(nums1))"
   ]
  }
 ],
 "metadata": {
  "kernelspec": {
   "display_name": "Python 3",
   "language": "python",
   "name": "python3"
  },
  "language_info": {
   "codemirror_mode": {
    "name": "ipython",
    "version": 3
   },
   "file_extension": ".py",
   "mimetype": "text/x-python",
   "name": "python",
   "nbconvert_exporter": "python",
   "pygments_lexer": "ipython3",
   "version": "3.10.11"
  }
 },
 "nbformat": 4,
 "nbformat_minor": 5
}
