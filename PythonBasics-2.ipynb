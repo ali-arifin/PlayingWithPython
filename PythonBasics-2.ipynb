{
 "cells": [
  {
   "cell_type": "markdown",
   "metadata": {},
   "source": [
    "**Using key with .sort()**"
   ]
  },
  {
   "cell_type": "code",
   "execution_count": 17,
   "metadata": {},
   "outputs": [
    {
     "data": {
      "text/plain": [
       "['wiki', 'qasim', 'kevin', 'aliyan', 'fareed']"
      ]
     },
     "execution_count": 17,
     "metadata": {},
     "output_type": "execute_result"
    }
   ],
   "source": [
    "names=['aliyan','qasim','fareed','kevin','wiki']\n",
    "names.sort(key=len)\n",
    "names\n"
   ]
  },
  {
   "cell_type": "markdown",
   "metadata": {},
   "source": [
    "**Sorting list of names based on their scores**"
   ]
  },
  {
   "cell_type": "code",
   "execution_count": 9,
   "metadata": {},
   "outputs": [
    {
     "name": "stdout",
     "output_type": "stream",
     "text": [
      "['Bilal', 'Zain', 'Ali', 'Isaac']\n"
     ]
    }
   ],
   "source": [
    "a=['Ali','Bilal','Isaac','Zain']\n",
    "b=[111,21,344,22]\n",
    "\n",
    "e=[]\n",
    "c=zip(b,a)\n",
    "for i,j in sorted(c):\n",
    "    e.append(j)\n",
    "print(e)"
   ]
  },
  {
   "cell_type": "markdown",
   "metadata": {},
   "source": [
    "**Find string which is same when reversed**"
   ]
  },
  {
   "cell_type": "code",
   "execution_count": 24,
   "metadata": {},
   "outputs": [
    {
     "name": "stdout",
     "output_type": "stream",
     "text": [
      "maham\n"
     ]
    }
   ],
   "source": [
    "words=['abc','adaf','abcd','maham']\n",
    "for i in words:\n",
    "        if i == i[::-1]:\n",
    "            print(i)\n",
    "\n",
    "            \n",
    "    "
   ]
  },
  {
   "cell_type": "markdown",
   "metadata": {},
   "source": [
    "**24hr clock**"
   ]
  },
  {
   "cell_type": "code",
   "execution_count": 45,
   "metadata": {},
   "outputs": [
    {
     "name": "stdout",
     "output_type": "stream",
     "text": [
      "13\n"
     ]
    }
   ],
   "source": [
    "a=\"1pm\"\n",
    "if a.endswith(\"pm\"):\n",
    "    twenty4= int(a.removesuffix(\"pm\")) + 12\n",
    "    \n",
    "else:\n",
    "    twenty4= int(a.removesuffix(\"am\"))\n",
    "print(twenty4)"
   ]
  },
  {
   "cell_type": "markdown",
   "metadata": {},
   "source": [
    "**only alphanumeric string**"
   ]
  },
  {
   "cell_type": "code",
   "execution_count": 1,
   "metadata": {},
   "outputs": [
    {
     "name": "stdout",
     "output_type": "stream",
     "text": [
      "alphanumeric123\n"
     ]
    }
   ],
   "source": [
    "string_value = \"alph!@@#$%%^&&anumeric@123__\"\n",
    "a=[ch for ch in string_value if ch.isalnum()]\n",
    "s = ''.join(a)\n",
    "print(s)"
   ]
  },
  {
   "cell_type": "code",
   "execution_count": 2,
   "metadata": {},
   "outputs": [
    {
     "data": {
      "text/plain": [
       "{'345', '67', '7'}"
      ]
     },
     "execution_count": 2,
     "metadata": {},
     "output_type": "execute_result"
    }
   ],
   "source": [
    "a=\"345 7 67 7\"\n",
    "a=a.split(\" \")\n",
    "set(a)"
   ]
  }
 ],
 "metadata": {
  "kernelspec": {
   "display_name": "Python 3",
   "language": "python",
   "name": "python3"
  },
  "language_info": {
   "codemirror_mode": {
    "name": "ipython",
    "version": 3
   },
   "file_extension": ".py",
   "mimetype": "text/x-python",
   "name": "python",
   "nbconvert_exporter": "python",
   "pygments_lexer": "ipython3",
   "version": "3.10.11"
  },
  "orig_nbformat": 4
 },
 "nbformat": 4,
 "nbformat_minor": 2
}
