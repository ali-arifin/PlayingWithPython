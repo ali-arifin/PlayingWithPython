{
  "cells": [
    {
      "cell_type": "markdown",
      "metadata": {
        "id": "da1mQkKTrw4H"
      },
      "source": [
        "**Printing even numbers**"
      ]
    },
    {
      "cell_type": "code",
      "execution_count": 3,
      "metadata": {
        "colab": {
          "base_uri": "https://localhost:8080/"
        },
        "id": "j0t9p3iWpaYp",
        "outputId": "7706cf1b-0790-4020-9f0c-42e006eb3a32"
      },
      "outputs": [
        {
          "name": "stdout",
          "output_type": "stream",
          "text": [
            "0\n",
            "2\n",
            "4\n",
            "6\n",
            "8\n"
          ]
        }
      ],
      "source": [
        "for i in range(10):\n",
        "  if i%2==0:\n",
        "    print(i)"
      ]
    },
    {
      "cell_type": "code",
      "execution_count": 4,
      "metadata": {
        "colab": {
          "base_uri": "https://localhost:8080/"
        },
        "id": "yTd3sHI8pgOA",
        "outputId": "e00bfd39-79ca-45bc-b1c7-00dbb586f422"
      },
      "outputs": [
        {
          "data": {
            "text/plain": [
              "[0, 2, 4, 6, 8]"
            ]
          },
          "execution_count": 4,
          "metadata": {},
          "output_type": "execute_result"
        }
      ],
      "source": [
        "[i for i in range(10) if i%2==0]"
      ]
    },
    {
      "cell_type": "code",
      "execution_count": 5,
      "metadata": {
        "colab": {
          "base_uri": "https://localhost:8080/"
        },
        "id": "Vp8nbby4sLV_",
        "outputId": "bb1b751f-53dc-4955-8791-5c3a6e26ca4e"
      },
      "outputs": [
        {
          "data": {
            "text/plain": [
              "[0, 2, 4, 6, 8]"
            ]
          },
          "execution_count": 5,
          "metadata": {},
          "output_type": "execute_result"
        }
      ],
      "source": [
        "[i*2 for i in range(5)]"
      ]
    },
    {
      "cell_type": "code",
      "execution_count": 6,
      "metadata": {
        "colab": {
          "base_uri": "https://localhost:8080/"
        },
        "id": "SjGfIrESsda2",
        "outputId": "bf1e4f69-e3ed-400f-e6b4-2e808e9d8cab"
      },
      "outputs": [
        {
          "data": {
            "text/plain": [
              "[0, 2, 4, 6, 8]"
            ]
          },
          "execution_count": 6,
          "metadata": {},
          "output_type": "execute_result"
        }
      ],
      "source": [
        "[i for i in range(0,10,2)]"
      ]
    },
    {
      "cell_type": "markdown",
      "metadata": {
        "id": "K-gzs4eutL1N"
      },
      "source": [
        "**Reverse order**"
      ]
    },
    {
      "cell_type": "code",
      "execution_count": 7,
      "metadata": {
        "colab": {
          "base_uri": "https://localhost:8080/"
        },
        "id": "xZv6wCPxtNzF",
        "outputId": "32a739d2-8eb2-4280-bc25-c4d4126df121"
      },
      "outputs": [
        {
          "name": "stdout",
          "output_type": "stream",
          "text": [
            "10\n",
            "9\n",
            "8\n",
            "7\n",
            "6\n",
            "5\n",
            "4\n",
            "3\n",
            "2\n",
            "1\n"
          ]
        }
      ],
      "source": [
        "for i in range(10,0,-1):\n",
        "  print(i)"
      ]
    },
    {
      "cell_type": "code",
      "execution_count": 9,
      "metadata": {
        "colab": {
          "base_uri": "https://localhost:8080/"
        },
        "id": "y6Urz48TtKbW",
        "outputId": "6d0ec023-a8c1-44c9-f6e3-993a31f5a01d"
      },
      "outputs": [
        {
          "name": "stdout",
          "output_type": "stream",
          "text": [
            "s\n",
            "w\n",
            "r\n"
          ]
        }
      ],
      "source": [
        "lis=['a','q','s','w','r']\n",
        "for i in lis[-3:]:\n",
        "  print(i)"
      ]
    },
    {
      "cell_type": "markdown",
      "metadata": {},
      "source": [
        "**endswith**"
      ]
    },
    {
      "cell_type": "code",
      "execution_count": 10,
      "metadata": {
        "colab": {
          "base_uri": "https://localhost:8080/"
        },
        "id": "lrl-HKenzYbq",
        "outputId": "f017d454-0ea2-46d7-fced-964df95971fb"
      },
      "outputs": [
        {
          "name": "stdout",
          "output_type": "stream",
          "text": [
            "ali\n",
            "wali\n",
            "kelli\n"
          ]
        }
      ],
      "source": [
        "alist=['ali','wali','alex','zain','kelli']\n",
        "for i in alist:\n",
        "  if i.endswith('i'):\n",
        "    print(i)"
      ]
    },
    {
      "cell_type": "code",
      "execution_count": 12,
      "metadata": {
        "colab": {
          "base_uri": "https://localhost:8080/"
        },
        "id": "2c1QTTBz0A0a",
        "outputId": "bbbe55db-0747-4e87-a261-0430489718bb"
      },
      "outputs": [
        {
          "name": "stdout",
          "output_type": "stream",
          "text": [
            "ali\n",
            "wali\n",
            "kelli\n"
          ]
        }
      ],
      "source": [
        "for name in alist:\n",
        "  if name[-1] == 'i':\n",
        "    print(name)"
      ]
    },
    {
      "cell_type": "code",
      "execution_count": 14,
      "metadata": {
        "colab": {
          "base_uri": "https://localhost:8080/"
        },
        "id": "X8cKCiui0Wgg",
        "outputId": "84ade46c-0550-4366-e109-f8a813d273a0"
      },
      "outputs": [
        {
          "name": "stdout",
          "output_type": "stream",
          "text": [
            "kelli\n"
          ]
        }
      ],
      "source": [
        "for name in alist:\n",
        "  if name[-1] == 'i' and len(name)>4:\n",
        "    print(name)"
      ]
    },
    {
      "cell_type": "markdown",
      "metadata": {},
      "source": [
        "**user inputs and break/continue**"
      ]
    },
    {
      "cell_type": "code",
      "execution_count": 15,
      "metadata": {
        "colab": {
          "base_uri": "https://localhost:8080/"
        },
        "id": "GXGhOZo9083X",
        "outputId": "5d4f49f1-e4fe-44a9-bb1d-94cc5ec1da34"
      },
      "outputs": [
        {
          "data": {
            "text/plain": [
              "['ali', 'qasim', 'noah']"
            ]
          },
          "execution_count": 15,
          "metadata": {},
          "output_type": "execute_result"
        }
      ],
      "source": [
        "f1= input(\"enter name \\t\")\n",
        "f2= input(\"enter name \\t\")\n",
        "f3= input(\"enter name \\t\")\n",
        "emplist=[]\n",
        "for i in [f1,f2,f3]:\n",
        "  emplist.append(i)\n",
        "emplist"
      ]
    },
    {
      "cell_type": "code",
      "execution_count": 19,
      "metadata": {
        "colab": {
          "base_uri": "https://localhost:8080/"
        },
        "id": "7FnCDddX20iu",
        "outputId": "cdc4c74b-26c0-42e8-dbb2-f20d688da07e"
      },
      "outputs": [
        {
          "data": {
            "text/plain": [
              "['ali', 'alex', 'mike']"
            ]
          },
          "execution_count": 19,
          "metadata": {},
          "output_type": "execute_result"
        }
      ],
      "source": [
        "num_of_friends=int(input(\"how many friends you wanna invite?\"))\n",
        "empty_list=[]\n",
        "for i in range(num_of_friends):\n",
        "  empty_list.append(input(\"enter friend's name\"))\n",
        "empty_list"
      ]
    },
    {
      "cell_type": "code",
      "execution_count": 20,
      "metadata": {
        "colab": {
          "base_uri": "https://localhost:8080/"
        },
        "id": "ST6-bl9z7hnc",
        "outputId": "7350979f-536e-4a09-922f-ce0bad36cbda"
      },
      "outputs": [
        {
          "name": "stdout",
          "output_type": "stream",
          "text": [
            "0\n",
            "1\n",
            "2\n",
            "3\n",
            "4\n",
            "5\n"
          ]
        }
      ],
      "source": [
        "for i in range(10):\n",
        "  print(i)\n",
        "  if i==5:\n",
        "    break"
      ]
    },
    {
      "cell_type": "code",
      "execution_count": 21,
      "metadata": {
        "colab": {
          "base_uri": "https://localhost:8080/"
        },
        "id": "BTFipt2N8rhT",
        "outputId": "1e24475a-6d6e-4926-8a92-5aecbb50b811"
      },
      "outputs": [
        {
          "name": "stdout",
          "output_type": "stream",
          "text": [
            "0\n",
            "1\n",
            "2\n",
            "3\n",
            "4\n"
          ]
        }
      ],
      "source": [
        "for i in range(10):\n",
        "  if i==5:\n",
        "    break\n",
        "  print(i)"
      ]
    },
    {
      "cell_type": "code",
      "execution_count": 24,
      "metadata": {
        "colab": {
          "base_uri": "https://localhost:8080/"
        },
        "id": "z7BjolN09coZ",
        "outputId": "a31d2229-a7b8-4298-b929-aadc92837b0b"
      },
      "outputs": [
        {
          "name": "stdout",
          "output_type": "stream",
          "text": [
            "0\n",
            "1\n",
            "2\n",
            "3\n",
            "4\n",
            "6\n",
            "7\n",
            "8\n",
            "9\n"
          ]
        }
      ],
      "source": [
        "for i in range(10):\n",
        "  if i==5:\n",
        "    continue\n",
        "  print(i)"
      ]
    },
    {
      "cell_type": "code",
      "execution_count": 25,
      "metadata": {
        "colab": {
          "base_uri": "https://localhost:8080/"
        },
        "id": "7tinDksp-Q-K",
        "outputId": "d2a3fd81-11ca-4321-9386-057ffbd69c19"
      },
      "outputs": [
        {
          "name": "stdout",
          "output_type": "stream",
          "text": [
            "ali:A\n",
            "ahmed:A+\n",
            "alex:C\n",
            "aliyaan:D\n"
          ]
        }
      ],
      "source": [
        "name=['ali','ahmed','alex','aliyaan']\n",
        "grade=['A','A+','C','D']\n",
        "for i in range(len(name)):\n",
        "  print(name[i]+\":\"+grade[i])"
      ]
    },
    {
      "cell_type": "code",
      "execution_count": 26,
      "metadata": {
        "colab": {
          "base_uri": "https://localhost:8080/"
        },
        "id": "nxHdLZmZCd5G",
        "outputId": "f2bc17a1-3d4c-4e93-c43f-934c4e572ac7"
      },
      "outputs": [
        {
          "name": "stdout",
          "output_type": "stream",
          "text": [
            "ali:A\n",
            "alex:C\n",
            "aliyaan:D\n"
          ]
        }
      ],
      "source": [
        "name=['ali','ahmed','alex','aliyaan']\n",
        "grade=['A','A+','C','D']\n",
        "for i in range(len(name)):\n",
        "  if grade[i]=='A+':\n",
        "    continue\n",
        "  print(name[i]+\":\"+grade[i])"
      ]
    },
    {
      "cell_type": "code",
      "execution_count": 47,
      "metadata": {
        "colab": {
          "base_uri": "https://localhost:8080/"
        },
        "id": "9_1-8tNRC-jX",
        "outputId": "e6d0854f-489e-491e-dacc-3e909cb77426"
      },
      "outputs": [
        {
          "data": {
            "text/plain": [
              "['5', '4', '3', '2']"
            ]
          },
          "execution_count": 47,
          "metadata": {},
          "output_type": "execute_result"
        }
      ],
      "source": [
        "mylis=[input(\"enter nums\") for i in range(4)]\n",
        "mylis"
      ]
    },
    {
      "cell_type": "code",
      "execution_count": 48,
      "metadata": {
        "colab": {
          "base_uri": "https://localhost:8080/"
        },
        "id": "WtstXWalHYW0",
        "outputId": "2916704f-26d9-468e-ecab-6746b619ef46"
      },
      "outputs": [
        {
          "name": "stdout",
          "output_type": "stream",
          "text": [
            "5\n",
            "4\n",
            "3\n",
            "2\n",
            "14\n"
          ]
        }
      ],
      "source": [
        "sum=0\n",
        "for i in range(4):\n",
        "  num=int(input(\"enter nums\"))\n",
        "  print(num)\n",
        "  sum=sum+num\n",
        "print(sum)"
      ]
    },
    {
      "cell_type": "code",
      "execution_count": 49,
      "metadata": {
        "colab": {
          "base_uri": "https://localhost:8080/"
        },
        "id": "MbLwCS3CKmx7",
        "outputId": "24d2b735-7be6-4664-f84c-92ed0df0634b"
      },
      "outputs": [
        {
          "name": "stdout",
          "output_type": "stream",
          "text": [
            "['5', '4', '3', '2']\n",
            "14\n"
          ]
        }
      ],
      "source": [
        "a=input(\"enter nums in one line\")\n",
        "a=a.split(' ')\n",
        "print(a)\n",
        "sum=0\n",
        "for i in a:\n",
        "  sum=sum+int(i)\n",
        "print(sum)\n"
      ]
    },
    {
      "cell_type": "code",
      "execution_count": 52,
      "metadata": {
        "colab": {
          "base_uri": "https://localhost:8080/"
        },
        "id": "bQwVlt1Bz1nZ",
        "outputId": "9a94e2dd-5a7f-4634-c2cb-e239399c7d4b"
      },
      "outputs": [
        {
          "data": {
            "text/plain": [
              "['ali', 'bilal', 'kazi', 'syed']"
            ]
          },
          "execution_count": 52,
          "metadata": {},
          "output_type": "execute_result"
        }
      ],
      "source": [
        "lis1=[]\n",
        "while True:\n",
        "  name=input(\"enter guest name or type 'q' to quit\")\n",
        "  if name=='q':\n",
        "    break\n",
        "  lis1.append(name)\n",
        "lis1"
      ]
    },
    {
      "cell_type": "code",
      "execution_count": 54,
      "metadata": {
        "colab": {
          "base_uri": "https://localhost:8080/"
        },
        "id": "yJzaoOapw7Ds",
        "outputId": "90fe0946-f85c-4456-d1b8-9af3129546f6"
      },
      "outputs": [
        {
          "data": {
            "text/plain": [
              "['ali', 'aliyaan', 'alizay', 'aliya']"
            ]
          },
          "execution_count": 54,
          "metadata": {},
          "output_type": "execute_result"
        }
      ],
      "source": [
        "list1=[]\n",
        "flag=True\n",
        "while flag:\n",
        "  name=input(\"enter guest name or type 'q' to quit\")\n",
        "  if name=='q':\n",
        "    flag=False\n",
        "  list1.append(name)\n",
        "list1.pop()\n",
        "list1\n"
      ]
    },
    {
      "cell_type": "code",
      "execution_count": 55,
      "metadata": {
        "colab": {
          "base_uri": "https://localhost:8080/"
        },
        "id": "DVN2_qOgy3yK",
        "outputId": "73bc82fc-a29c-4013-e5eb-218f9de898a7"
      },
      "outputs": [
        {
          "data": {
            "text/plain": [
              "['ali', 'alex', 'noah', 'simon']"
            ]
          },
          "execution_count": 55,
          "metadata": {},
          "output_type": "execute_result"
        }
      ],
      "source": [
        "list=[]\n",
        "flag=True\n",
        "while flag:\n",
        "  name=input(\"enter guest name or type 'q' to quit\")\n",
        "  if name=='q':\n",
        "    flag=False\n",
        "  else:\n",
        "    list.append(name)\n",
        "list\n"
      ]
    },
    {
      "cell_type": "markdown",
      "metadata": {},
      "source": [
        "**tables**"
      ]
    },
    {
      "cell_type": "code",
      "execution_count": 56,
      "metadata": {
        "colab": {
          "base_uri": "https://localhost:8080/"
        },
        "id": "-T9-qhE83SN9",
        "outputId": "0a47e46a-ad3b-46d7-a88b-21517cf4d760"
      },
      "outputs": [
        {
          "name": "stdout",
          "output_type": "stream",
          "text": [
            "5X0=0\n",
            "5X1=5\n",
            "5X2=10\n",
            "5X3=15\n",
            "5X4=20\n",
            "5X5=25\n",
            "5X6=30\n",
            "5X7=35\n",
            "5X8=40\n",
            "5X9=45\n",
            "5X10=50\n"
          ]
        }
      ],
      "source": [
        "for j in range(11):\n",
        "  print(str(5)+'X'+str(j) +\"=\"+str(5*j))"
      ]
    },
    {
      "cell_type": "code",
      "execution_count": 57,
      "metadata": {
        "colab": {
          "base_uri": "https://localhost:8080/"
        },
        "id": "ak-U27de2LYQ",
        "outputId": "ac917e9b-4031-4da3-d7ed-1babd358b196"
      },
      "outputs": [
        {
          "name": "stdout",
          "output_type": "stream",
          "text": [
            "2X0=0\n",
            "2X1=2\n",
            "2X2=4\n",
            "2X3=6\n",
            "2X4=8\n",
            "2X5=10\n",
            "2X6=12\n",
            "2X7=14\n",
            "2X8=16\n",
            "2X9=18\n",
            "2X10=20\n",
            "3X0=0\n",
            "3X1=3\n",
            "3X2=6\n",
            "3X3=9\n",
            "3X4=12\n",
            "3X5=15\n",
            "3X6=18\n",
            "3X7=21\n",
            "3X8=24\n",
            "3X9=27\n",
            "3X10=30\n"
          ]
        }
      ],
      "source": [
        "for i in range(2,4):\n",
        "  for j in range(11):\n",
        "    print(str(i)+'X'+str(j) +\"=\"+str(i*j))"
      ]
    },
    {
      "cell_type": "code",
      "execution_count": 58,
      "metadata": {
        "colab": {
          "base_uri": "https://localhost:8080/"
        },
        "id": "JQ0iDGP04pdN",
        "outputId": "1b1819ae-14de-4b0c-ad46-8e873f86a429"
      },
      "outputs": [
        {
          "data": {
            "text/plain": [
              "[0, 2, 4, 6, 8, 10, 12, 14, 16, 18, 20, 0, 3, 6, 9, 12, 15, 18, 21, 24, 27, 30]"
            ]
          },
          "execution_count": 58,
          "metadata": {},
          "output_type": "execute_result"
        }
      ],
      "source": [
        "[i*j for i in range(2,4) for j in range(11)]"
      ]
    },
    {
      "cell_type": "markdown",
      "metadata": {},
      "source": [
        "**dictionary**"
      ]
    },
    {
      "cell_type": "code",
      "execution_count": 60,
      "metadata": {
        "colab": {
          "base_uri": "https://localhost:8080/"
        },
        "id": "NXYMutUqANfn",
        "outputId": "ca97b459-def9-4f22-a5f5-497cb37d2ad2"
      },
      "outputs": [
        {
          "name": "stdout",
          "output_type": "stream",
          "text": [
            "name\n",
            "age\n",
            "exp\n"
          ]
        }
      ],
      "source": [
        "dict={'name':'ali', 'age':24, 'exp':1}\n",
        "for i in dict:\n",
        "  print(i)"
      ]
    },
    {
      "cell_type": "code",
      "execution_count": 61,
      "metadata": {
        "colab": {
          "base_uri": "https://localhost:8080/"
        },
        "id": "Tt_E2G7nAcSu",
        "outputId": "c3dc1cc6-1b42-4d4d-ff55-042db7ce3ccb"
      },
      "outputs": [
        {
          "name": "stdout",
          "output_type": "stream",
          "text": [
            "name\n",
            "age\n",
            "exp\n"
          ]
        }
      ],
      "source": [
        "dict={'name':'ali', 'age':24, 'exp':1}\n",
        "for i in dict.keys():\n",
        "  print(i)"
      ]
    },
    {
      "cell_type": "code",
      "execution_count": 62,
      "metadata": {
        "colab": {
          "base_uri": "https://localhost:8080/"
        },
        "id": "d1zNSamrAhDt",
        "outputId": "00fd06f7-e052-4e5d-deb9-05111b136d13"
      },
      "outputs": [
        {
          "name": "stdout",
          "output_type": "stream",
          "text": [
            "ali\n",
            "24\n",
            "1\n"
          ]
        }
      ],
      "source": [
        "dict={'name':'ali', 'age':24, 'exp':1}\n",
        "for i in dict.values():\n",
        "  print(i)"
      ]
    },
    {
      "cell_type": "code",
      "execution_count": 63,
      "metadata": {
        "colab": {
          "base_uri": "https://localhost:8080/"
        },
        "id": "LPW6vR3MA00f",
        "outputId": "b2e468e8-3722-4a4b-ca10-c75e6fc8d578"
      },
      "outputs": [
        {
          "name": "stdout",
          "output_type": "stream",
          "text": [
            "('name', 'ali')\n",
            "('age', 24)\n",
            "('exp', 1)\n"
          ]
        }
      ],
      "source": [
        "dict={'name':'ali', 'age':24, 'exp':1}\n",
        "for i in dict.items():\n",
        "  print(i)"
      ]
    },
    {
      "cell_type": "code",
      "execution_count": 64,
      "metadata": {
        "colab": {
          "base_uri": "https://localhost:8080/"
        },
        "id": "TYZfqpTtAjx1",
        "outputId": "4c24472c-508d-42fa-d9dd-8940cc4800ab"
      },
      "outputs": [
        {
          "data": {
            "text/plain": [
              "tuple"
            ]
          },
          "execution_count": 64,
          "metadata": {},
          "output_type": "execute_result"
        }
      ],
      "source": [
        "a=1,2\n",
        "type(a)"
      ]
    },
    {
      "cell_type": "code",
      "execution_count": 65,
      "metadata": {},
      "outputs": [
        {
          "data": {
            "text/plain": [
              "{'apple': 11, 'carrot': 21, 'grapes': 31, 'mangoes': 41, 'strawberry': 50}"
            ]
          },
          "execution_count": 65,
          "metadata": {},
          "output_type": "execute_result"
        }
      ],
      "source": [
        "fruit=['apple','carrot','grapes','mangoes','strawberry']\n",
        "dict={'apple':10, 'carrot':20, 'grapes':30, 'mangoes':40}\n",
        "for f in fruit:\n",
        "  if f in dict.keys():\n",
        "   dict[f]+=1\n",
        "  else:\n",
        "    dict[f]=50\n",
        "dict"
      ]
    },
    {
      "cell_type": "markdown",
      "metadata": {},
      "source": [
        "**create dictionary from list**"
      ]
    },
    {
      "cell_type": "code",
      "execution_count": 66,
      "metadata": {},
      "outputs": [
        {
          "data": {
            "text/plain": [
              "{'apple': 3, 'carrot': 2, 'grapes': 1, 'mangoes': 1, 'strawberry': 1}"
            ]
          },
          "execution_count": 66,
          "metadata": {},
          "output_type": "execute_result"
        }
      ],
      "source": [
        "fruit=['apple','apple','apple','carrot','carrot','grapes','mangoes','strawberry']\n",
        "dict={}\n",
        "for f in fruit:\n",
        "  if f in dict.keys():\n",
        "   dict[f]+=1\n",
        "  else:\n",
        "   dict[f]=1\n",
        "dict"
      ]
    },
    {
      "cell_type": "markdown",
      "metadata": {},
      "source": [
        "**global variables**"
      ]
    },
    {
      "cell_type": "code",
      "execution_count": 67,
      "metadata": {},
      "outputs": [
        {
          "name": "stdout",
          "output_type": "stream",
          "text": [
            "2\n"
          ]
        }
      ],
      "source": [
        "a=1\n",
        "def change():\n",
        "  global a\n",
        "  a=2\n",
        "change()\n",
        "print(a)"
      ]
    },
    {
      "cell_type": "code",
      "execution_count": 68,
      "metadata": {},
      "outputs": [
        {
          "name": "stdout",
          "output_type": "stream",
          "text": [
            "16 17\n"
          ]
        }
      ],
      "source": [
        "def square(val):\n",
        "  global newval\n",
        "  newval=val*val\n",
        "  return newval\n",
        "print(square(4), newval +1)"
      ]
    },
    {
      "cell_type": "code",
      "execution_count": 69,
      "metadata": {},
      "outputs": [
        {
          "name": "stdout",
          "output_type": "stream",
          "text": [
            "16 10\n"
          ]
        }
      ],
      "source": [
        "newval=10\n",
        "def square(val):\n",
        "  newval=val*val\n",
        "  return newval\n",
        "print(square(4),newval)"
      ]
    }
  ],
  "metadata": {
    "colab": {
      "collapsed_sections": [],
      "name": "PiaicWeek6",
      "provenance": []
    },
    "kernelspec": {
      "display_name": "Python 3",
      "name": "python3"
    },
    "language_info": {
      "codemirror_mode": {
        "name": "ipython",
        "version": 3
      },
      "file_extension": ".py",
      "mimetype": "text/x-python",
      "name": "python",
      "nbconvert_exporter": "python",
      "pygments_lexer": "ipython3",
      "version": "3.10.11"
    }
  },
  "nbformat": 4,
  "nbformat_minor": 0
}
