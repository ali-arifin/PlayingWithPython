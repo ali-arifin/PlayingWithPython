{
  "cells": [
    {
      "cell_type": "markdown",
      "metadata": {
        "id": "pIxpNAMq7Fng"
      },
      "source": [
        "**round() function**"
      ]
    },
    {
      "cell_type": "code",
      "execution_count": 1,
      "metadata": {
        "colab": {
          "base_uri": "https://localhost:8080/"
        },
        "id": "fUUWt-W37JYd",
        "outputId": "626caae6-949b-475f-fe44-368e230cca80"
      },
      "outputs": [
        {
          "data": {
            "text/plain": [
              "1.114"
            ]
          },
          "execution_count": 1,
          "metadata": {},
          "output_type": "execute_result"
        }
      ],
      "source": [
        "round(1.1139,3)"
      ]
    },
    {
      "cell_type": "markdown",
      "metadata": {
        "id": "hUxYnpGc6T4z"
      },
      "source": [
        "**Print statement practice (sep,end)**"
      ]
    },
    {
      "cell_type": "code",
      "execution_count": 2,
      "metadata": {
        "colab": {
          "base_uri": "https://localhost:8080/"
        },
        "id": "q499orrNSrCY",
        "outputId": "70aa989a-00d5-45b8-f02f-24497fd77f95"
      },
      "outputs": [
        {
          "name": "stdout",
          "output_type": "stream",
          "text": [
            "12345..True..ali\n"
          ]
        }
      ],
      "source": [
        "print(\"12345\",True,\"ali\" ,sep='..')"
      ]
    },
    {
      "cell_type": "code",
      "execution_count": 3,
      "metadata": {
        "colab": {
          "base_uri": "https://localhost:8080/"
        },
        "id": "zO9SapTE4Dt8",
        "outputId": "b5782f66-2ae3-4070-b8ac-e1769e184936"
      },
      "outputs": [
        {
          "name": "stdout",
          "output_type": "stream",
          "text": [
            "12345\n",
            "True\n",
            "ali\n"
          ]
        }
      ],
      "source": [
        "print(\"12345\",True,\"ali\" ,sep='\\n')"
      ]
    },
    {
      "cell_type": "code",
      "execution_count": 4,
      "metadata": {
        "colab": {
          "base_uri": "https://localhost:8080/"
        },
        "id": "C-6CY4o54IdS",
        "outputId": "0ed13c19-83c4-4650-e862-e4880e89a9c4"
      },
      "outputs": [
        {
          "name": "stdout",
          "output_type": "stream",
          "text": [
            "12345\tTrue\tali\n"
          ]
        }
      ],
      "source": [
        "print(\"12345\",True,\"ali\" ,sep='\\t')"
      ]
    },
    {
      "cell_type": "code",
      "execution_count": 5,
      "metadata": {
        "colab": {
          "base_uri": "https://localhost:8080/"
        },
        "id": "TTd90UZ12-bo",
        "outputId": "34d562bb-aac0-4ef2-dd52-1187e829a6b8"
      },
      "outputs": [
        {
          "name": "stdout",
          "output_type": "stream",
          "text": [
            "12345 True ali\n",
            "arifin\n"
          ]
        }
      ],
      "source": [
        "print(\"12345\",True,\"ali\")\n",
        "print(\"arifin\")"
      ]
    },
    {
      "cell_type": "code",
      "execution_count": 6,
      "metadata": {
        "colab": {
          "base_uri": "https://localhost:8080/"
        },
        "id": "GdOnm6JS3x7I",
        "outputId": "916910c0-7b4a-4f4b-accb-eb47b4bb7cb0"
      },
      "outputs": [
        {
          "name": "stdout",
          "output_type": "stream",
          "text": [
            "12345 True aliarifin\n"
          ]
        }
      ],
      "source": [
        "print(\"12345\",True,\"ali\",end=\"\")\n",
        "print(\"arifin\")"
      ]
    },
    {
      "cell_type": "code",
      "execution_count": 9,
      "metadata": {
        "colab": {
          "base_uri": "https://localhost:8080/"
        },
        "id": "0MCLM6gL33zr",
        "outputId": "47c3d98b-a463-4148-d359-3ca0f405fb4f"
      },
      "outputs": [
        {
          "name": "stdout",
          "output_type": "stream",
          "text": [
            "12345 True ali\n",
            "arifin\n"
          ]
        }
      ],
      "source": [
        "print(\"12345\",True,\"ali\",end=\"\\n\")\n",
        "print(\"arifin\")"
      ]
    },
    {
      "cell_type": "code",
      "execution_count": 10,
      "metadata": {
        "colab": {
          "base_uri": "https://localhost:8080/"
        },
        "id": "39ZLz0ZD3_IE",
        "outputId": "a3521614-0929-49ad-d49c-9f740656eac5"
      },
      "outputs": [
        {
          "name": "stdout",
          "output_type": "stream",
          "text": [
            "12345 True ali\tarifin\n"
          ]
        }
      ],
      "source": [
        "print(\"12345\",True,\"ali\",end=\"\\t\")\n",
        "print(\"arifin\")"
      ]
    },
    {
      "cell_type": "markdown",
      "metadata": {
        "id": "yxGmi3zH8OkC"
      },
      "source": [
        "**Math module**"
      ]
    },
    {
      "cell_type": "code",
      "execution_count": 11,
      "metadata": {
        "colab": {
          "base_uri": "https://localhost:8080/"
        },
        "id": "ppu081vT8R5Y",
        "outputId": "b28582f6-a254-40cb-d18c-3d0f7ed45aa5"
      },
      "outputs": [
        {
          "name": "stdout",
          "output_type": "stream",
          "text": [
            "3.141592653589793\n"
          ]
        }
      ],
      "source": [
        "import math\n",
        "print(math.pi)"
      ]
    },
    {
      "cell_type": "code",
      "execution_count": 12,
      "metadata": {
        "colab": {
          "base_uri": "https://localhost:8080/"
        },
        "id": "NpQw05Xj8YiI",
        "outputId": "b59f7266-7a70-4ef6-dac3-40d66a5c8b46"
      },
      "outputs": [
        {
          "data": {
            "text/plain": [
              "4"
            ]
          },
          "execution_count": 12,
          "metadata": {},
          "output_type": "execute_result"
        }
      ],
      "source": [
        "math.trunc(4.953999)"
      ]
    },
    {
      "cell_type": "code",
      "execution_count": 13,
      "metadata": {
        "colab": {
          "base_uri": "https://localhost:8080/"
        },
        "id": "KDWBB4kHAicG",
        "outputId": "9e72e408-68be-4387-8322-617678efc2ce"
      },
      "outputs": [
        {
          "data": {
            "text/plain": [
              "5"
            ]
          },
          "execution_count": 13,
          "metadata": {},
          "output_type": "execute_result"
        }
      ],
      "source": [
        "math.floor(5.8)"
      ]
    },
    {
      "cell_type": "code",
      "execution_count": 14,
      "metadata": {
        "colab": {
          "base_uri": "https://localhost:8080/"
        },
        "id": "ylbyMnfV9WYX",
        "outputId": "9072f63c-68c0-44f9-9b6f-4e83d22b43a0"
      },
      "outputs": [
        {
          "data": {
            "text/plain": [
              "1.6197751905438615"
            ]
          },
          "execution_count": 14,
          "metadata": {},
          "output_type": "execute_result"
        }
      ],
      "source": [
        "math.tan(45)"
      ]
    },
    {
      "cell_type": "code",
      "execution_count": 15,
      "metadata": {
        "colab": {
          "base_uri": "https://localhost:8080/"
        },
        "id": "BmIg1edP9vSv",
        "outputId": "93471cc3-e6a9-411d-df58-8f8704e86fbc"
      },
      "outputs": [
        {
          "data": {
            "text/plain": [
              "3.0"
            ]
          },
          "execution_count": 15,
          "metadata": {},
          "output_type": "execute_result"
        }
      ],
      "source": [
        "math.sqrt(9)"
      ]
    },
    {
      "cell_type": "code",
      "execution_count": 16,
      "metadata": {
        "colab": {
          "base_uri": "https://localhost:8080/"
        },
        "id": "M90qjz8S98Z_",
        "outputId": "85757204-445f-4cb6-b27d-364e88ef5516"
      },
      "outputs": [
        {
          "data": {
            "text/plain": [
              "1.5707963267948966"
            ]
          },
          "execution_count": 16,
          "metadata": {},
          "output_type": "execute_result"
        }
      ],
      "source": [
        "math.radians(90)"
      ]
    },
    {
      "cell_type": "code",
      "execution_count": 17,
      "metadata": {
        "colab": {
          "base_uri": "https://localhost:8080/"
        },
        "id": "XN-x7LfcAJx9",
        "outputId": "f15777b9-9359-4b10-8de8-6140ce558867"
      },
      "outputs": [
        {
          "data": {
            "text/plain": [
              "360.0"
            ]
          },
          "execution_count": 17,
          "metadata": {},
          "output_type": "execute_result"
        }
      ],
      "source": [
        "math.degrees(2*math.pi)"
      ]
    },
    {
      "cell_type": "code",
      "execution_count": 18,
      "metadata": {
        "colab": {
          "base_uri": "https://localhost:8080/"
        },
        "id": "DJjBkLgRATEV",
        "outputId": "bb0d7087-2814-4816-b71f-8ffa07c4b279"
      },
      "outputs": [
        {
          "data": {
            "text/plain": [
              "7.38905609893065"
            ]
          },
          "execution_count": 18,
          "metadata": {},
          "output_type": "execute_result"
        }
      ],
      "source": [
        "math.exp(2)"
      ]
    },
    {
      "cell_type": "code",
      "execution_count": 19,
      "metadata": {
        "colab": {
          "base_uri": "https://localhost:8080/"
        },
        "id": "0y-YEIId-IMt",
        "outputId": "04ee1428-ebb1-49a7-d1e6-e6043ff941da"
      },
      "outputs": [
        {
          "data": {
            "text/plain": [
              "81.0"
            ]
          },
          "execution_count": 19,
          "metadata": {},
          "output_type": "execute_result"
        }
      ],
      "source": [
        "math.pow(3,4)"
      ]
    },
    {
      "cell_type": "code",
      "execution_count": 24,
      "metadata": {
        "colab": {
          "base_uri": "https://localhost:8080/"
        },
        "id": "sRaHFFex-hwO",
        "outputId": "4e225ed7-fb9b-4488-d9cb-128b6df9af97"
      },
      "outputs": [
        {
          "data": {
            "text/plain": [
              "-3.0"
            ]
          },
          "execution_count": 24,
          "metadata": {},
          "output_type": "execute_result"
        }
      ],
      "source": [
        "math.remainder(18,7)"
      ]
    },
    {
      "cell_type": "code",
      "execution_count": 25,
      "metadata": {},
      "outputs": [
        {
          "data": {
            "text/plain": [
              "4"
            ]
          },
          "execution_count": 25,
          "metadata": {},
          "output_type": "execute_result"
        }
      ],
      "source": [
        "18%7"
      ]
    },
    {
      "cell_type": "code",
      "execution_count": 21,
      "metadata": {
        "colab": {
          "base_uri": "https://localhost:8080/"
        },
        "id": "yKfra2Kf_Z0C",
        "outputId": "3ed050dd-90a0-44e6-cf10-e5278bdbaa6e"
      },
      "outputs": [
        {
          "data": {
            "text/plain": [
              "5"
            ]
          },
          "execution_count": 21,
          "metadata": {},
          "output_type": "execute_result"
        }
      ],
      "source": [
        "math.gcd(75,70)"
      ]
    },
    {
      "cell_type": "markdown",
      "metadata": {
        "id": "J-p0SZQs5vh6"
      },
      "source": [
        "**Basic numpy practice**"
      ]
    },
    {
      "cell_type": "code",
      "execution_count": 47,
      "metadata": {
        "colab": {
          "base_uri": "https://localhost:8080/"
        },
        "id": "oV8LnUxLOeGy",
        "outputId": "60b2768e-b13a-43d6-949e-2e250fa5713f"
      },
      "outputs": [
        {
          "name": "stdout",
          "output_type": "stream",
          "text": [
            "[1 2 3 4 5]\n",
            "[False False False False  True]\n"
          ]
        }
      ],
      "source": [
        "import numpy as np\n",
        "lis=[1,2,3,4,5]\n",
        "np_lis=np.array(lis)\n",
        "print(np_lis)\n",
        "a=np_lis > 4\n",
        "print(a)"
      ]
    },
    {
      "cell_type": "code",
      "execution_count": 49,
      "metadata": {
        "colab": {
          "base_uri": "https://localhost:8080/"
        },
        "id": "z5a3sXyDO5FJ",
        "outputId": "75094446-8d36-441b-b242-2547c7089f0b"
      },
      "outputs": [
        {
          "name": "stdout",
          "output_type": "stream",
          "text": [
            "[5]\n"
          ]
        }
      ],
      "source": [
        "x=np_lis[np_lis > 4]\n",
        "print(x)"
      ]
    },
    {
      "cell_type": "code",
      "execution_count": 50,
      "metadata": {
        "colab": {
          "base_uri": "https://localhost:8080/"
        },
        "id": "cduY34iI5QIC",
        "outputId": "3a718c91-22c9-4011-a51f-205b430b3f35"
      },
      "outputs": [
        {
          "data": {
            "text/plain": [
              "array([11, 10,  9,  8])"
            ]
          },
          "execution_count": 50,
          "metadata": {},
          "output_type": "execute_result"
        }
      ],
      "source": [
        "import numpy as np\n",
        "a=np.array([9,8,7,6])\n",
        "a+2"
      ]
    },
    {
      "cell_type": "code",
      "execution_count": 53,
      "metadata": {
        "colab": {
          "base_uri": "https://localhost:8080/"
        },
        "id": "tMCqjEihBXJm",
        "outputId": "5e9ddb97-f92d-4d1f-9e41-71ddca8375e5"
      },
      "outputs": [
        {
          "data": {
            "text/plain": [
              "np.float64(0.11180339887498948)"
            ]
          },
          "execution_count": 53,
          "metadata": {},
          "output_type": "execute_result"
        }
      ],
      "source": [
        "np.std([1,1.1,1.2,1.3])\n"
      ]
    },
    {
      "cell_type": "code",
      "execution_count": 54,
      "metadata": {
        "colab": {
          "base_uri": "https://localhost:8080/"
        },
        "id": "eZBF24bZScgJ",
        "outputId": "53642092-13de-4141-dfe9-d14058c6de23"
      },
      "outputs": [
        {
          "data": {
            "text/plain": [
              "np.float64(0.0)"
            ]
          },
          "execution_count": 54,
          "metadata": {},
          "output_type": "execute_result"
        }
      ],
      "source": [
        "np.std([1,1,1,1])"
      ]
    },
    {
      "cell_type": "code",
      "execution_count": 55,
      "metadata": {
        "colab": {
          "base_uri": "https://localhost:8080/"
        },
        "id": "mGhTZ2KDSoiU",
        "outputId": "46225f22-4033-4a59-f655-87f920b21948"
      },
      "outputs": [
        {
          "data": {
            "text/plain": [
              "np.float64(0.6666666666666666)"
            ]
          },
          "execution_count": 55,
          "metadata": {},
          "output_type": "execute_result"
        }
      ],
      "source": [
        "np.var([1,2,3])"
      ]
    },
    {
      "cell_type": "code",
      "execution_count": 56,
      "metadata": {
        "colab": {
          "base_uri": "https://localhost:8080/"
        },
        "id": "pnQAH2tnSu3U",
        "outputId": "aced0f6e-9994-454d-8653-a4f02fa0171b"
      },
      "outputs": [
        {
          "data": {
            "text/plain": [
              "np.float64(0.816496580927726)"
            ]
          },
          "execution_count": 56,
          "metadata": {},
          "output_type": "execute_result"
        }
      ],
      "source": [
        "np.std([1,2,3])"
      ]
    },
    {
      "cell_type": "code",
      "execution_count": 57,
      "metadata": {
        "colab": {
          "base_uri": "https://localhost:8080/"
        },
        "id": "t9ywOiV2S7Ug",
        "outputId": "5989741d-1b8f-48f6-837f-e02df78b1066"
      },
      "outputs": [
        {
          "data": {
            "text/plain": [
              "array([[1., 1.],\n",
              "       [1., 1.]])"
            ]
          },
          "execution_count": 57,
          "metadata": {},
          "output_type": "execute_result"
        }
      ],
      "source": [
        "np.corrcoef([1,2,3],[1,2,3])"
      ]
    },
    {
      "cell_type": "markdown",
      "metadata": {
        "id": "ljyFZYjMlFYz"
      },
      "source": [
        "**math & numpy**"
      ]
    },
    {
      "cell_type": "code",
      "execution_count": 58,
      "metadata": {
        "colab": {
          "base_uri": "https://localhost:8080/"
        },
        "id": "Zz5IjDE5lH97",
        "outputId": "d37430d3-bc83-4968-fabb-a457ed2ac4a0"
      },
      "outputs": [
        {
          "data": {
            "text/plain": [
              "array([ 3.14159265, 12.56637061, 28.27433388])"
            ]
          },
          "execution_count": 58,
          "metadata": {},
          "output_type": "execute_result"
        }
      ],
      "source": [
        "import math\n",
        "import numpy as np\n",
        "r=np.array([1,2,3])\n",
        "a=math.pi * r **2\n",
        "a"
      ]
    },
    {
      "cell_type": "markdown",
      "metadata": {
        "id": "V2KexhDS6HLN"
      },
      "source": [
        "**list of tuples -> list (using list comprehension)**"
      ]
    },
    {
      "cell_type": "code",
      "execution_count": 59,
      "metadata": {
        "colab": {
          "base_uri": "https://localhost:8080/"
        },
        "id": "Om7jTA_JQZb5",
        "outputId": "4c696c64-42c1-4c3e-8618-727d47a2570b"
      },
      "outputs": [
        {
          "name": "stdout",
          "output_type": "stream",
          "text": [
            "[2, 12, 30]\n"
          ]
        }
      ],
      "source": [
        "a=[(1,2),(3,4),(5,6)]\n",
        "pro=[i[0]*i[1] for i in a]\n",
        "print(pro)"
      ]
    },
    {
      "cell_type": "markdown",
      "metadata": {
        "id": "L76tBCNI6faT"
      },
      "source": [
        "**Nested for loop practice**"
      ]
    },
    {
      "cell_type": "code",
      "execution_count": 60,
      "metadata": {
        "colab": {
          "base_uri": "https://localhost:8080/"
        },
        "id": "FaLlUNRpAmcv",
        "outputId": "1dab1fbb-4709-4f45-bac2-845ef00463af"
      },
      "outputs": [
        {
          "name": "stdout",
          "output_type": "stream",
          "text": [
            "2\n",
            "3\n",
            "4\n",
            "3\n",
            "4\n",
            "5\n",
            "4\n",
            "5\n",
            "6\n"
          ]
        }
      ],
      "source": [
        "for i in [1,2,3]:      #  1   1   1   2    2    2    3     3    3\n",
        "  for j in [1,2,3]:    #  1   2   3   1    2    3    1     2    3\n",
        "    print(i+j)         #  2   3   4   3    4    5    4     5    6\n"
      ]
    },
    {
      "cell_type": "code",
      "execution_count": 61,
      "metadata": {
        "colab": {
          "base_uri": "https://localhost:8080/"
        },
        "id": "m9ZG9PSnB8Dr",
        "outputId": "d253ac2e-6f95-4488-a273-82296cbd9657"
      },
      "outputs": [
        {
          "name": "stdout",
          "output_type": "stream",
          "text": [
            "1\n",
            "2\n",
            "3\n",
            "2\n",
            "3\n",
            "4\n",
            "3\n",
            "4\n",
            "5\n"
          ]
        }
      ],
      "source": [
        "for i in [1,2,3]:                 #  1 1 1 2 2 2 3 3 3\n",
        "  for j in range(3):              #  0 1 2 0 1 2 0 1 2\n",
        "    print(i+j)                    #  1 2 3 2 3 4 3 4 5"
      ]
    },
    {
      "cell_type": "code",
      "execution_count": 62,
      "metadata": {
        "colab": {
          "base_uri": "https://localhost:8080/"
        },
        "id": "Q6WsRJVOCd_W",
        "outputId": "f54e98d5-63da-45dc-982a-d5aeceea5466"
      },
      "outputs": [
        {
          "name": "stdout",
          "output_type": "stream",
          "text": [
            "2\n",
            "3\n",
            "3\n",
            "4\n",
            "5\n",
            "4\n",
            "5\n",
            "6\n",
            "7\n"
          ]
        }
      ],
      "source": [
        "for i in range(2,5):            # 2  2  3 3 3 4 4 4 4 \n",
        "  for j in range(i):            # 0  1  0 1 2 0 1 2 3\n",
        "    print(i+j)"
      ]
    },
    {
      "cell_type": "code",
      "execution_count": 63,
      "metadata": {
        "colab": {
          "base_uri": "https://localhost:8080/"
        },
        "id": "7AjcHDj9C-mo",
        "outputId": "34995cd9-3188-46da-ee18-5b0e9e0d249d"
      },
      "outputs": [
        {
          "name": "stdout",
          "output_type": "stream",
          "text": [
            "2.0\n",
            "1.0\n",
            "3.0\n",
            "1.5\n",
            "1.0\n",
            "4.0\n",
            "2.0\n",
            "1.3333333333333333\n",
            "1.0\n"
          ]
        }
      ],
      "source": [
        "for i in range(2,5):                  # 2 2  3 3 3  4 4 4 4\n",
        "  for j in range(1,i+1):              # 1 2  1 2 3  1 2 3 4\n",
        "      print(i/j)\n"
      ]
    },
    {
      "cell_type": "code",
      "execution_count": 64,
      "metadata": {
        "colab": {
          "base_uri": "https://localhost:8080/"
        },
        "id": "7CeKOuGqPy1L",
        "outputId": "f4d41ea0-b5c5-4adc-d65e-ab17c7102089"
      },
      "outputs": [
        {
          "data": {
            "text/plain": [
              "range"
            ]
          },
          "execution_count": 64,
          "metadata": {},
          "output_type": "execute_result"
        }
      ],
      "source": [
        "a=range(2,12)\n",
        "type(a)"
      ]
    },
    {
      "cell_type": "code",
      "execution_count": 65,
      "metadata": {
        "colab": {
          "base_uri": "https://localhost:8080/"
        },
        "id": "ZR--Ci2tGM2Z",
        "outputId": "a43df5f7-1677-4795-b748-4fd5a3c17e15"
      },
      "outputs": [
        {
          "name": "stdout",
          "output_type": "stream",
          "text": [
            "2\n",
            "3\n",
            "4\n",
            "5\n",
            "6\n",
            "7\n",
            "8\n",
            "9\n",
            "10\n",
            "11\n"
          ]
        }
      ],
      "source": [
        "a=range(2,12)\n",
        "for i in a:\n",
        "  print(i)"
      ]
    },
    {
      "cell_type": "markdown",
      "metadata": {
        "id": "hkhH_EE7cjnz"
      },
      "source": [
        "**Arbitrary Arguments, args:**\n",
        "If you do not know how many arguments that will be passed into your function, add * before the parameter name in the function definition.\n",
        "\n",
        "This way the function will receive a **tuple** of arguments, and can access the items accordingly"
      ]
    },
    {
      "cell_type": "code",
      "execution_count": 66,
      "metadata": {
        "colab": {
          "base_uri": "https://localhost:8080/"
        },
        "id": "ppuvoVcLbhFb",
        "outputId": "06d6d942-a5a3-487c-e2a9-4435f3412620"
      },
      "outputs": [
        {
          "data": {
            "text/plain": [
              "tuple"
            ]
          },
          "execution_count": 66,
          "metadata": {},
          "output_type": "execute_result"
        }
      ],
      "source": [
        "def arifin(*args):\n",
        "  return type(args)\n",
        "arifin(1,2,3,4,5,6)"
      ]
    },
    {
      "cell_type": "markdown",
      "metadata": {
        "id": "hEI23sumTzpX"
      },
      "source": [
        "**Arbitrary Keyword Arguments** \n",
        "\n",
        "If you do not know how many keyword arguments that will be passed into your function, add two asterisk: ** before the parameter name in the function definition.\n",
        "\n",
        "This way the function will receive a **dictionary** of arguments, and can access the items accordingly\n",
        "\n"
      ]
    },
    {
      "cell_type": "code",
      "execution_count": 67,
      "metadata": {
        "colab": {
          "base_uri": "https://localhost:8080/"
        },
        "id": "l8nFnF6v5Hzs",
        "outputId": "94f65dba-eac7-4b7a-bae2-72b28e65e994"
      },
      "outputs": [
        {
          "data": {
            "text/plain": [
              "dict"
            ]
          },
          "execution_count": 67,
          "metadata": {},
          "output_type": "execute_result"
        }
      ],
      "source": [
        "def ali(**kwargs):\n",
        "  return type(kwargs)\n",
        "ali(a='188',c='2',d='4')"
      ]
    },
    {
      "cell_type": "code",
      "execution_count": 68,
      "metadata": {
        "colab": {
          "base_uri": "https://localhost:8080/"
        },
        "id": "a4Q_eZNHUXBC",
        "outputId": "98bf6c54-3af8-4572-f806-6d99694b98c1"
      },
      "outputs": [
        {
          "data": {
            "text/plain": [
              "dict"
            ]
          },
          "execution_count": 68,
          "metadata": {},
          "output_type": "execute_result"
        }
      ],
      "source": [
        "ali(a=1,c=2,d=4)"
      ]
    },
    {
      "cell_type": "markdown",
      "metadata": {
        "id": "IgWqL1Szbb2a"
      },
      "source": [
        "**iterrows() practice**"
      ]
    },
    {
      "cell_type": "code",
      "execution_count": 69,
      "metadata": {
        "colab": {
          "base_uri": "https://localhost:8080/",
          "height": 112
        },
        "id": "gb_anlHwWpWt",
        "outputId": "30243d9d-5ce6-4fdb-d850-28f2aff20ee7"
      },
      "outputs": [
        {
          "data": {
            "text/html": [
              "<div>\n",
              "<style scoped>\n",
              "    .dataframe tbody tr th:only-of-type {\n",
              "        vertical-align: middle;\n",
              "    }\n",
              "\n",
              "    .dataframe tbody tr th {\n",
              "        vertical-align: top;\n",
              "    }\n",
              "\n",
              "    .dataframe thead th {\n",
              "        text-align: right;\n",
              "    }\n",
              "</style>\n",
              "<table border=\"1\" class=\"dataframe\">\n",
              "  <thead>\n",
              "    <tr style=\"text-align: right;\">\n",
              "      <th></th>\n",
              "      <th>a</th>\n",
              "      <th>b</th>\n",
              "    </tr>\n",
              "  </thead>\n",
              "  <tbody>\n",
              "    <tr>\n",
              "      <th>0</th>\n",
              "      <td>ali</td>\n",
              "      <td>3</td>\n",
              "    </tr>\n",
              "    <tr>\n",
              "      <th>1</th>\n",
              "      <td>arifin</td>\n",
              "      <td>4</td>\n",
              "    </tr>\n",
              "  </tbody>\n",
              "</table>\n",
              "</div>"
            ],
            "text/plain": [
              "        a  b\n",
              "0     ali  3\n",
              "1  arifin  4"
            ]
          },
          "execution_count": 69,
          "metadata": {},
          "output_type": "execute_result"
        }
      ],
      "source": [
        "import pandas as pd\n",
        "dic={'a':['ali','arifin'],'b':[3,4]}\n",
        "df=pd.DataFrame(dic)\n",
        "df"
      ]
    },
    {
      "cell_type": "code",
      "execution_count": 70,
      "metadata": {
        "colab": {
          "base_uri": "https://localhost:8080/"
        },
        "id": "w-3Nvp9paJLc",
        "outputId": "af2d2f9c-0194-4724-c563-94e41856eb74"
      },
      "outputs": [
        {
          "name": "stdout",
          "output_type": "stream",
          "text": [
            "0:ali\n",
            "1:arifin\n"
          ]
        }
      ],
      "source": [
        "for i,j in df.iterrows():\n",
        "  print(str(i)+\":\"+str(j['a']))"
      ]
    },
    {
      "cell_type": "code",
      "execution_count": 71,
      "metadata": {
        "colab": {
          "base_uri": "https://localhost:8080/"
        },
        "id": "SIkF6NDda-0z",
        "outputId": "282db51c-ac86-4fef-a832-04f9ed6cf240"
      },
      "outputs": [
        {
          "name": "stdout",
          "output_type": "stream",
          "text": [
            "a\n",
            "b\n"
          ]
        }
      ],
      "source": [
        "for k in df:\n",
        "  print(k)"
      ]
    },
    {
      "cell_type": "markdown",
      "metadata": {
        "id": "ZdFHWxlIl1sO"
      },
      "source": [
        "**nested function**"
      ]
    },
    {
      "cell_type": "code",
      "execution_count": 72,
      "metadata": {
        "colab": {
          "base_uri": "https://localhost:8080/",
          "height": 35
        },
        "id": "pSQa8rQ0Z9lK",
        "outputId": "8b4a696b-2ff1-4943-a95b-d8a4524802a7"
      },
      "outputs": [
        {
          "data": {
            "text/plain": [
              "'Arifin'"
            ]
          },
          "execution_count": 72,
          "metadata": {},
          "output_type": "execute_result"
        }
      ],
      "source": [
        "def capword(a):\n",
        "  return a.capitalize()\n",
        "capword('aRiFiN')"
      ]
    },
    {
      "cell_type": "code",
      "execution_count": 73,
      "metadata": {
        "colab": {
          "base_uri": "https://localhost:8080/"
        },
        "id": "dcFWx9b9dqA1",
        "outputId": "399e1c0b-ea6d-4c44-b15f-9d30b3426463"
      },
      "outputs": [
        {
          "data": {
            "text/plain": [
              "['Arifin', 'Alyyy']"
            ]
          },
          "execution_count": 73,
          "metadata": {},
          "output_type": "execute_result"
        }
      ],
      "source": [
        "def capitalist(a):\n",
        "  return [a[0].capitalize(),a[1].capitalize()]\n",
        "capitalist(['aRiFiN','alyyy'])"
      ]
    },
    {
      "cell_type": "code",
      "execution_count": 75,
      "metadata": {
        "colab": {
          "base_uri": "https://localhost:8080/"
        },
        "id": "IWP4TTH-ajPN",
        "outputId": "b30a4248-f3e1-43dd-9dc7-623d21e1e0e4"
      },
      "outputs": [
        {
          "data": {
            "text/plain": [
              "['Ali', 'Alyy']"
            ]
          },
          "execution_count": 75,
          "metadata": {},
          "output_type": "execute_result"
        }
      ],
      "source": [
        "def caplist(l):                                       # 1\n",
        "  def cword(m):                                       # 3\n",
        "    return m.capitalize()                             # 4\n",
        "  return [cword(l[0]),cword(l[1])]                    # 2\n",
        "caplist([\"ali\",\"alyy\"])"
      ]
    },
    {
      "cell_type": "markdown",
      "metadata": {
        "id": "HzKwjS4Dl5S8"
      },
      "source": [
        "**while loop practice**"
      ]
    },
    {
      "cell_type": "code",
      "execution_count": 76,
      "metadata": {
        "colab": {
          "base_uri": "https://localhost:8080/"
        },
        "id": "bh900rNTg_aW",
        "outputId": "98d4de9a-4d38-4095-e821-4c1745612b43"
      },
      "outputs": [
        {
          "name": "stdout",
          "output_type": "stream",
          "text": [
            "0\n",
            "1\n",
            "2\n",
            "3\n",
            "4\n"
          ]
        }
      ],
      "source": [
        "i=0\n",
        "while i<5:\n",
        "  print(i)\n",
        "  i=i+1\n",
        "  "
      ]
    },
    {
      "cell_type": "code",
      "execution_count": 77,
      "metadata": {
        "colab": {
          "base_uri": "https://localhost:8080/"
        },
        "id": "t8URRuqRivV_",
        "outputId": "de60c242-fe46-4b01-edc0-568b5cc2252a"
      },
      "outputs": [
        {
          "name": "stdout",
          "output_type": "stream",
          "text": [
            "-4\n",
            "-3\n",
            "-2\n",
            "-1\n",
            "0\n",
            "1\n",
            "2\n",
            "3\n",
            "4\n"
          ]
        }
      ],
      "source": [
        "i=-4\n",
        "while i<5:\n",
        "  print(i)\n",
        "  i=i+1\n"
      ]
    },
    {
      "cell_type": "code",
      "execution_count": 78,
      "metadata": {
        "colab": {
          "base_uri": "https://localhost:8080/"
        },
        "id": "utP9lPW-i8e6",
        "outputId": "2e607751-4b38-44b2-ab80-e0a00a7e7de3"
      },
      "outputs": [
        {
          "name": "stdout",
          "output_type": "stream",
          "text": [
            "-4\n",
            "-3\n",
            "-2\n",
            "-1\n",
            "0\n"
          ]
        }
      ],
      "source": [
        "i=-4\n",
        "while i<1:\n",
        "  print(i)\n",
        "  i=i+1"
      ]
    },
    {
      "cell_type": "code",
      "execution_count": 81,
      "metadata": {
        "colab": {
          "base_uri": "https://localhost:8080/"
        },
        "id": "zrqHCCfWj4w1",
        "outputId": "6074e7ea-414b-4386-bc43-0265f62816af"
      },
      "outputs": [
        {
          "data": {
            "text/plain": [
              "2160207135088"
            ]
          },
          "execution_count": 81,
          "metadata": {},
          "output_type": "execute_result"
        }
      ],
      "source": [
        "c=5\n",
        "id(c)"
      ]
    },
    {
      "cell_type": "code",
      "execution_count": 83,
      "metadata": {
        "colab": {
          "base_uri": "https://localhost:8080/"
        },
        "id": "CuccjeKRkjYs",
        "outputId": "3835c42e-bbbb-4cd6-8a4d-e921bcae6f2e"
      },
      "outputs": [
        {
          "name": "stdout",
          "output_type": "stream",
          "text": [
            "2\n"
          ]
        }
      ],
      "source": [
        "a=[[1,2,3],[1,2,3]]\n",
        "print(len(a))"
      ]
    },
    {
      "cell_type": "code",
      "execution_count": 84,
      "metadata": {
        "colab": {
          "base_uri": "https://localhost:8080/"
        },
        "id": "-VhBhtXnmFsl",
        "outputId": "221a8f96-a756-4bb3-be69-b3931b1e2dad"
      },
      "outputs": [
        {
          "name": "stdout",
          "output_type": "stream",
          "text": [
            "3\n"
          ]
        }
      ],
      "source": [
        "a=[[1,2,3],[1,2,3],[1,1,1]]\n",
        "print(len(a))"
      ]
    },
    {
      "cell_type": "code",
      "execution_count": 85,
      "metadata": {
        "colab": {
          "base_uri": "https://localhost:8080/"
        },
        "id": "D3A_7TzbmMCN",
        "outputId": "dbe33a11-bd36-457c-b6b8-6c46f63ec25b"
      },
      "outputs": [
        {
          "name": "stdout",
          "output_type": "stream",
          "text": [
            "4\n"
          ]
        }
      ],
      "source": [
        "a=[[1,1,1],[2,22,2],[3,3,33],[11,1,1]]\n",
        "print(len(a))"
      ]
    },
    {
      "cell_type": "code",
      "execution_count": 86,
      "metadata": {
        "colab": {
          "base_uri": "https://localhost:8080/"
        },
        "id": "sSpdG_qMmYUq",
        "outputId": "10a2a860-52fe-46d8-9e47-c6ee1768ff1a"
      },
      "outputs": [
        {
          "name": "stdout",
          "output_type": "stream",
          "text": [
            "3\n"
          ]
        }
      ],
      "source": [
        "a=[[1,1],[1,1,1,1],[1,1,1,1,1,1,1,1]]\n",
        "print(len(a))"
      ]
    },
    {
      "cell_type": "code",
      "execution_count": 89,
      "metadata": {},
      "outputs": [
        {
          "data": {
            "text/plain": [
              "4"
            ]
          },
          "execution_count": 89,
          "metadata": {},
          "output_type": "execute_result"
        }
      ],
      "source": [
        "4%7"
      ]
    },
    {
      "cell_type": "code",
      "execution_count": 90,
      "metadata": {
        "colab": {
          "base_uri": "https://localhost:8080/"
        },
        "id": "--EgMp-zm6jd",
        "outputId": "60386047-dcb7-467c-db21-ab72225669f5"
      },
      "outputs": [
        {
          "data": {
            "text/plain": [
              "10"
            ]
          },
          "execution_count": 90,
          "metadata": {},
          "output_type": "execute_result"
        }
      ],
      "source": [
        "4%7+6"
      ]
    }
  ],
  "metadata": {
    "colab": {
      "collapsed_sections": [],
      "name": "Practice.ipynb",
      "provenance": []
    },
    "kernelspec": {
      "display_name": "Python 3",
      "name": "python3"
    },
    "language_info": {
      "codemirror_mode": {
        "name": "ipython",
        "version": 3
      },
      "file_extension": ".py",
      "mimetype": "text/x-python",
      "name": "python",
      "nbconvert_exporter": "python",
      "pygments_lexer": "ipython3",
      "version": "3.10.11"
    }
  },
  "nbformat": 4,
  "nbformat_minor": 0
}
