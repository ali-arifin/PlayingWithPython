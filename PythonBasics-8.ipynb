{
  "cells": [
    {
      "cell_type": "markdown",
      "metadata": {
        "id": "_xSNdrwWU5B7"
      },
      "source": [
        "**print last digit of a number**"
      ]
    },
    {
      "cell_type": "code",
      "execution_count": 1,
      "metadata": {
        "colab": {
          "base_uri": "https://localhost:8080/"
        },
        "id": "1mjCW01V--ZY",
        "outputId": "7777c8dd-0d0f-42b7-f9b9-ef1dc522d0eb"
      },
      "outputs": [
        {
          "name": "stdout",
          "output_type": "stream",
          "text": [
            "4\n"
          ]
        }
      ],
      "source": [
        "num=input(\"enter num\")\n",
        "print(int(num[-1]))"
      ]
    },
    {
      "cell_type": "code",
      "execution_count": 4,
      "metadata": {
        "colab": {
          "base_uri": "https://localhost:8080/"
        },
        "id": "fD5DRaVhACPH",
        "outputId": "ef45e7af-c185-4ad8-ed6e-c829216d8ed8"
      },
      "outputs": [
        {
          "name": "stdout",
          "output_type": "stream",
          "text": [
            "4\n"
          ]
        }
      ],
      "source": [
        "num=int(input(\"enter num\"))\n",
        "print(num%10)"
      ]
    },
    {
      "cell_type": "markdown",
      "metadata": {
        "id": "ob42zW-BVV3F"
      },
      "source": [
        "**leap year**"
      ]
    },
    {
      "cell_type": "code",
      "execution_count": 5,
      "metadata": {},
      "outputs": [
        {
          "name": "stdout",
          "output_type": "stream",
          "text": [
            "normal\n"
          ]
        }
      ],
      "source": [
        "year=int(input(\"enter year\"))\n",
        "if (year % 4 == 0 and year % 100 != 0 or year % 400 == 0):\n",
        "  print('leap year')\n",
        "else:\n",
        "  print('normal')"
      ]
    },
    {
      "attachments": {},
      "cell_type": "markdown",
      "metadata": {},
      "source": [
        "**Pattern Making**"
      ]
    },
    {
      "cell_type": "code",
      "execution_count": 6,
      "metadata": {},
      "outputs": [
        {
          "name": "stdout",
          "output_type": "stream",
          "text": [
            "\n",
            "*\n",
            "**\n",
            "***\n",
            "****\n"
          ]
        }
      ],
      "source": [
        "for i in range(5):\n",
        "    print(\"*\"*i)"
      ]
    },
    {
      "attachments": {},
      "cell_type": "markdown",
      "metadata": {},
      "source": [
        "**Factorial**"
      ]
    },
    {
      "cell_type": "code",
      "execution_count": 7,
      "metadata": {},
      "outputs": [
        {
          "name": "stdout",
          "output_type": "stream",
          "text": [
            "factorial of 5 is 120\n"
          ]
        }
      ],
      "source": [
        "num = int(input(\"enter no.\"))\n",
        "factorial=1\n",
        "for i in range(1, num+1):\n",
        "    factorial=factorial*i\n",
        "print(f\"factorial of {num} is {factorial}\")\n",
        "   "
      ]
    },
    {
      "attachments": {},
      "cell_type": "markdown",
      "metadata": {},
      "source": [
        "**Sum of digits up to n**"
      ]
    },
    {
      "cell_type": "code",
      "execution_count": 8,
      "metadata": {},
      "outputs": [
        {
          "name": "stdout",
          "output_type": "stream",
          "text": [
            "The sum is 15\n"
          ]
        }
      ],
      "source": [
        "num = int(input(\"enter no.\"))\n",
        "sum = 0\n",
        "while(num > 0):\n",
        "    sum = sum + num\n",
        "    num = num - 1\n",
        "print(\"The sum is\", sum)"
      ]
    },
    {
      "attachments": {},
      "cell_type": "markdown",
      "metadata": {},
      "source": [
        "**Prime Number Checker**"
      ]
    },
    {
      "cell_type": "code",
      "execution_count": 11,
      "metadata": {},
      "outputs": [
        {
          "name": "stdout",
          "output_type": "stream",
          "text": [
            "not prime\n"
          ]
        }
      ],
      "source": [
        "a=int(input(\"enter a number\"))\n",
        "prime=True\n",
        "for i in range(2,a):\n",
        "    if (a%i == 0):\n",
        "        prime=False\n",
        "        \n",
        "\n",
        "if prime==True:\n",
        "    print(\"prime\")\n",
        "else:\n",
        "    print(\"not prime\")\n",
        "    "
      ]
    },
    {
      "cell_type": "markdown",
      "metadata": {
        "id": "lNFrhSW7DPse"
      },
      "source": [
        "**for-continue**"
      ]
    },
    {
      "cell_type": "code",
      "execution_count": 12,
      "metadata": {
        "colab": {
          "base_uri": "https://localhost:8080/"
        },
        "id": "oEfO0pi6oD0i",
        "outputId": "1460c639-b468-49fa-ac41-c176a271a377"
      },
      "outputs": [
        {
          "name": "stdout",
          "output_type": "stream",
          "text": [
            "1\n",
            "5\n",
            "7\n",
            "11\n",
            "13\n",
            "17\n",
            "19\n"
          ]
        }
      ],
      "source": [
        "for i in range(1,21):\n",
        "  if (i%2==0) or (i%3==0):\n",
        "    continue\n",
        "  else:\n",
        "    print(i)"
      ]
    },
    {
      "cell_type": "markdown",
      "metadata": {
        "id": "2aEZC85sDa6O"
      },
      "source": [
        "**sum the integers till user inputs 0**"
      ]
    },
    {
      "cell_type": "code",
      "execution_count": 21,
      "metadata": {
        "colab": {
          "base_uri": "https://localhost:8080/"
        },
        "id": "BeE1krSWpBXc",
        "outputId": "9fd86196-1c31-4e41-b609-77ac795337ff"
      },
      "outputs": [
        {
          "name": "stdout",
          "output_type": "stream",
          "text": [
            "[4, 5, 6, 0]\n"
          ]
        },
        {
          "data": {
            "text/plain": [
              "np.int64(15)"
            ]
          },
          "execution_count": 21,
          "metadata": {},
          "output_type": "execute_result"
        }
      ],
      "source": [
        "import numpy as np\n",
        "flag=True\n",
        "numlist=[]\n",
        "while flag:\n",
        "  a=int(input(\"enter nums\"))\n",
        "  numlist.append(a)\n",
        "  if a==0:\n",
        "    flag=False\n",
        "print(numlist)\n",
        "np.sum(numlist)\n"
      ]
    },
    {
      "cell_type": "markdown",
      "metadata": {
        "id": "rkv5eoiuD1qZ"
      },
      "source": [
        "**skip odd nums in for-loop**"
      ]
    },
    {
      "cell_type": "code",
      "execution_count": 23,
      "metadata": {
        "colab": {
          "base_uri": "https://localhost:8080/"
        },
        "id": "hxtRpCyK0Tt-",
        "outputId": "4469595f-c91f-4e9f-d93e-0f6e8eea598d"
      },
      "outputs": [
        {
          "name": "stdout",
          "output_type": "stream",
          "text": [
            "12\n",
            "14\n",
            "16\n",
            "18\n",
            "20\n",
            "22\n",
            "24\n",
            "26\n",
            "28\n",
            "30\n",
            "32\n",
            "34\n",
            "36\n"
          ]
        }
      ],
      "source": [
        "for i in range(12,38):\n",
        "  if i%2!=0:\n",
        "    continue\n",
        "  else:\n",
        "    print(i)"
      ]
    },
    {
      "cell_type": "markdown",
      "metadata": {
        "id": "86brgjpdFepX"
      },
      "source": [
        "**multiplication table**"
      ]
    },
    {
      "cell_type": "code",
      "execution_count": 24,
      "metadata": {
        "colab": {
          "base_uri": "https://localhost:8080/"
        },
        "id": "ajaN_KZT1nze",
        "outputId": "c5d6fd39-3688-4f1c-847f-669e6a472748"
      },
      "outputs": [
        {
          "name": "stdout",
          "output_type": "stream",
          "text": [
            "5 X 0 = 0\n",
            "5 X 1 = 5\n",
            "5 X 2 = 10\n",
            "5 X 3 = 15\n",
            "5 X 4 = 20\n",
            "5 X 5 = 25\n"
          ]
        }
      ],
      "source": [
        "num=int(input(\"enter num\"))\n",
        "for i in range(num+1):\n",
        "  print(num,'X',i,'=',num*i)"
      ]
    },
    {
      "cell_type": "markdown",
      "metadata": {
        "id": "a3ZWrmpEFlfg"
      },
      "source": [
        "**sum the digits**"
      ]
    },
    {
      "cell_type": "code",
      "execution_count": 28,
      "metadata": {
        "colab": {
          "base_uri": "https://localhost:8080/"
        },
        "id": "EUU0rfJQ2b_k",
        "outputId": "19d51c76-d642-47b8-bf90-ac09fc067a96"
      },
      "outputs": [
        {
          "data": {
            "text/plain": [
              "np.int64(10)"
            ]
          },
          "execution_count": 28,
          "metadata": {},
          "output_type": "execute_result"
        }
      ],
      "source": [
        "num=input(\"enter digits\")\n",
        "a=[]\n",
        "for i in range(len(num)):\n",
        "  a.append(int(num[i]))\n",
        "np.sum(a)"
      ]
    },
    {
      "cell_type": "markdown",
      "metadata": {
        "id": "9gE3rvOYFuBn"
      },
      "source": [
        "**string to set**"
      ]
    },
    {
      "cell_type": "code",
      "execution_count": 29,
      "metadata": {
        "colab": {
          "base_uri": "https://localhost:8080/"
        },
        "id": "_F51h5v17-i2",
        "outputId": "0372caaa-be76-41c0-f62f-b04138d414b4"
      },
      "outputs": [
        {
          "data": {
            "text/plain": [
              "{'2', '3', '4'}"
            ]
          },
          "execution_count": 29,
          "metadata": {},
          "output_type": "execute_result"
        }
      ],
      "source": [
        "set('234') "
      ]
    },
    {
      "cell_type": "markdown",
      "metadata": {
        "id": "OC-yS8e5F0fI"
      },
      "source": [
        "**compare 2 sets**"
      ]
    },
    {
      "cell_type": "code",
      "execution_count": 30,
      "metadata": {
        "colab": {
          "base_uri": "https://localhost:8080/"
        },
        "id": "2i2NM8ze65QB",
        "outputId": "c91b1349-58d7-4cab-fe1c-bed6981d3890"
      },
      "outputs": [
        {
          "data": {
            "text/plain": [
              "True"
            ]
          },
          "execution_count": 30,
          "metadata": {},
          "output_type": "execute_result"
        }
      ],
      "source": [
        "set('234') < {'2','3','4','5'}"
      ]
    },
    {
      "attachments": {},
      "cell_type": "markdown",
      "metadata": {},
      "source": [
        "**add to a set**"
      ]
    },
    {
      "cell_type": "code",
      "execution_count": 31,
      "metadata": {},
      "outputs": [
        {
          "name": "stdout",
          "output_type": "stream",
          "text": [
            "{1, 2, 3, 4}\n",
            "{2, 3, 4}\n"
          ]
        }
      ],
      "source": [
        "a={1,2,3}\n",
        "a.add(4)\n",
        "print(a)\n",
        "a.discard(1)\n",
        "print(a)"
      ]
    },
    {
      "attachments": {},
      "cell_type": "markdown",
      "metadata": {},
      "source": [
        "**Add multiple items to the set**"
      ]
    },
    {
      "cell_type": "code",
      "execution_count": 32,
      "metadata": {},
      "outputs": [
        {
          "data": {
            "text/plain": [
              "{'apple', 'banana', 'cherry', 'grapes', 'mango', 'orange'}"
            ]
          },
          "execution_count": 32,
          "metadata": {},
          "output_type": "execute_result"
        }
      ],
      "source": [
        "fruits = {\"apple\", \"banana\", \"cherry\"}\n",
        "more_fruits = [\"orange\", \"mango\", \"grapes\"]\n",
        "fruits.update(more_fruits)\n",
        "fruits\n"
      ]
    },
    {
      "cell_type": "markdown",
      "metadata": {
        "id": "w3ND-_3nGBVv"
      },
      "source": [
        "**string to list**"
      ]
    },
    {
      "cell_type": "code",
      "execution_count": 33,
      "metadata": {
        "colab": {
          "base_uri": "https://localhost:8080/"
        },
        "id": "TF7ozm2D0TvN",
        "outputId": "6bf2b032-1dca-42f5-94d3-7a386d247b49"
      },
      "outputs": [
        {
          "data": {
            "text/plain": [
              "['2', '3', '4']"
            ]
          },
          "execution_count": 33,
          "metadata": {},
          "output_type": "execute_result"
        }
      ],
      "source": [
        "list('234')"
      ]
    },
    {
      "cell_type": "markdown",
      "metadata": {
        "id": "avHoSQCiGEs3"
      },
      "source": [
        "**compare 2 lists**"
      ]
    },
    {
      "cell_type": "code",
      "execution_count": 34,
      "metadata": {
        "colab": {
          "base_uri": "https://localhost:8080/"
        },
        "id": "nd_DSmnj8N-v",
        "outputId": "d24038af-b60d-4284-dde3-dba7cf848e75"
      },
      "outputs": [
        {
          "data": {
            "text/plain": [
              "True"
            ]
          },
          "execution_count": 34,
          "metadata": {},
          "output_type": "execute_result"
        }
      ],
      "source": [
        "list('234') < ['2','3','4','5']"
      ]
    },
    {
      "cell_type": "code",
      "execution_count": 35,
      "metadata": {
        "colab": {
          "base_uri": "https://localhost:8080/"
        },
        "id": "yKuFQgZU8dHw",
        "outputId": "e1e18fce-a6ad-4384-874c-280d1ea4de12"
      },
      "outputs": [
        {
          "data": {
            "text/plain": [
              "False"
            ]
          },
          "execution_count": 35,
          "metadata": {},
          "output_type": "execute_result"
        }
      ],
      "source": [
        "[0,0,3]>[0,1,1,1,1,1,1,1,1,1,1]"
      ]
    },
    {
      "cell_type": "markdown",
      "metadata": {
        "id": "gL9xkflMGKtg"
      },
      "source": [
        "**sort a list**"
      ]
    },
    {
      "cell_type": "code",
      "execution_count": 36,
      "metadata": {
        "colab": {
          "base_uri": "https://localhost:8080/"
        },
        "id": "6kfEzbnF-zqH",
        "outputId": "1aa0174f-d407-44f5-fe83-3d4c5b652e90"
      },
      "outputs": [
        {
          "data": {
            "text/plain": [
              "['a', 'e', 'q', 'w']"
            ]
          },
          "execution_count": 36,
          "metadata": {},
          "output_type": "execute_result"
        }
      ],
      "source": [
        "a=['a','q','w','e']\n",
        "a.sort()\n",
        "a"
      ]
    },
    {
      "cell_type": "markdown",
      "metadata": {
        "id": "F2YTEfiTGOad"
      },
      "source": [
        "**binary to decimal**"
      ]
    },
    {
      "cell_type": "code",
      "execution_count": 38,
      "metadata": {
        "colab": {
          "base_uri": "https://localhost:8080/"
        },
        "id": "taxyOCQWBicV",
        "outputId": "932c180e-792d-436f-b7ce-436579b716b4"
      },
      "outputs": [
        {
          "data": {
            "text/plain": [
              "5"
            ]
          },
          "execution_count": 38,
          "metadata": {},
          "output_type": "execute_result"
        }
      ],
      "source": [
        "binary=input('enter binary')\n",
        "dec=int(binary,2)\n",
        "dec"
      ]
    },
    {
      "cell_type": "markdown",
      "metadata": {
        "id": "sAj4rePWGSiX"
      },
      "source": [
        "**decimal to binary**"
      ]
    },
    {
      "cell_type": "code",
      "execution_count": 39,
      "metadata": {
        "colab": {
          "base_uri": "https://localhost:8080/"
        },
        "id": "iprPqiP-DXhs",
        "outputId": "19336c5b-a10c-4840-8ab5-4888a3ab815f"
      },
      "outputs": [
        {
          "name": "stdout",
          "output_type": "stream",
          "text": [
            "101\n"
          ]
        }
      ],
      "source": [
        "dec=int(input('enter decimal'))\n",
        "print('{0:b}'.format(dec))"
      ]
    },
    {
      "cell_type": "code",
      "execution_count": 40,
      "metadata": {},
      "outputs": [
        {
          "data": {
            "text/plain": [
              "'0b111000'"
            ]
          },
          "execution_count": 40,
          "metadata": {},
          "output_type": "execute_result"
        }
      ],
      "source": [
        "bin(56)"
      ]
    },
    {
      "cell_type": "code",
      "execution_count": 41,
      "metadata": {},
      "outputs": [
        {
          "data": {
            "text/plain": [
              "'111000'"
            ]
          },
          "execution_count": 41,
          "metadata": {},
          "output_type": "execute_result"
        }
      ],
      "source": [
        "bin(56).replace(\"0b\",\"\")"
      ]
    },
    {
      "cell_type": "markdown",
      "metadata": {
        "id": "hayMEvp4GZSt"
      },
      "source": [
        "**function (print vs return)**"
      ]
    },
    {
      "cell_type": "code",
      "execution_count": 45,
      "metadata": {
        "colab": {
          "base_uri": "https://localhost:8080/"
        },
        "id": "95OdhDwDQTvc",
        "outputId": "210807b4-4dcb-44f9-d273-87d9984f38d1"
      },
      "outputs": [
        {
          "name": "stdout",
          "output_type": "stream",
          "text": [
            "hello\n"
          ]
        }
      ],
      "source": [
        "def myfunc():\n",
        "  print('hello')\n",
        "myfunc()"
      ]
    },
    {
      "cell_type": "code",
      "execution_count": 46,
      "metadata": {
        "colab": {
          "base_uri": "https://localhost:8080/"
        },
        "id": "6UMmiZqqQbf-",
        "outputId": "b5f01d48-be6b-4adf-a44c-d9684fcab74b"
      },
      "outputs": [
        {
          "name": "stdout",
          "output_type": "stream",
          "text": [
            "hello\n",
            "None\n"
          ]
        }
      ],
      "source": [
        "print(myfunc())"
      ]
    },
    {
      "cell_type": "code",
      "execution_count": 47,
      "metadata": {
        "colab": {
          "base_uri": "https://localhost:8080/"
        },
        "id": "cRT2SUeLSdzf",
        "outputId": "3b28dd37-b6d1-4040-f726-aa55169db711"
      },
      "outputs": [
        {
          "name": "stdout",
          "output_type": "stream",
          "text": [
            "hello\n"
          ]
        }
      ],
      "source": [
        "def myfunc2():\n",
        "  return \"hello\"\n",
        "print(myfunc2())"
      ]
    },
    {
      "cell_type": "markdown",
      "metadata": {
        "id": "ekjXLTU40ZIn"
      },
      "source": [
        "**function returns a dictionary**"
      ]
    },
    {
      "cell_type": "code",
      "execution_count": 48,
      "metadata": {
        "colab": {
          "base_uri": "https://localhost:8080/"
        },
        "id": "MNhy5_4Yg4A4",
        "outputId": "e3cf4f25-e421-40e2-d320-13910e4d892d"
      },
      "outputs": [
        {
          "data": {
            "text/plain": [
              "{'firstname': 'ali', 'lastname': 'arifin', 'age': 24}"
            ]
          },
          "execution_count": 48,
          "metadata": {},
          "output_type": "execute_result"
        }
      ],
      "source": [
        "def data(fname,lname,age):\n",
        "  return {'firstname':fname,'lastname':lname,'age':age}\n",
        "data('ali','arifin',24)"
      ]
    },
    {
      "cell_type": "markdown",
      "metadata": {
        "id": "KeSpDaTW0mQz"
      },
      "source": [
        "**arbitiary args**"
      ]
    },
    {
      "cell_type": "code",
      "execution_count": 50,
      "metadata": {
        "colab": {
          "base_uri": "https://localhost:8080/"
        },
        "id": "Y8lyGVI7_0Cs",
        "outputId": "2b280331-2a02-4938-c1b8-2f26055fac43"
      },
      "outputs": [
        {
          "name": "stdout",
          "output_type": "stream",
          "text": [
            "(1, 2, 3, 4)\n"
          ]
        }
      ],
      "source": [
        "def alifun(*params):\n",
        "  print(params)\n",
        "alifun(1,2,3,4)"
      ]
    },
    {
      "cell_type": "code",
      "execution_count": 51,
      "metadata": {
        "colab": {
          "base_uri": "https://localhost:8080/"
        },
        "id": "XDprwHeYAgkz",
        "outputId": "b9aac79a-b388-4ec2-c4bc-f6b5ef6871fe"
      },
      "outputs": [
        {
          "name": "stdout",
          "output_type": "stream",
          "text": [
            "1 (2, 3, 4)\n"
          ]
        }
      ],
      "source": [
        "def alifunc(para, *params):\n",
        "  print(para, params)\n",
        "alifunc(1,2,3,4)"
      ]
    },
    {
      "cell_type": "markdown",
      "metadata": {
        "id": "6Zd67EUe0r6p"
      },
      "source": [
        "**keyword arguments**"
      ]
    },
    {
      "cell_type": "code",
      "execution_count": 52,
      "metadata": {
        "colab": {
          "base_uri": "https://localhost:8080/"
        },
        "id": "qScDqBFRBTtq",
        "outputId": "9f9c0f30-de40-4e8e-dcd1-95a7f4b50f8e"
      },
      "outputs": [
        {
          "name": "stdout",
          "output_type": "stream",
          "text": [
            "{'a': 1, 'b': 2, 'c': 3}\n"
          ]
        }
      ],
      "source": [
        "def alifunction(**params):\n",
        "  print(params)\n",
        "alifunction(a=1,b=2,c=3)"
      ]
    },
    {
      "attachments": {},
      "cell_type": "markdown",
      "metadata": {},
      "source": [
        "**join() method WITHOUT passing array or tuple**"
      ]
    },
    {
      "cell_type": "code",
      "execution_count": 53,
      "metadata": {},
      "outputs": [
        {
          "data": {
            "text/plain": [
              "'aliarifinhello'"
            ]
          },
          "execution_count": 53,
          "metadata": {},
          "output_type": "execute_result"
        }
      ],
      "source": [
        "\"\".join(\"ali\" \"arifin\" \"hello\")"
      ]
    },
    {
      "attachments": {},
      "cell_type": "markdown",
      "metadata": {},
      "source": [
        "**LCM of 2 and n**"
      ]
    },
    {
      "cell_type": "code",
      "execution_count": 56,
      "metadata": {},
      "outputs": [
        {
          "data": {
            "text/plain": [
              "30"
            ]
          },
          "execution_count": 56,
          "metadata": {},
          "output_type": "execute_result"
        }
      ],
      "source": [
        "def ali(n):\n",
        "    if n==1:\n",
        "        return 2\n",
        "    else:    \n",
        "        for i in range(1,n+1):\n",
        "            for j in range(1,n+1):\n",
        "                if n*i==2*j:\n",
        "                    return n*i\n",
        "ali(30)"
      ]
    },
    {
      "attachments": {},
      "cell_type": "markdown",
      "metadata": {},
      "source": [
        "**Pascal Triangle** "
      ]
    },
    {
      "cell_type": "code",
      "execution_count": 58,
      "metadata": {},
      "outputs": [
        {
          "name": "stdout",
          "output_type": "stream",
          "text": [
            "[1, 4, 6, 4, 1]\n"
          ]
        }
      ],
      "source": [
        "import math\n",
        "n=4\n",
        "if n==0:\n",
        "    print([1])\n",
        "elif n==1:\n",
        "    print([1,1])\n",
        "else:\n",
        "    a=[1]\n",
        "    for i in range(1,n):\n",
        "        a.append(math.comb(n,i))\n",
        "    a.append(1)\n",
        "    print(a)"
      ]
    },
    {
      "attachments": {},
      "cell_type": "markdown",
      "metadata": {},
      "source": [
        "**List Contains Duplicate**"
      ]
    },
    {
      "cell_type": "code",
      "execution_count": 60,
      "metadata": {},
      "outputs": [
        {
          "data": {
            "text/plain": [
              "True"
            ]
          },
          "execution_count": 60,
          "metadata": {},
          "output_type": "execute_result"
        }
      ],
      "source": [
        "a=[1,3,3,4]\n",
        "len(set(a))!=len(a)"
      ]
    },
    {
      "cell_type": "markdown",
      "metadata": {},
      "source": [
        "**permutations**"
      ]
    },
    {
      "cell_type": "code",
      "execution_count": 64,
      "metadata": {},
      "outputs": [
        {
          "data": {
            "text/plain": [
              "[('a', 'l', 'i'),\n",
              " ('a', 'i', 'l'),\n",
              " ('l', 'a', 'i'),\n",
              " ('l', 'i', 'a'),\n",
              " ('i', 'a', 'l'),\n",
              " ('i', 'l', 'a')]"
            ]
          },
          "execution_count": 64,
          "metadata": {},
          "output_type": "execute_result"
        }
      ],
      "source": [
        "from itertools import permutations\n",
        "a=permutations(\"ali\")\n",
        "list(a)\n"
      ]
    }
  ],
  "metadata": {
    "colab": {
      "provenance": []
    },
    "kernelspec": {
      "display_name": "Python 3",
      "language": "python",
      "name": "python3"
    },
    "language_info": {
      "codemirror_mode": {
        "name": "ipython",
        "version": 3
      },
      "file_extension": ".py",
      "mimetype": "text/x-python",
      "name": "python",
      "nbconvert_exporter": "python",
      "pygments_lexer": "ipython3",
      "version": "3.10.11"
    }
  },
  "nbformat": 4,
  "nbformat_minor": 0
}
