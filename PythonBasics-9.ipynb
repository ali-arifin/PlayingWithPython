{
  "cells": [
    {
      "cell_type": "markdown",
      "metadata": {
        "id": "b3HOxKM7CNf7"
      },
      "source": [
        "**complex data type: integers, float, complex are immutable**\n",
        "\n",
        "Immutable data types in Python are data types whose values cannot be changed after they are created. Once an immutable object is initialized, its value remains constant throughout its lifetime"
      ]
    },
    {
      "cell_type": "code",
      "execution_count": 1,
      "metadata": {
        "colab": {
          "base_uri": "https://localhost:8080/"
        },
        "id": "hWsvA-Z6tMea",
        "outputId": "4da168c8-ee8a-4d30-85a9-dc8934e10fd8"
      },
      "outputs": [
        {
          "data": {
            "text/plain": [
              "complex"
            ]
          },
          "execution_count": 1,
          "metadata": {},
          "output_type": "execute_result"
        }
      ],
      "source": [
        "a=5j\n",
        "type(a)"
      ]
    },
    {
      "cell_type": "markdown",
      "metadata": {
        "id": "lkzoQDSRlgHK"
      },
      "source": [
        "**.join()** works only on iterable"
      ]
    },
    {
      "cell_type": "code",
      "execution_count": 2,
      "metadata": {
        "colab": {
          "base_uri": "https://localhost:8080/"
        },
        "id": "4Sq-XKobk0sq",
        "outputId": "a1364b98-8c58-466b-8a94-6661c603f4ce"
      },
      "outputs": [
        {
          "name": "stdout",
          "output_type": "stream",
          "text": [
            "ali:arifin:nust\n"
          ]
        }
      ],
      "source": [
        "a=['ali','arifin','nust']\n",
        "print(':'.join(a))\n"
      ]
    },
    {
      "cell_type": "markdown",
      "metadata": {
        "id": "9u5XuWSwCaet"
      },
      "source": [
        "**copy module**\n",
        "\n",
        "The copy module in Python provides functionalities to create copies of objects, specifically offering two types of copies: shallow and deep copies. This is crucial when dealing with mutable objects (like lists, dictionaries, or custom class instances) where simple assignment only creates a reference to the original object, meaning changes to the \"copy\" would also affect the original."
      ]
    },
    {
      "cell_type": "markdown",
      "metadata": {
        "id": "FyIk1HPhCpRt"
      },
      "source": [
        "**copying list by =**     **--> same id**"
      ]
    },
    {
      "cell_type": "code",
      "execution_count": 8,
      "metadata": {
        "colab": {
          "base_uri": "https://localhost:8080/"
        },
        "id": "rBInqIcQp4Gp",
        "outputId": "290d48c2-3b66-4440-f52c-5af546749e57"
      },
      "outputs": [
        {
          "name": "stdout",
          "output_type": "stream",
          "text": [
            "2303589360128 2303589360128\n"
          ]
        }
      ],
      "source": [
        "x=[1,2,3,4]\n",
        "y=x\n",
        "print(id(x),id(y))    # same ID"
      ]
    },
    {
      "cell_type": "markdown",
      "metadata": {
        "id": "nJYuq7-nDBb6"
      },
      "source": [
        "both lists change"
      ]
    },
    {
      "cell_type": "code",
      "execution_count": 9,
      "metadata": {
        "colab": {
          "base_uri": "https://localhost:8080/"
        },
        "id": "oH9wdXHyrTLo",
        "outputId": "acdc0c68-850f-4524-cfbd-4d77147e3923"
      },
      "outputs": [
        {
          "name": "stdout",
          "output_type": "stream",
          "text": [
            "2303589360128 2303589360128 ['a', 2, 3, 4] ['a', 2, 3, 4]\n"
          ]
        }
      ],
      "source": [
        "x[0]='a'\n",
        "print(id(x),id(y),x,y)"
      ]
    },
    {
      "cell_type": "markdown",
      "metadata": {
        "id": "edi3xl09DOf1"
      },
      "source": [
        "**copy.copy() --> different id**"
      ]
    },
    {
      "cell_type": "code",
      "execution_count": 10,
      "metadata": {
        "colab": {
          "base_uri": "https://localhost:8080/"
        },
        "id": "IB1_NQ2Eqr6F",
        "outputId": "c473fe7b-38f5-4b39-e18a-d537054f8146"
      },
      "outputs": [
        {
          "name": "stdout",
          "output_type": "stream",
          "text": [
            "2303589537600 2303589738624\n"
          ]
        }
      ],
      "source": [
        "import copy\n",
        "m=[1,2,3,3]\n",
        "n=copy.copy(m)\n",
        "print(id(m),id(n))"
      ]
    },
    {
      "cell_type": "markdown",
      "metadata": {
        "id": "q4TyNS8ADZNq"
      },
      "source": [
        "only one changes"
      ]
    },
    {
      "cell_type": "code",
      "execution_count": 11,
      "metadata": {
        "colab": {
          "base_uri": "https://localhost:8080/"
        },
        "id": "NELRIVElsamR",
        "outputId": "150cff31-5821-4d7c-9a75-37bc55c86a35"
      },
      "outputs": [
        {
          "name": "stdout",
          "output_type": "stream",
          "text": [
            "2303589537600 2303589738624 ['xx', 2, 3, 3] [1, 2, 3, 3]\n"
          ]
        }
      ],
      "source": [
        "m[0]='xx'\n",
        "print(id(m),id(n),m,n)"
      ]
    },
    {
      "cell_type": "markdown",
      "metadata": {
        "id": "GTMs9TomDfKQ"
      },
      "source": [
        "**copy.deepcopy() --> different id**"
      ]
    },
    {
      "cell_type": "code",
      "execution_count": 12,
      "metadata": {
        "colab": {
          "base_uri": "https://localhost:8080/"
        },
        "id": "74ifxHGbrAYh",
        "outputId": "caeab85d-136b-436a-fab4-b1a59db94512"
      },
      "outputs": [
        {
          "name": "stdout",
          "output_type": "stream",
          "text": [
            "2303589536832 2303589535296\n"
          ]
        }
      ],
      "source": [
        "c=[1,2,3,3]\n",
        "v=copy.deepcopy(c)\n",
        "print(id(c),id(v))"
      ]
    },
    {
      "cell_type": "markdown",
      "metadata": {
        "id": "ypLtx1x9Dmrt"
      },
      "source": [
        "only one changes"
      ]
    },
    {
      "cell_type": "code",
      "execution_count": 13,
      "metadata": {
        "colab": {
          "base_uri": "https://localhost:8080/"
        },
        "id": "C-uc1W2Pr9u2",
        "outputId": "5252be92-5eae-4d50-e26d-6973fa2f6bcf"
      },
      "outputs": [
        {
          "name": "stdout",
          "output_type": "stream",
          "text": [
            "2303589536832 2303589535296 ['yy', 2, 3, 3] [1, 2, 3, 3]\n"
          ]
        }
      ],
      "source": [
        "c[0]='yy'\n",
        "print(id(c),id(v),c,v)"
      ]
    },
    {
      "cell_type": "markdown",
      "metadata": {
        "id": "v4bBbqXEDsoM"
      },
      "source": [
        "**Practice with dictionary, copying by =**"
      ]
    },
    {
      "cell_type": "code",
      "execution_count": 19,
      "metadata": {
        "colab": {
          "base_uri": "https://localhost:8080/"
        },
        "id": "-BRl2syouTSU",
        "outputId": "41c2aa81-6dc8-4790-d07f-80405f2a7a7f"
      },
      "outputs": [
        {
          "name": "stdout",
          "output_type": "stream",
          "text": [
            "{'name': 'ali', 'age': 24, 'school': 'ups'}\n",
            "{'name': 'ali', 'age': 24, 'school': 'ups'}\n"
          ]
        }
      ],
      "source": [
        "dic={'name':'','age':'','school':''}\n",
        "z=dic\n",
        "z['name']='ali'\n",
        "z['age']=24\n",
        "z['school']='ups'\n",
        "print(z,dic,sep='\\n')"
      ]
    },
    {
      "cell_type": "markdown",
      "metadata": {
        "id": "cqVy5yxvD0by"
      },
      "source": [
        "**copying by deepcopy()**"
      ]
    },
    {
      "cell_type": "code",
      "execution_count": 20,
      "metadata": {
        "colab": {
          "base_uri": "https://localhost:8080/"
        },
        "id": "97LWSgPxvn84",
        "outputId": "21eedb47-52c5-40b5-b36e-d5aae73ff1bd"
      },
      "outputs": [
        {
          "name": "stdout",
          "output_type": "stream",
          "text": [
            "{'name': 'ali', 'age': 24, 'school': 'ups'}\n",
            "{'name': '', 'age': '', 'school': ''}\n"
          ]
        }
      ],
      "source": [
        "dic1={'name':'','age':'','school':''}\n",
        "d=copy.deepcopy(dic1)\n",
        "d['name']='ali'\n",
        "d['age']=24\n",
        "d['school']='ups'\n",
        "print(d,dic1,sep='\\n')"
      ]
    },
    {
      "cell_type": "markdown",
      "metadata": {
        "id": "hVLHnWJRAW1h"
      },
      "source": [
        "**Number Guess Game: using while loop (True & break)**"
      ]
    },
    {
      "cell_type": "code",
      "execution_count": 21,
      "metadata": {
        "colab": {
          "base_uri": "https://localhost:8080/"
        },
        "id": "nl2ZIbr1yCeB",
        "outputId": "e024b06c-7e80-44cd-eb87-9cd5dac7d754"
      },
      "outputs": [
        {
          "name": "stdout",
          "output_type": "stream",
          "text": [
            "You guessed 5. Sorry, that isn’t it. Try again.\n",
            "You guessed 4. Sorry, that isn’t it. Try again.\n",
            "You guessed 3. That is correct! You win!\n"
          ]
        }
      ],
      "source": [
        "import random\n",
        "number = random.randint(1,10)\n",
        "while True:\n",
        "    guess = input(\"Guess a number between 1 and 10: \")\n",
        "    if int(guess) == number:\n",
        "        print(f\"You guessed {guess}. That is correct! You win!\")\n",
        "        break\n",
        "    else:\n",
        "        print(f\"You guessed {guess}. Sorry, that isn’t it. Try again.\")"
      ]
    },
    {
      "cell_type": "markdown",
      "metadata": {
        "id": "6NmFUpWhAhmD"
      },
      "source": [
        "Code without break"
      ]
    },
    {
      "cell_type": "code",
      "execution_count": 23,
      "metadata": {
        "colab": {
          "base_uri": "https://localhost:8080/"
        },
        "id": "oZh0rHhizC4n",
        "outputId": "edba5f6b-46c8-4fbb-b241-ed9312d573ab"
      },
      "outputs": [
        {
          "name": "stdout",
          "output_type": "stream",
          "text": [
            "You guessed 5. Sorry, that isn’t it. Try again.\n",
            "You guessed 4. Sorry, that isn’t it. Try again.\n",
            "You guessed 3. Sorry, that isn’t it. Try again.\n",
            "You guessed 3. Sorry, that isn’t it. Try again.\n",
            "You guessed 2. That is correct! You win!\n"
          ]
        }
      ],
      "source": [
        "import random\n",
        "number = random.randint(1,10)\n",
        "isGuessRight=False\n",
        "while isGuessRight != True:\n",
        "    guess = input(\"Guess a number between 1 and 10: \")\n",
        "    if int(guess) == number:\n",
        "        print(f\"You guessed {guess}. That is correct! You win!\")\n",
        "        isGuessRight=True\n",
        "    else:\n",
        "        print(f\"You guessed {guess}. Sorry, that isn’t it. Try again.\")"
      ]
    },
    {
      "cell_type": "markdown",
      "metadata": {
        "id": "rbX-9qlP_giW"
      },
      "source": [
        "**bytes(): creating 4 byte object (empty), they are immutable**\n",
        "\n",
        "By passing a single integer to bytes(), Python will create a bytes object of that length, filled with zero values"
      ]
    },
    {
      "cell_type": "code",
      "execution_count": 24,
      "metadata": {
        "colab": {
          "base_uri": "https://localhost:8080/"
        },
        "id": "yJqOq3Ix5kz4",
        "outputId": "5aa0e4c0-45e5-48a9-95d1-c821310b5d97"
      },
      "outputs": [
        {
          "name": "stdout",
          "output_type": "stream",
          "text": [
            "b'\\x00\\x00\\x00\\x00'\n",
            "<class 'bytes'>\n"
          ]
        }
      ],
      "source": [
        "empty_bytes= bytes(4)\n",
        "print(empty_bytes)\n",
        "print(type(empty_bytes))"
      ]
    },
    {
      "cell_type": "markdown",
      "metadata": {},
      "source": [
        "Creating a bytes object from a list of integers"
      ]
    },
    {
      "cell_type": "code",
      "execution_count": 25,
      "metadata": {},
      "outputs": [
        {
          "name": "stdout",
          "output_type": "stream",
          "text": [
            "b'ABC'\n"
          ]
        }
      ],
      "source": [
        "data_bytes = bytes([65, 66, 67])\n",
        "print(data_bytes)"
      ]
    },
    {
      "cell_type": "markdown",
      "metadata": {
        "id": "mUtEjMBy_abH"
      },
      "source": [
        "**bytearray are mutable**"
      ]
    },
    {
      "cell_type": "code",
      "execution_count": 26,
      "metadata": {
        "colab": {
          "base_uri": "https://localhost:8080/"
        },
        "id": "SxHUEt0Y951Z",
        "outputId": "d6925050-11cf-4c2b-990f-5bfc2cf9a68c"
      },
      "outputs": [
        {
          "name": "stdout",
          "output_type": "stream",
          "text": [
            "bytearray(b'\\x00\\xad\\xbe\\xef')\n",
            "<class 'bytearray'>\n"
          ]
        }
      ],
      "source": [
        "mutable_bytes=bytearray(b'\\xDE\\xAD\\xBE\\xEF')\n",
        "mutable_bytes[0]=0\n",
        "print(mutable_bytes)\n",
        "print(type(mutable_bytes))"
      ]
    },
    {
      "cell_type": "code",
      "execution_count": 31,
      "metadata": {
        "colab": {
          "base_uri": "https://localhost:8080/"
        },
        "id": "p1uSp0LSPtHJ",
        "outputId": "797a1391-4ad2-4968-ea41-f1e4de85a5f9"
      },
      "outputs": [
        {
          "data": {
            "text/plain": [
              "5.9999999999"
            ]
          },
          "execution_count": 31,
          "metadata": {},
          "output_type": "execute_result"
        }
      ],
      "source": [
        "import math\n",
        "a=-5.9999999999\n",
        "math.fabs(a)   # returns the absolute value of a number"
      ]
    }
  ],
  "metadata": {
    "colab": {
      "collapsed_sections": [],
      "name": "Aws.ipynb",
      "provenance": []
    },
    "kernelspec": {
      "display_name": "Python 3",
      "name": "python3"
    },
    "language_info": {
      "codemirror_mode": {
        "name": "ipython",
        "version": 3
      },
      "file_extension": ".py",
      "mimetype": "text/x-python",
      "name": "python",
      "nbconvert_exporter": "python",
      "pygments_lexer": "ipython3",
      "version": "3.10.11"
    }
  },
  "nbformat": 4,
  "nbformat_minor": 0
}
