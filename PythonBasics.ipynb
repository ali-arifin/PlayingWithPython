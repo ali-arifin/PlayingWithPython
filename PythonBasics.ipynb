{
  "cells": [
    {
      "cell_type": "markdown",
      "metadata": {},
      "source": [
        "**.lower()**"
      ]
    },
    {
      "cell_type": "code",
      "execution_count": 2,
      "metadata": {
        "colab": {
          "base_uri": "https://localhost:8080/",
          "height": 35
        },
        "id": "KhzjXfZ3sJ2X",
        "outputId": "516af39e-40e7-4d6e-b293-daf6b27bf7d9"
      },
      "outputs": [
        {
          "data": {
            "text/plain": [
              "'ali'"
            ]
          },
          "execution_count": 2,
          "metadata": {},
          "output_type": "execute_result"
        }
      ],
      "source": [
        "a= \"ALI\".lower()\n",
        "a"
      ]
    },
    {
      "cell_type": "markdown",
      "metadata": {
        "id": "9-wSnqaqfDqx"
      },
      "source": [
        "**Adding elements in list**\n",
        "\n",
        "**-append()**\n",
        "\n",
        "**-insert()**"
      ]
    },
    {
      "cell_type": "code",
      "execution_count": 6,
      "metadata": {
        "colab": {
          "base_uri": "https://localhost:8080/"
        },
        "id": "H7XkS0YzRUq3",
        "outputId": "2ae1a6c7-c604-4b63-8916-9a5baf41ce92"
      },
      "outputs": [
        {
          "data": {
            "text/plain": [
              "[1, 2, 3, 4, 5]"
            ]
          },
          "execution_count": 6,
          "metadata": {},
          "output_type": "execute_result"
        }
      ],
      "source": [
        "# .append() takes only one argument\n",
        "list=[1,2,3,4]\n",
        "list.append(5)\n",
        "list"
      ]
    },
    {
      "cell_type": "code",
      "execution_count": 7,
      "metadata": {
        "colab": {
          "base_uri": "https://localhost:8080/"
        },
        "id": "-O1bDigbSW5O",
        "outputId": "8f77d313-aef6-4a9f-a1a6-156e5ed89022"
      },
      "outputs": [
        {
          "data": {
            "text/plain": [
              "['NUM', 1, 2, 3, 4, 5]"
            ]
          },
          "execution_count": 7,
          "metadata": {},
          "output_type": "execute_result"
        }
      ],
      "source": [
        "# .insert(index,object)\n",
        "list.insert(0,\"NUM\")\n",
        "list"
      ]
    },
    {
      "cell_type": "markdown",
      "metadata": {},
      "source": [
        "**create list**"
      ]
    },
    {
      "cell_type": "code",
      "execution_count": 8,
      "metadata": {
        "colab": {
          "base_uri": "https://localhost:8080/"
        },
        "id": "PddwAQK-Slbd",
        "outputId": "ae0e2b47-6d01-4427-a6dd-71d43c21255a"
      },
      "outputs": [
        {
          "data": {
            "text/plain": [
              "[0, 1, 2, 3, 4]"
            ]
          },
          "execution_count": 8,
          "metadata": {},
          "output_type": "execute_result"
        }
      ],
      "source": [
        "looplist=[]\n",
        "for i in range(5):\n",
        "  looplist.append(i)\n",
        "looplist"
      ]
    },
    {
      "cell_type": "code",
      "execution_count": 9,
      "metadata": {
        "colab": {
          "base_uri": "https://localhost:8080/"
        },
        "id": "YFqs18LMTgvl",
        "outputId": "14a6fb61-0a18-4b63-fc47-dee01ec80d2f"
      },
      "outputs": [
        {
          "data": {
            "text/plain": [
              "[0, 1, 2, 3, 4, 5, 6, 7, 8, 9]"
            ]
          },
          "execution_count": 9,
          "metadata": {},
          "output_type": "execute_result"
        }
      ],
      "source": [
        "x=[i for i in range(10)]\n",
        "x"
      ]
    },
    {
      "cell_type": "code",
      "execution_count": 24,
      "metadata": {
        "colab": {
          "base_uri": "https://localhost:8080/"
        },
        "id": "mzG6hcJHJPdl",
        "outputId": "48cbce76-315b-4322-a6f6-df6ad305613f"
      },
      "outputs": [
        {
          "data": {
            "text/plain": [
              "[0, 2, 4, 6, 8, 10, 12, 14]"
            ]
          },
          "execution_count": 24,
          "metadata": {},
          "output_type": "execute_result"
        }
      ],
      "source": [
        "c=[i for i in range(15) if i%2==0]\n",
        "c"
      ]
    },
    {
      "cell_type": "markdown",
      "metadata": {
        "id": "s2QMCZX5en9x"
      },
      "source": [
        "**Removing elements in list**\n",
        "\n",
        "**-del command**\n",
        "\n",
        "**-remove()**\n",
        "\n",
        "**-pop()**"
      ]
    },
    {
      "cell_type": "code",
      "execution_count": 10,
      "metadata": {
        "colab": {
          "base_uri": "https://localhost:8080/"
        },
        "id": "lCnV9b_IbK94",
        "outputId": "7800c100-5ead-405c-e73f-f2bf8c7cf954"
      },
      "outputs": [
        {
          "data": {
            "text/plain": [
              "['a', 'b', 'c']"
            ]
          },
          "execution_count": 10,
          "metadata": {},
          "output_type": "execute_result"
        }
      ],
      "source": [
        "#del command uses index\n",
        "y=['a','b','c','d']\n",
        "del y[-1]\n",
        "y"
      ]
    },
    {
      "cell_type": "code",
      "execution_count": 11,
      "metadata": {
        "colab": {
          "base_uri": "https://localhost:8080/"
        },
        "id": "dY0PcgT-bU22",
        "outputId": "5d3cab5f-111f-4615-b0a9-fbbe28633e1f"
      },
      "outputs": [
        {
          "data": {
            "text/plain": [
              "['b', 'c']"
            ]
          },
          "execution_count": 11,
          "metadata": {},
          "output_type": "execute_result"
        }
      ],
      "source": [
        "#.remove() uses value\n",
        "y.remove('a')\n",
        "y"
      ]
    },
    {
      "cell_type": "code",
      "execution_count": 12,
      "metadata": {
        "colab": {
          "base_uri": "https://localhost:8080/",
          "height": 35
        },
        "id": "Es2bm7SMbpHf",
        "outputId": "8f4ea725-596f-437e-ce28-409a010cefdc"
      },
      "outputs": [
        {
          "data": {
            "text/plain": [
              "'x'"
            ]
          },
          "execution_count": 12,
          "metadata": {},
          "output_type": "execute_result"
        }
      ],
      "source": [
        "#pop() removes but returns the removed value so that you can use it later\n",
        "#by default it removes last value\n",
        "#but if you specify index value it can remove that\n",
        "\n",
        "z=['x','y','z']\n",
        "z.pop(0) # don't need to write z in next line"
      ]
    },
    {
      "cell_type": "markdown",
      "metadata": {
        "id": "_2MxV2klehzo"
      },
      "source": [
        "**.clear()**"
      ]
    },
    {
      "cell_type": "code",
      "execution_count": 13,
      "metadata": {
        "colab": {
          "base_uri": "https://localhost:8080/"
        },
        "id": "fFPsNVQneMwS",
        "outputId": "488be388-7e3d-4edf-ca9c-9da0582070ef"
      },
      "outputs": [
        {
          "data": {
            "text/plain": [
              "[]"
            ]
          },
          "execution_count": 13,
          "metadata": {},
          "output_type": "execute_result"
        }
      ],
      "source": [
        "#.clear() removes all items in list\n",
        "q=[1,2,3,4,5]\n",
        "q.clear()\n",
        "q"
      ]
    },
    {
      "cell_type": "markdown",
      "metadata": {
        "id": "vMdPpeBDfRD5"
      },
      "source": [
        "**Copying a list**\n",
        "\n",
        "**- alist = blist (direct assignment)**\n",
        "\n",
        "**- copy()**\n",
        "\n",
        "**- slicing**"
      ]
    },
    {
      "cell_type": "code",
      "execution_count": 14,
      "metadata": {
        "colab": {
          "base_uri": "https://localhost:8080/"
        },
        "id": "zfLzxM3GfmdY",
        "outputId": "6f1215de-fbe9-4167-808b-ff05ada2b80c"
      },
      "outputs": [
        {
          "name": "stdout",
          "output_type": "stream",
          "text": [
            "[22, 33, 44] [22, 33, 44]\n"
          ]
        }
      ],
      "source": [
        "# alist=blist    pass by reference (same copy is shared, if one is changed then the other gets too)\n",
        "alist=[11,22,33,44]\n",
        "blist=alist\n",
        "alist.remove(11)\n",
        "print(alist,blist)"
      ]
    },
    {
      "cell_type": "code",
      "execution_count": 15,
      "metadata": {
        "colab": {
          "base_uri": "https://localhost:8080/"
        },
        "id": "StztcABvhOMX",
        "outputId": "043a4490-1589-4970-b2c9-cca5c0f65bdf"
      },
      "outputs": [
        {
          "data": {
            "text/plain": [
              "[22, 33, 44]"
            ]
          },
          "execution_count": 15,
          "metadata": {},
          "output_type": "execute_result"
        }
      ],
      "source": [
        "#copy()   no sharing\n",
        "clist=alist.copy()\n",
        "alist.clear()\n",
        "clist"
      ]
    },
    {
      "cell_type": "markdown",
      "metadata": {
        "id": "zWDOuGGOh_gj"
      },
      "source": [
        "**.count()**"
      ]
    },
    {
      "cell_type": "code",
      "execution_count": 16,
      "metadata": {
        "colab": {
          "base_uri": "https://localhost:8080/"
        },
        "id": "tAo19YkWiA0D",
        "outputId": "5aae152f-2c27-47d8-8026-4bc7312ecde8"
      },
      "outputs": [
        {
          "data": {
            "text/plain": [
              "3"
            ]
          },
          "execution_count": 16,
          "metadata": {},
          "output_type": "execute_result"
        }
      ],
      "source": [
        "#count of individual element in list\n",
        "lis=[11,22,33,44,55,55,55]\n",
        "lis.count(55)\n"
      ]
    },
    {
      "cell_type": "markdown",
      "metadata": {
        "id": "cggV00vPiVvN"
      },
      "source": [
        "**.index()**"
      ]
    },
    {
      "cell_type": "code",
      "execution_count": 17,
      "metadata": {
        "colab": {
          "base_uri": "https://localhost:8080/"
        },
        "id": "zZQyA-AxhsOe",
        "outputId": "85ce7547-13c4-4c5d-cafd-8689fd83d27e"
      },
      "outputs": [
        {
          "data": {
            "text/plain": [
              "2"
            ]
          },
          "execution_count": 17,
          "metadata": {},
          "output_type": "execute_result"
        }
      ],
      "source": [
        "#return index\n",
        "lis.index(33)"
      ]
    },
    {
      "cell_type": "markdown",
      "metadata": {},
      "source": [
        "**.reverse()**"
      ]
    },
    {
      "cell_type": "code",
      "execution_count": 34,
      "metadata": {
        "colab": {
          "base_uri": "https://localhost:8080/"
        },
        "id": "GXkbSiIMjitj",
        "outputId": "867e1576-ecc3-47a9-b4e1-e92c6d0f2716"
      },
      "outputs": [
        {
          "data": {
            "text/plain": [
              "['nust', 'arifin', 'ali']"
            ]
          },
          "execution_count": 34,
          "metadata": {},
          "output_type": "execute_result"
        }
      ],
      "source": [
        "mylist=['ali','arifin','nust']\n",
        "mylist.reverse()\n",
        "mylist\n"
      ]
    },
    {
      "cell_type": "code",
      "execution_count": 20,
      "metadata": {
        "id": "JMA9n4QOj9wZ"
      },
      "outputs": [
        {
          "data": {
            "text/plain": [
              "['ali', 'arifin', 'nust']"
            ]
          },
          "execution_count": 20,
          "metadata": {},
          "output_type": "execute_result"
        }
      ],
      "source": [
        "mylist.sort()\n",
        "mylist"
      ]
    },
    {
      "cell_type": "markdown",
      "metadata": {
        "id": "XLb2jHQmnnEk"
      },
      "source": [
        "**append vs extend**\n"
      ]
    },
    {
      "cell_type": "code",
      "execution_count": 22,
      "metadata": {
        "colab": {
          "base_uri": "https://localhost:8080/"
        },
        "id": "lTJrKbI8nqYo",
        "outputId": "8c4dbe93-0b8b-4968-99d7-560b0ad4a297"
      },
      "outputs": [
        {
          "data": {
            "text/plain": [
              "[1, 2, 3, 4, 5, [6, 7, 8]]"
            ]
          },
          "execution_count": 22,
          "metadata": {},
          "output_type": "execute_result"
        }
      ],
      "source": [
        "m=[1,2,3,4,5]\n",
        "m.append([6,7,8])\n",
        "m"
      ]
    },
    {
      "cell_type": "code",
      "execution_count": 23,
      "metadata": {
        "colab": {
          "base_uri": "https://localhost:8080/"
        },
        "id": "qxAcyft0nz2R",
        "outputId": "a94c6696-2f3e-4cc7-d0ac-3db92120b333"
      },
      "outputs": [
        {
          "data": {
            "text/plain": [
              "[1, 2, 3, 4, 5, 6, 7, 8]"
            ]
          },
          "execution_count": 23,
          "metadata": {},
          "output_type": "execute_result"
        }
      ],
      "source": [
        "n=[1,2,3,4,5]\n",
        "n.extend([6,7,8])\n",
        "n"
      ]
    },
    {
      "cell_type": "markdown",
      "metadata": {},
      "source": [
        "**negative indexes in list**"
      ]
    },
    {
      "cell_type": "code",
      "execution_count": 27,
      "metadata": {
        "colab": {
          "base_uri": "https://localhost:8080/"
        },
        "id": "QlJEOSI7K0lT",
        "outputId": "1712a128-0d0d-4079-c33d-033e19eea57a"
      },
      "outputs": [
        {
          "data": {
            "text/plain": [
              "[]"
            ]
          },
          "execution_count": 27,
          "metadata": {},
          "output_type": "execute_result"
        }
      ],
      "source": [
        "li=[1,2,3,4,55,66,777,69,96]\n",
        "li[-4:-7]"
      ]
    },
    {
      "cell_type": "code",
      "execution_count": 28,
      "metadata": {
        "colab": {
          "base_uri": "https://localhost:8080/"
        },
        "id": "mBQa-6ozLIfE",
        "outputId": "d1b824e7-4013-436e-80d3-e7f14e60eab0"
      },
      "outputs": [
        {
          "data": {
            "text/plain": [
              "[66, 55, 4]"
            ]
          },
          "execution_count": 28,
          "metadata": {},
          "output_type": "execute_result"
        }
      ],
      "source": [
        "li[-4:-7:-1]"
      ]
    },
    {
      "cell_type": "code",
      "execution_count": 29,
      "metadata": {
        "colab": {
          "base_uri": "https://localhost:8080/"
        },
        "id": "VTtQjU6RMZR5",
        "outputId": "d84327c9-6b1b-45b7-8d3f-f5a618547e39"
      },
      "outputs": [
        {
          "data": {
            "text/plain": [
              "[96, 69, 777, 66, 55, 4, 3, 2, 1]"
            ]
          },
          "execution_count": 29,
          "metadata": {},
          "output_type": "execute_result"
        }
      ],
      "source": [
        "li[::-1]"
      ]
    },
    {
      "cell_type": "code",
      "execution_count": 30,
      "metadata": {
        "colab": {
          "base_uri": "https://localhost:8080/"
        },
        "id": "XLcL6VYpMgFh",
        "outputId": "b70b19e7-1414-4f7f-b9ca-5abf561dfc5f"
      },
      "outputs": [
        {
          "data": {
            "text/plain": [
              "[96, 777, 55, 3, 1]"
            ]
          },
          "execution_count": 30,
          "metadata": {},
          "output_type": "execute_result"
        }
      ],
      "source": [
        "li[::-2]"
      ]
    },
    {
      "cell_type": "code",
      "execution_count": 31,
      "metadata": {
        "colab": {
          "base_uri": "https://localhost:8080/"
        },
        "id": "v6cPXcVnMwpK",
        "outputId": "7d06e2f3-2ad7-4428-df68-930b9875130f"
      },
      "outputs": [
        {
          "data": {
            "text/plain": [
              "[3, 4, 55, 66, 777]"
            ]
          },
          "execution_count": 31,
          "metadata": {},
          "output_type": "execute_result"
        }
      ],
      "source": [
        "li[2:-2]"
      ]
    },
    {
      "cell_type": "code",
      "execution_count": 32,
      "metadata": {
        "colab": {
          "base_uri": "https://localhost:8080/"
        },
        "id": "iW5AykvfM7YZ",
        "outputId": "1fa153d0-2503-4498-e02d-e92b40dd1fb8"
      },
      "outputs": [
        {
          "data": {
            "text/plain": [
              "[]"
            ]
          },
          "execution_count": 32,
          "metadata": {},
          "output_type": "execute_result"
        }
      ],
      "source": [
        "li[2:-2:-1]"
      ]
    },
    {
      "cell_type": "markdown",
      "metadata": {
        "id": "CKefXXc9Q26J"
      },
      "source": [
        "**sets**"
      ]
    },
    {
      "cell_type": "code",
      "execution_count": 35,
      "metadata": {
        "colab": {
          "base_uri": "https://localhost:8080/"
        },
        "id": "PNQx76l1O5Y8",
        "outputId": "3665f914-172f-428e-e30f-e93d7ea89785"
      },
      "outputs": [
        {
          "data": {
            "text/plain": [
              "{1, 2, 3}"
            ]
          },
          "execution_count": 35,
          "metadata": {},
          "output_type": "execute_result"
        }
      ],
      "source": [
        "{1,2,3,1,1,1}"
      ]
    },
    {
      "cell_type": "code",
      "execution_count": 47,
      "metadata": {
        "colab": {
          "base_uri": "https://localhost:8080/"
        },
        "id": "HH4tgXqpQ48A",
        "outputId": "77201b14-0e9d-4cdd-865a-b6a60e64c1d2"
      },
      "outputs": [
        {
          "data": {
            "text/plain": [
              "[1, 2, 3, 4, 5]"
            ]
          },
          "execution_count": 47,
          "metadata": {},
          "output_type": "execute_result"
        }
      ],
      "source": [
        "#remove duplicates in list -> have to use for loop\n",
        "#but it is easy with sets!\n",
        "\n",
        "hislist=[1,2,3,4,4,4,4,5,5]\n",
        "set(hislist)\n",
        "myset=set(hislist)\n",
        "[*myset]"
      ]
    }
  ],
  "metadata": {
    "colab": {
      "name": "PIAIC class5",
      "provenance": []
    },
    "kernelspec": {
      "display_name": "Python 3",
      "name": "python3"
    },
    "language_info": {
      "codemirror_mode": {
        "name": "ipython",
        "version": 3
      },
      "file_extension": ".py",
      "mimetype": "text/x-python",
      "name": "python",
      "nbconvert_exporter": "python",
      "pygments_lexer": "ipython3",
      "version": "3.10.11"
    }
  },
  "nbformat": 4,
  "nbformat_minor": 0
}
