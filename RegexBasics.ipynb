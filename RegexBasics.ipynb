{
 "cells": [
  {
   "cell_type": "markdown",
   "id": "369c4fb5",
   "metadata": {},
   "source": [
    "**Regex in Python**"
   ]
  },
  {
   "cell_type": "code",
   "execution_count": 1,
   "id": "373b747d",
   "metadata": {},
   "outputs": [],
   "source": [
    "import re"
   ]
  },
  {
   "cell_type": "markdown",
   "id": "694de079",
   "metadata": {},
   "source": [
    "The **re.findall()** function returns a list of matches to a regular expression. It requires two parameters. The first is the string containing the regular expression pattern, and the second is the string you want to search through."
   ]
  },
  {
   "cell_type": "code",
   "execution_count": 4,
   "id": "0bdebbe2",
   "metadata": {},
   "outputs": [
    {
     "data": {
      "text/plain": [
       "['ts', 'ts']"
      ]
     },
     "execution_count": 4,
     "metadata": {},
     "output_type": "execute_result"
    }
   ],
   "source": [
    "re.findall(\"ts\", \"tsnow, tshah, bmoreno\")"
   ]
  },
  {
   "cell_type": "code",
   "execution_count": 5,
   "id": "673afbee",
   "metadata": {},
   "outputs": [
    {
     "data": {
      "text/plain": [
       "['ts', 'ts', 'ts']"
      ]
     },
     "execution_count": 5,
     "metadata": {},
     "output_type": "execute_result"
    }
   ],
   "source": [
    "re.findall(\"ts\", \"tsnow, tshah, bmorenots\")"
   ]
  },
  {
   "cell_type": "code",
   "execution_count": 13,
   "id": "ab6be217",
   "metadata": {},
   "outputs": [
    {
     "data": {
      "text/plain": [
       "['h', '3', '2', 'r', '5', 'b', '1', '7']"
      ]
     },
     "execution_count": 13,
     "metadata": {},
     "output_type": "execute_result"
    }
   ],
   "source": [
    "re.findall(\"\\w\", \"h32r5b17\")              # alpha-numeric"
   ]
  },
  {
   "cell_type": "code",
   "execution_count": null,
   "id": "9adbc73f",
   "metadata": {},
   "outputs": [
    {
     "data": {
      "text/plain": [
       "['h32r5b17']"
      ]
     },
     "execution_count": 19,
     "metadata": {},
     "output_type": "execute_result"
    }
   ],
   "source": [
    "re.findall(\"\\w+\", \"h32r5b17\")            # one or more occurrences of a specific character"
   ]
  },
  {
   "cell_type": "code",
   "execution_count": 12,
   "id": "9b430cd7",
   "metadata": {},
   "outputs": [
    {
     "data": {
      "text/plain": [
       "['3', '2', '5', '1', '7']"
      ]
     },
     "execution_count": 12,
     "metadata": {},
     "output_type": "execute_result"
    }
   ],
   "source": [
    "re.findall(\"\\d\", \"h32r5b17\")             # digits"
   ]
  },
  {
   "cell_type": "code",
   "execution_count": 11,
   "id": "85bb9710",
   "metadata": {},
   "outputs": [
    {
     "data": {
      "text/plain": [
       "['32', '5', '17']"
      ]
     },
     "execution_count": 11,
     "metadata": {},
     "output_type": "execute_result"
    }
   ],
   "source": [
    "re.findall(\"\\d+\", \"h32r5b17\")"
   ]
  },
  {
   "cell_type": "code",
   "execution_count": 15,
   "id": "f162845c",
   "metadata": {},
   "outputs": [
    {
     "data": {
      "text/plain": [
       "['', '32', '', '5', '', '17', '']"
      ]
     },
     "execution_count": 15,
     "metadata": {},
     "output_type": "execute_result"
    }
   ],
   "source": [
    "re.findall(\"\\d*\", \"h32r5b17\")      # * symbol represents zero, one, or more occurrences of a specific character"
   ]
  },
  {
   "cell_type": "code",
   "execution_count": null,
   "id": "79e31b9c",
   "metadata": {},
   "outputs": [
    {
     "data": {
      "text/plain": [
       "['32', '17', '82', '29', '94']"
      ]
     },
     "execution_count": 16,
     "metadata": {},
     "output_type": "execute_result"
    }
   ],
   "source": [
    "re.findall(\"\\d{2}\", \"h32rb17 k825t0m c2994eh\")    # all matches of exactly two single digits"
   ]
  },
  {
   "cell_type": "code",
   "execution_count": 18,
   "id": "f1d37a6f",
   "metadata": {},
   "outputs": [
    {
     "data": {
      "text/plain": [
       "['32', '17', '825', '0', '299', '4']"
      ]
     },
     "execution_count": 18,
     "metadata": {},
     "output_type": "execute_result"
    }
   ],
   "source": [
    "re.findall(\"\\d{1,3}\", \"h32rb17 k825t0m c2994eh\")    # all matches that have between one and three repetitions of a single digit"
   ]
  },
  {
   "cell_type": "code",
   "execution_count": 21,
   "id": "cd225967",
   "metadata": {},
   "outputs": [
    {
     "name": "stdout",
     "output_type": "stream",
     "text": [
      "['bmoreno: 12', 'tshah: 7', 'sgilmore: 5']\n"
     ]
    }
   ],
   "source": [
    "pattern = \"\\w+:\\s\\d+\"\n",
    "employee_logins_string = \"1001 bmoreno: 12 Marketing 1002 tshah: 7 Human Resources 1003 sgilmore: 5 Finance\"\n",
    "print(re.findall(pattern, employee_logins_string))"
   ]
  },
  {
   "cell_type": "code",
   "execution_count": 23,
   "id": "6e09d1d7",
   "metadata": {},
   "outputs": [
    {
     "data": {
      "text/plain": [
       "['ali@xyz.com', 'arifin@xyz.com', 'karachi@pakistan.com']"
      ]
     },
     "execution_count": 23,
     "metadata": {},
     "output_type": "execute_result"
    }
   ],
   "source": [
    "email_log = '''\n",
    "email received on June 1 from ali@xyz.com\n",
    "email received on June 2 from arifin@xyz.com\n",
    "email received on June 3 from karachi@pakistan.com\n",
    "'''\n",
    "\n",
    "re.findall(\"\\w+@\\w+\\.\\w+\", email_log)"
   ]
  }
 ],
 "metadata": {
  "kernelspec": {
   "display_name": "Python 3",
   "language": "python",
   "name": "python3"
  },
  "language_info": {
   "codemirror_mode": {
    "name": "ipython",
    "version": 3
   },
   "file_extension": ".py",
   "mimetype": "text/x-python",
   "name": "python",
   "nbconvert_exporter": "python",
   "pygments_lexer": "ipython3",
   "version": "3.10.11"
  }
 },
 "nbformat": 4,
 "nbformat_minor": 5
}
