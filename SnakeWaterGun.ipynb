{
  "cells": [
    {
      "cell_type": "markdown",
      "metadata": {
        "id": "r6H6SOoKW4gH"
      },
      "source": [
        "**Snake Water Gun // Rock Paper Scissor** "
      ]
    },
    {
      "cell_type": "code",
      "execution_count": 25,
      "metadata": {
        "colab": {
          "base_uri": "https://localhost:8080/",
          "height": 70
        },
        "id": "-cgoybKbP0l9",
        "outputId": "16aa1e97-0e52-4a81-a3fc-5e0bf6391fed"
      },
      "outputs": [
        {
          "name": "stdout",
          "output_type": "stream",
          "text": [
            "comp chose s\n"
          ]
        },
        {
          "data": {
            "text/plain": [
              "'LOST! HIS SNAKE DRANK YOUR WATER'"
            ]
          },
          "execution_count": 25,
          "metadata": {},
          "output_type": "execute_result"
        }
      ],
      "source": [
        "import random\n",
        "comp=random.randint(1,3)\n",
        "\n",
        "you=input(\"Choose s or w or g: \")\n",
        "\n",
        "if comp == 1:\n",
        "  comp = 's'\n",
        "elif comp == 2:\n",
        "  comp = 'w'\n",
        "else:\n",
        "  comp = 'g'\n",
        "\n",
        "print(f\"comp chose {comp}\")\n",
        "\n",
        "def win(comp,you):\n",
        "  if comp == you:\n",
        "    return 'TIE'\n",
        "  elif comp == 's' and you == 'w':\n",
        "    return 'LOST! HIS SNAKE DRANK YOUR WATER'\n",
        "  elif comp == 's' and you == 'g':\n",
        "    return 'WON! YOUR GUN KILLED HIS SNAKE'\n",
        "  elif comp == 'w' and you == 's':\n",
        "    return 'WON! YOUR SNAKE DRANK HIS WATER'\n",
        "  elif comp == 'w' and you == 'g':\n",
        "    return 'LOST! YOUR GUN DROPPED IN HIS WATER'\n",
        "  elif comp == 'g' and you == 's':\n",
        "    return 'LOST! YOUR SNAKE KILLED BY HIS GUN'\n",
        "  elif comp == 'g' and you == 'w':\n",
        "    return 'WON! HIS GUN FELL INTO YOUR WATER'\n",
        "  \n",
        "win(comp,you)\n",
        "\n",
        "\n",
        "  \n"
      ]
    }
  ],
  "metadata": {
    "colab": {
      "collapsed_sections": [],
      "name": "SnakeWaterGun.ipynb",
      "provenance": []
    },
    "kernelspec": {
      "display_name": "Python 3",
      "name": "python3"
    },
    "language_info": {
      "codemirror_mode": {
        "name": "ipython",
        "version": 3
      },
      "file_extension": ".py",
      "mimetype": "text/x-python",
      "name": "python",
      "nbconvert_exporter": "python",
      "pygments_lexer": "ipython3",
      "version": "3.10.11"
    }
  },
  "nbformat": 4,
  "nbformat_minor": 0
}
