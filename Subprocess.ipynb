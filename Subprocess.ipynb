{
 "cells": [
  {
   "cell_type": "markdown",
   "id": "cf5896f9",
   "metadata": {},
   "source": [
    "Just to show that we are on Linux:"
   ]
  },
  {
   "cell_type": "code",
   "execution_count": 1,
   "id": "6c5cfad3",
   "metadata": {},
   "outputs": [
    {
     "data": {
      "text/plain": [
       "'Linux'"
      ]
     },
     "execution_count": 1,
     "metadata": {},
     "output_type": "execute_result"
    }
   ],
   "source": [
    "import platform\n",
    "platform.system()"
   ]
  },
  {
   "cell_type": "markdown",
   "id": "294ce98f",
   "metadata": {},
   "source": [
    "**subprocess module**\n",
    "\n",
    "The basic ways of using subprocess are the **.run() and .Popen()** methods. \n",
    "\n",
    "There are additional methods, **.call(), .check_output(), and .check_call()**. \n",
    "\n",
    "Usually, you will just want to use **.run()** or one of the two check methods when appropriate. However, when spawning parallel processes or communicating between subprocesses, **.Popen()** has a lot more power!\n",
    "\n",
    "You can think of .run() as the simplest way to run a command.\n",
    "**.Popen()** is the most fully featured way to call external commands. "
   ]
  },
  {
   "cell_type": "code",
   "execution_count": 2,
   "id": "9764972a",
   "metadata": {},
   "outputs": [
    {
     "data": {
      "text/plain": [
       "'Hello, World!'"
      ]
     },
     "execution_count": 2,
     "metadata": {},
     "output_type": "execute_result"
    }
   ],
   "source": [
    "import subprocess\n",
    "\n",
    "x = subprocess.run(['echo', 'Hello, World!'], capture_output=True, text=True)\n",
    "\n",
    "x.stdout.strip()       # Extracting the stdout and stripping any extra whitespace"
   ]
  },
  {
   "cell_type": "code",
   "execution_count": 3,
   "id": "49aa27a5",
   "metadata": {},
   "outputs": [
    {
     "name": "stdout",
     "output_type": "stream",
     "text": [
      "FileHandling.ipynb\t     PythonBasics-2.ipynb  PythonBasics.ipynb\n",
      "GetComputerDetails.ipynb     PythonBasics-3.ipynb  README.md\n",
      "Iterators.ipynb\t\t     PythonBasics-4.ipynb  RegexBasics.ipynb\n",
      "MatplotlibNumpyPandas.ipynb  PythonBasics-5.ipynb  SnakeWaterGun.ipynb\n",
      "Modules.ipynb\t\t     PythonBasics-6.ipynb  UnderstandingRecursion.ipynb\n",
      "PythonBasics-10.ipynb\t     PythonBasics-7.ipynb  VirtualEnvironments.md\n",
      "PythonBasics-11.ipynb\t     PythonBasics-8.ipynb\n",
      "PythonBasics-12.ipynb\t     PythonBasics-9.ipynb\n"
     ]
    },
    {
     "data": {
      "text/plain": [
       "CompletedProcess(args='dir', returncode=0)"
      ]
     },
     "execution_count": 3,
     "metadata": {},
     "output_type": "execute_result"
    }
   ],
   "source": [
    "subprocess.run(\"dir\", shell=True)"
   ]
  },
  {
   "cell_type": "code",
   "execution_count": 4,
   "id": "ff6f166c",
   "metadata": {},
   "outputs": [
    {
     "name": "stdout",
     "output_type": "stream",
     "text": [
      "total 488\n",
      "-rw-rw-rw- 1 codespace root 15840 Sep  7 11:34 FileHandling.ipynb\n",
      "-rw-rw-rw- 1 codespace root 11557 Sep  7 11:34 GetComputerDetails.ipynb\n",
      "-rw-rw-rw- 1 codespace root 11893 Sep  7 11:34 Iterators.ipynb\n",
      "-rw-rw-rw- 1 codespace root 91234 Sep  7 11:34 MatplotlibNumpyPandas.ipynb\n",
      "-rw-rw-rw- 1 codespace root 41170 Sep  7 11:34 Modules.ipynb\n",
      "-rw-rw-rw- 1 codespace root 11229 Sep  7 11:34 PythonBasics-10.ipynb\n",
      "-rw-rw-rw- 1 codespace root 36060 Sep  7 11:34 PythonBasics-11.ipynb\n",
      "-rw-rw-rw- 1 codespace root  9394 Sep  7 11:34 PythonBasics-12.ipynb\n",
      "-rw-rw-rw- 1 codespace root  3471 Sep  7 11:34 PythonBasics-2.ipynb\n",
      "-rw-rw-rw- 1 codespace root 24769 Sep  7 11:34 PythonBasics-3.ipynb\n",
      "-rw-rw-rw- 1 codespace root 11637 Sep  7 11:34 PythonBasics-4.ipynb\n",
      "-rw-rw-rw- 1 codespace root 37382 Sep  7 11:34 PythonBasics-5.ipynb\n",
      "-rw-rw-rw- 1 codespace root 12727 Sep  7 11:34 PythonBasics-6.ipynb\n",
      "-rw-rw-rw- 1 codespace root 44450 Sep  7 11:34 PythonBasics-7.ipynb\n",
      "-rw-rw-rw- 1 codespace root 25838 Sep  7 11:34 PythonBasics-8.ipynb\n",
      "-rw-rw-rw- 1 codespace root 14690 Sep  7 11:34 PythonBasics-9.ipynb\n",
      "-rw-rw-rw- 1 codespace root 18941 Sep  7 11:34 PythonBasics.ipynb\n",
      "-rw-rw-rw- 1 codespace root   367 Sep  7 11:34 README.md\n",
      "-rw-rw-rw- 1 codespace root  5856 Sep  7 11:34 RegexBasics.ipynb\n",
      "-rw-rw-rw- 1 codespace root  2690 Sep  7 11:34 SnakeWaterGun.ipynb\n",
      "-rw-rw-rw- 1 codespace root 24088 Sep  7 11:34 UnderstandingRecursion.ipynb\n",
      "-rw-rw-rw- 1 codespace root  2436 Sep  7 11:34 VirtualEnvironments.md\n"
     ]
    },
    {
     "data": {
      "text/plain": [
       "CompletedProcess(args='ls -l', returncode=0)"
      ]
     },
     "execution_count": 4,
     "metadata": {},
     "output_type": "execute_result"
    }
   ],
   "source": [
    "subprocess.run(\"ls -l\", shell=True)"
   ]
  },
  {
   "cell_type": "code",
   "execution_count": 5,
   "id": "2ddef917",
   "metadata": {},
   "outputs": [
    {
     "name": "stdout",
     "output_type": "stream",
     "text": [
      "total 488\n",
      "-rw-rw-rw- 1 codespace root 15840 Sep  7 11:34 FileHandling.ipynb\n",
      "-rw-rw-rw- 1 codespace root 11557 Sep  7 11:34 GetComputerDetails.ipynb\n",
      "-rw-rw-rw- 1 codespace root 11893 Sep  7 11:34 Iterators.ipynb\n",
      "-rw-rw-rw- 1 codespace root 91234 Sep  7 11:34 MatplotlibNumpyPandas.ipynb\n",
      "-rw-rw-rw- 1 codespace root 41170 Sep  7 11:34 Modules.ipynb\n",
      "-rw-rw-rw- 1 codespace root 11229 Sep  7 11:34 PythonBasics-10.ipynb\n",
      "-rw-rw-rw- 1 codespace root 36060 Sep  7 11:34 PythonBasics-11.ipynb\n",
      "-rw-rw-rw- 1 codespace root  9394 Sep  7 11:34 PythonBasics-12.ipynb\n",
      "-rw-rw-rw- 1 codespace root  3471 Sep  7 11:34 PythonBasics-2.ipynb\n",
      "-rw-rw-rw- 1 codespace root 24769 Sep  7 11:34 PythonBasics-3.ipynb\n",
      "-rw-rw-rw- 1 codespace root 11637 Sep  7 11:34 PythonBasics-4.ipynb\n",
      "-rw-rw-rw- 1 codespace root 37382 Sep  7 11:34 PythonBasics-5.ipynb\n",
      "-rw-rw-rw- 1 codespace root 12727 Sep  7 11:34 PythonBasics-6.ipynb\n",
      "-rw-rw-rw- 1 codespace root 44450 Sep  7 11:34 PythonBasics-7.ipynb\n",
      "-rw-rw-rw- 1 codespace root 25838 Sep  7 11:34 PythonBasics-8.ipynb\n",
      "-rw-rw-rw- 1 codespace root 14690 Sep  7 11:34 PythonBasics-9.ipynb\n",
      "-rw-rw-rw- 1 codespace root 18941 Sep  7 11:34 PythonBasics.ipynb\n",
      "-rw-rw-rw- 1 codespace root   367 Sep  7 11:34 README.md\n",
      "-rw-rw-rw- 1 codespace root  5856 Sep  7 11:34 RegexBasics.ipynb\n",
      "-rw-rw-rw- 1 codespace root  2690 Sep  7 11:34 SnakeWaterGun.ipynb\n",
      "-rw-rw-rw- 1 codespace root 24088 Sep  7 11:34 UnderstandingRecursion.ipynb\n",
      "-rw-rw-rw- 1 codespace root  2436 Sep  7 11:34 VirtualEnvironments.md\n"
     ]
    },
    {
     "data": {
      "text/plain": [
       "CompletedProcess(args=['ls', '-l'], returncode=0)"
      ]
     },
     "execution_count": 5,
     "metadata": {},
     "output_type": "execute_result"
    }
   ],
   "source": [
    "subprocess.run([\"ls\", \"-l\"])"
   ]
  },
  {
   "cell_type": "code",
   "execution_count": 6,
   "id": "03fbe955",
   "metadata": {},
   "outputs": [
    {
     "name": "stdout",
     "output_type": "stream",
     "text": [
      "Tue Sep  9 05:15:31 UTC 2025\n"
     ]
    },
    {
     "data": {
      "text/plain": [
       "CompletedProcess(args='date', returncode=0)"
      ]
     },
     "execution_count": 6,
     "metadata": {},
     "output_type": "execute_result"
    }
   ],
   "source": [
    "subprocess.run(\"date\", shell=True)"
   ]
  },
  {
   "cell_type": "code",
   "execution_count": 7,
   "id": "b2085ffa",
   "metadata": {},
   "outputs": [
    {
     "data": {
      "text/plain": [
       "CompletedProcess(args='uname', returncode=0)"
      ]
     },
     "execution_count": 7,
     "metadata": {},
     "output_type": "execute_result"
    },
    {
     "name": "stdout",
     "output_type": "stream",
     "text": [
      "Linux\n"
     ]
    }
   ],
   "source": [
    "subprocess.run(\"uname\", shell=True)"
   ]
  },
  {
   "cell_type": "code",
   "execution_count": 8,
   "id": "1f8529c5",
   "metadata": {},
   "outputs": [
    {
     "name": "stdout",
     "output_type": "stream",
     "text": [
      "codespace\n"
     ]
    },
    {
     "data": {
      "text/plain": [
       "CompletedProcess(args='whoami', returncode=0)"
      ]
     },
     "execution_count": 8,
     "metadata": {},
     "output_type": "execute_result"
    }
   ],
   "source": [
    "subprocess.run(\"whoami\", shell=True)"
   ]
  },
  {
   "cell_type": "markdown",
   "id": "2d98a8ef",
   "metadata": {},
   "source": [
    "The **call()** command runs a command, waits for it to complete, then returns the return code. Call is older and **.run()** should be used now"
   ]
  },
  {
   "cell_type": "code",
   "execution_count": 9,
   "id": "2534db84",
   "metadata": {},
   "outputs": [
    {
     "name": "stdout",
     "output_type": "stream",
     "text": [
      "Hello from call!\n"
     ]
    },
    {
     "data": {
      "text/plain": [
       "0"
      ]
     },
     "execution_count": 9,
     "metadata": {},
     "output_type": "execute_result"
    }
   ],
   "source": [
    "y = subprocess.call(['echo', 'Hello from call!'])\n",
    "y"
   ]
  },
  {
   "cell_type": "markdown",
   "id": "7195f813",
   "metadata": {},
   "source": [
    "**check_call** and **check_output**\n",
    "\n",
    "Use **check_call()** to receive just the status of a command. \n",
    "\n",
    "Use **check_output()** to also obtain output."
   ]
  },
  {
   "cell_type": "code",
   "execution_count": 10,
   "id": "daf7766b",
   "metadata": {},
   "outputs": [
    {
     "name": "stdout",
     "output_type": "stream",
     "text": [
      "Hello from check_call!\n"
     ]
    },
    {
     "data": {
      "text/plain": [
       "0"
      ]
     },
     "execution_count": 10,
     "metadata": {},
     "output_type": "execute_result"
    }
   ],
   "source": [
    "subprocess.check_call(['echo', 'Hello from check_call!'])\n"
   ]
  },
  {
   "cell_type": "code",
   "execution_count": 11,
   "id": "413d491b",
   "metadata": {},
   "outputs": [
    {
     "data": {
      "text/plain": [
       "'Hello from check_output!'"
      ]
     },
     "execution_count": 11,
     "metadata": {},
     "output_type": "execute_result"
    }
   ],
   "source": [
    "subprocess.check_output(['echo', 'Hello from check_output!'], text=True).strip()\n",
    "\n",
    "# check_output raises a CalledProcessError if the command returns a non-zero exit code"
   ]
  },
  {
   "cell_type": "markdown",
   "id": "95b646da",
   "metadata": {},
   "source": [
    "**Popen()**"
   ]
  },
  {
   "cell_type": "code",
   "execution_count": null,
   "id": "d0b7d446",
   "metadata": {},
   "outputs": [],
   "source": [
    "# Start ping process\n",
    "process = subprocess.Popen(\n",
    "    [\"ping\", \"8.8.8.8\", \"-c\", \"4\"],\n",
    "    stdout=subprocess.PIPE,\n",
    "    text=True\n",
    ")\n",
    "\n",
    "# Read output line-by-line as it comes\n",
    "for line in process.stdout:\n",
    "    print(\"PING OUTPUT:\", line.strip())\n",
    "\n",
    "process.wait()  # Wait for the process to fully complete"
   ]
  },
  {
   "cell_type": "markdown",
   "id": "0f921849",
   "metadata": {},
   "source": [
    "**run()** waits for the entire command to finish, then dumps all output at once. You get no live updates.\n",
    "\n",
    "Line-by-line real-time output reading requires **Popen()**"
   ]
  }
 ],
 "metadata": {
  "kernelspec": {
   "display_name": "Python 3 (ipykernel)",
   "language": "python",
   "name": "python3"
  },
  "language_info": {
   "codemirror_mode": {
    "name": "ipython",
    "version": 3
   },
   "file_extension": ".py",
   "mimetype": "text/x-python",
   "name": "python",
   "nbconvert_exporter": "python",
   "pygments_lexer": "ipython3",
   "version": "3.12.1"
  }
 },
 "nbformat": 4,
 "nbformat_minor": 5
}
